{
 "cells": [
  {
   "cell_type": "markdown",
   "metadata": {},
   "source": [
    "# Daily Model Deployment\n",
    "\n",
    "1. Load Model from S3\n",
    "2. Query past 10 mintues of data from MongoDB\n",
    "3. Build Features\n",
    "4. Make Predictions\n",
    "5. Log predictions to database"
   ]
  },
  {
   "cell_type": "code",
   "execution_count": 4,
   "metadata": {},
   "outputs": [],
   "source": [
    "############### Initialize ###################\n",
    "\n",
    "# Basics\n",
    "from pymongo import MongoClient\n",
    "import os\n",
    "import numpy as np\n",
    "import pandas as pd\n",
    "import time\n",
    "import boto3\n",
    "import io\n",
    "import warnings\n",
    "warnings.filterwarnings('ignore')\n",
    "import time\n",
    "from datetime import date, datetime\n",
    "import subprocess\n",
    "\n",
    "\n",
    "# NLP\n",
    "import nltk\n",
    "import spacy\n",
    "spacy.load('en')\n",
    "from nltk.corpus import stopwords\n",
    "import preprocessor as p\n",
    "\n",
    "# Model Infrastructure\n",
    "from sklearn.feature_extraction.text import TfidfVectorizer\n",
    "from sklearn.decomposition import TruncatedSVD, PCA\n",
    "from sklearn.pipeline import make_pipeline, Pipeline, FeatureUnion\n",
    "from sklearn.preprocessing import Normalizer\n",
    "from sklearn.model_selection import train_test_split\n",
    "from sklearn.model_selection import GridSearchCV\n",
    "from sklearn.metrics import classification_report\n",
    "from sklearn.model_selection import StratifiedKFold\n",
    "from sklearn.model_selection import cross_val_score\n",
    "from sklearn.base import BaseEstimator, TransformerMixin\n",
    "from sklearn.metrics import roc_auc_score, roc_curve, auc\n",
    "from sklearn import metrics\n",
    "import dill as pickle\n",
    "\n",
    "# Models\n",
    "from sklearn.linear_model import LogisticRegression\n",
    "\n",
    "# Database Setup\n",
    "import mysql.connector\n",
    "from sqlalchemy import create_engine\n",
    "from sqlalchemy import inspect\n",
    "from sqlalchemy import MetaData\n",
    "from sqlalchemy import Table\n",
    "from sqlalchemy import Column\n",
    "from sqlalchemy import Integer, String, DateTime, Float"
   ]
  },
  {
   "cell_type": "code",
   "execution_count": 3,
   "metadata": {},
   "outputs": [
    {
     "name": "stdout",
     "output_type": "stream",
     "text": [
      "Model_predictions Table does not exist\n",
      "Model_predictions Table being created....\n"
     ]
    }
   ],
   "source": [
    "########## Database Setup #################\n",
    "User = os.environ['DB_USER']\n",
    "password = os.environ['DB_PWD']\n",
    "dbname = os.environ['DB_NAME']\n",
    "IP = os.environ['IP']\n",
    "\n",
    "engine = create_engine('mysql+mysqlconnector://{}:{}@{}:3306/{}'.format(User,\n",
    "                                                                        password, IP, dbname), echo=False)\n",
    "conn = engine.connect()\n",
    "\n",
    "# Check to see if the tables are created and if not, create them\n",
    "meta = MetaData(engine)\n",
    "\n",
    "# Create prediction table\n",
    "if not engine.dialect.has_table(engine, 'model_predictions'):\n",
    "    print('Model_predictions Table does not exist')\n",
    "    print('Model_predictions Table being created....')\n",
    "    # Time, Source, Current Count, Count Diff\n",
    "    t1 = Table('model_predictions', meta,\n",
    "               Column('run_time', DateTime, default=datetime.utcnow),\n",
    "               Column('model_name', String(30)),\n",
    "               Column('model_version_number', Integer),\n",
    "               Column('Company', String(30)),\n",
    "               Column('Prediction', Integer))\n",
    "    t1.create()\n",
    "else:\n",
    "    print('Model_predictions Table Exists')\n",
    "\n",
    "# Create table object\n",
    "meta = MetaData(engine, reflect=True)\n",
    "model_predictions_table = meta.tables['model_predictions']    \n",
    "\n",
    "# Write Function\n",
    "def database_log(name, version_number, company, prediction):\n",
    "    #Need to log these items to a database.\n",
    "        \n",
    "    ins = model_predictions_table.insert().values(\n",
    "            run_time = datetime.now(),\n",
    "            model_name = name,\n",
    "            model_version_number = version_number,\n",
    "            Company = company,\n",
    "            Prediction = prediction\n",
    "               )\n",
    "    conn.execute(ins)"
   ]
  },
  {
   "cell_type": "code",
   "execution_count": 5,
   "metadata": {},
   "outputs": [
    {
     "data": {
      "text/plain": [
       "CompletedProcess(args=['aws', 's3', 'cp', 's3://brandyn-twitter-sentiment-analysis/Models/Daily_Stock_Prediction_latest.pk', './Models'], returncode=1)"
      ]
     },
     "execution_count": 5,
     "metadata": {},
     "output_type": "execute_result"
    }
   ],
   "source": [
    "# Download the Model\n",
    "subprocess.run(['aws', 's3','cp','s3://brandyn-twitter-sentiment-analysis/Models/Daily_Stock_Prediction_latest.pk','./Models'])"
   ]
  },
  {
   "cell_type": "code",
   "execution_count": 6,
   "metadata": {},
   "outputs": [],
   "source": [
    "###################### Bring In Data #######################\n",
    "#Setup Mongo and create the database and collection\n",
    "User = os.environ['MONGODB_USER']\n",
    "password = os.environ['MONGODB_PASS']\n",
    "IP = os.environ['IP']\n",
    "\n",
    "client = MongoClient(IP, username=User, password=password)\n",
    "db = client['stock_tweets']\n",
    "\n",
    "#Grab references\n",
    "twitter_coll_reference = db.twitter\n",
    "iex_coll_reference = db.iex"
   ]
  },
  {
   "cell_type": "code",
   "execution_count": 8,
   "metadata": {},
   "outputs": [],
   "source": [
    "# Create Data Frame\n",
    "twitter_data = pd.DataFrame(list(twitter_coll_reference.find()))"
   ]
  },
  {
   "cell_type": "code",
   "execution_count": 10,
   "metadata": {},
   "outputs": [
    {
     "data": {
      "text/html": [
       "<div>\n",
       "<style scoped>\n",
       "    .dataframe tbody tr th:only-of-type {\n",
       "        vertical-align: middle;\n",
       "    }\n",
       "\n",
       "    .dataframe tbody tr th {\n",
       "        vertical-align: top;\n",
       "    }\n",
       "\n",
       "    .dataframe thead th {\n",
       "        text-align: right;\n",
       "    }\n",
       "</style>\n",
       "<table border=\"1\" class=\"dataframe\">\n",
       "  <thead>\n",
       "    <tr style=\"text-align: right;\">\n",
       "      <th></th>\n",
       "      <th>Company</th>\n",
       "      <th>_id</th>\n",
       "      <th>created_at</th>\n",
       "      <th>favorite_count</th>\n",
       "      <th>id_str</th>\n",
       "      <th>lang</th>\n",
       "      <th>quote_count</th>\n",
       "      <th>reply_count</th>\n",
       "      <th>retweet_count</th>\n",
       "      <th>retweeted</th>\n",
       "      <th>text</th>\n",
       "      <th>user_followers_count</th>\n",
       "      <th>user_name</th>\n",
       "      <th>user_screen_name</th>\n",
       "      <th>user_statuses_count</th>\n",
       "    </tr>\n",
       "  </thead>\n",
       "  <tbody>\n",
       "    <tr>\n",
       "      <th>0</th>\n",
       "      <td>[TSLA]</td>\n",
       "      <td>5aa6c1ccb60e700001ed139d</td>\n",
       "      <td>Mon Mar 12 18:07:08 +0000 2018</td>\n",
       "      <td>0</td>\n",
       "      <td>973259109133778948</td>\n",
       "      <td>en</td>\n",
       "      <td>0</td>\n",
       "      <td>0</td>\n",
       "      <td>0</td>\n",
       "      <td>False</td>\n",
       "      <td>$TSLA so nice so obvious...</td>\n",
       "      <td>1703</td>\n",
       "      <td>TradeTherapAnalytics</td>\n",
       "      <td>TradeTexasBig</td>\n",
       "      <td>67528</td>\n",
       "    </tr>\n",
       "    <tr>\n",
       "      <th>1</th>\n",
       "      <td>[AAPL]</td>\n",
       "      <td>5aa6c1d7b60e700001ed139e</td>\n",
       "      <td>Mon Mar 12 18:07:19 +0000 2018</td>\n",
       "      <td>0</td>\n",
       "      <td>973259155925434370</td>\n",
       "      <td>en</td>\n",
       "      <td>0</td>\n",
       "      <td>0</td>\n",
       "      <td>0</td>\n",
       "      <td>False</td>\n",
       "      <td>@JoKiddo But how proprietary is that? Does it ...</td>\n",
       "      <td>2901</td>\n",
       "      <td>Gilmo Report</td>\n",
       "      <td>gilmoreport</td>\n",
       "      <td>18524</td>\n",
       "    </tr>\n",
       "    <tr>\n",
       "      <th>2</th>\n",
       "      <td>[AAPL, GOOG, GOOGL]</td>\n",
       "      <td>5aa6c1dcb60e700001ed139f</td>\n",
       "      <td>Mon Mar 12 18:07:23 +0000 2018</td>\n",
       "      <td>0</td>\n",
       "      <td>973259173524918272</td>\n",
       "      <td>en</td>\n",
       "      <td>0</td>\n",
       "      <td>0</td>\n",
       "      <td>0</td>\n",
       "      <td>False</td>\n",
       "      <td>RT @StockTwits: This is the race to $1 trillio...</td>\n",
       "      <td>5256</td>\n",
       "      <td>Mark Hill</td>\n",
       "      <td>MarketsHill</td>\n",
       "      <td>13523</td>\n",
       "    </tr>\n",
       "    <tr>\n",
       "      <th>3</th>\n",
       "      <td>[AAPL]</td>\n",
       "      <td>5aa6c1ddb60e700001ed13a0</td>\n",
       "      <td>Mon Mar 12 18:07:25 +0000 2018</td>\n",
       "      <td>0</td>\n",
       "      <td>973259179040362496</td>\n",
       "      <td>en</td>\n",
       "      <td>0</td>\n",
       "      <td>0</td>\n",
       "      <td>0</td>\n",
       "      <td>False</td>\n",
       "      <td>$AAPL may be working on a MacBook Air Pro. htt...</td>\n",
       "      <td>486</td>\n",
       "      <td>William White</td>\n",
       "      <td>WilliamWhiteIP</td>\n",
       "      <td>7850</td>\n",
       "    </tr>\n",
       "    <tr>\n",
       "      <th>4</th>\n",
       "      <td>[TWTR]</td>\n",
       "      <td>5aa6c1e1b60e700001ed13a1</td>\n",
       "      <td>Mon Mar 12 18:07:29 +0000 2018</td>\n",
       "      <td>0</td>\n",
       "      <td>973259197189107713</td>\n",
       "      <td>en</td>\n",
       "      <td>0</td>\n",
       "      <td>0</td>\n",
       "      <td>0</td>\n",
       "      <td>False</td>\n",
       "      <td>In 300 shares of $TWTR at $35.42</td>\n",
       "      <td>979</td>\n",
       "      <td>Ross</td>\n",
       "      <td>VeeDub78</td>\n",
       "      <td>40293</td>\n",
       "    </tr>\n",
       "  </tbody>\n",
       "</table>\n",
       "</div>"
      ],
      "text/plain": [
       "               Company                       _id  \\\n",
       "0               [TSLA]  5aa6c1ccb60e700001ed139d   \n",
       "1               [AAPL]  5aa6c1d7b60e700001ed139e   \n",
       "2  [AAPL, GOOG, GOOGL]  5aa6c1dcb60e700001ed139f   \n",
       "3               [AAPL]  5aa6c1ddb60e700001ed13a0   \n",
       "4               [TWTR]  5aa6c1e1b60e700001ed13a1   \n",
       "\n",
       "                       created_at  favorite_count              id_str lang  \\\n",
       "0  Mon Mar 12 18:07:08 +0000 2018               0  973259109133778948   en   \n",
       "1  Mon Mar 12 18:07:19 +0000 2018               0  973259155925434370   en   \n",
       "2  Mon Mar 12 18:07:23 +0000 2018               0  973259173524918272   en   \n",
       "3  Mon Mar 12 18:07:25 +0000 2018               0  973259179040362496   en   \n",
       "4  Mon Mar 12 18:07:29 +0000 2018               0  973259197189107713   en   \n",
       "\n",
       "   quote_count  reply_count  retweet_count  retweeted  \\\n",
       "0            0            0              0      False   \n",
       "1            0            0              0      False   \n",
       "2            0            0              0      False   \n",
       "3            0            0              0      False   \n",
       "4            0            0              0      False   \n",
       "\n",
       "                                                text  user_followers_count  \\\n",
       "0                        $TSLA so nice so obvious...                  1703   \n",
       "1  @JoKiddo But how proprietary is that? Does it ...                  2901   \n",
       "2  RT @StockTwits: This is the race to $1 trillio...                  5256   \n",
       "3  $AAPL may be working on a MacBook Air Pro. htt...                   486   \n",
       "4                   In 300 shares of $TWTR at $35.42                   979   \n",
       "\n",
       "              user_name user_screen_name  user_statuses_count  \n",
       "0  TradeTherapAnalytics    TradeTexasBig                67528  \n",
       "1          Gilmo Report      gilmoreport                18524  \n",
       "2             Mark Hill      MarketsHill                13523  \n",
       "3         William White   WilliamWhiteIP                 7850  \n",
       "4                  Ross         VeeDub78                40293  "
      ]
     },
     "execution_count": 10,
     "metadata": {},
     "output_type": "execute_result"
    }
   ],
   "source": [
    "twitter_data.head()"
   ]
  },
  {
   "cell_type": "code",
   "execution_count": 11,
   "metadata": {},
   "outputs": [
    {
     "data": {
      "text/plain": [
       "datetime.datetime(2018, 5, 19, 5, 21, 52, 13578)"
      ]
     },
     "execution_count": 11,
     "metadata": {},
     "output_type": "execute_result"
    }
   ],
   "source": [
    "# Get Window time for 10 minutes\n",
    "#window_time = time.time() - (60*10)\n",
    "\n",
    "datetime.now() - "
   ]
  },
  {
   "cell_type": "code",
   "execution_count": 12,
   "metadata": {},
   "outputs": [
    {
     "ename": "TypeError",
     "evalue": "unsupported operand type(s) for -: 'datetime.datetime' and 'int'",
     "output_type": "error",
     "traceback": [
      "\u001b[0;31m---------------------------------------------------------------------------\u001b[0m",
      "\u001b[0;31mTypeError\u001b[0m                                 Traceback (most recent call last)",
      "\u001b[0;32m<ipython-input-12-64c7b0493525>\u001b[0m in \u001b[0;36m<module>\u001b[0;34m()\u001b[0m\n\u001b[0;32m----> 1\u001b[0;31m \u001b[0mdatetime\u001b[0m\u001b[0;34m.\u001b[0m\u001b[0mnow\u001b[0m\u001b[0;34m(\u001b[0m\u001b[0;34m)\u001b[0m \u001b[0;34m-\u001b[0m \u001b[0;34m(\u001b[0m\u001b[0;36m60\u001b[0m\u001b[0;34m*\u001b[0m\u001b[0;36m10\u001b[0m\u001b[0;34m)\u001b[0m\u001b[0;34m\u001b[0m\u001b[0m\n\u001b[0m",
      "\u001b[0;31mTypeError\u001b[0m: unsupported operand type(s) for -: 'datetime.datetime' and 'int'"
     ]
    }
   ],
   "source": [
    "datetime.now() - (60*10)"
   ]
  },
  {
   "cell_type": "code",
   "execution_count": null,
   "metadata": {},
   "outputs": [],
   "source": []
  }
 ],
 "metadata": {
  "kernelspec": {
   "display_name": "Python 3",
   "language": "python",
   "name": "python3"
  },
  "language_info": {
   "codemirror_mode": {
    "name": "ipython",
    "version": 3
   },
   "file_extension": ".py",
   "mimetype": "text/x-python",
   "name": "python",
   "nbconvert_exporter": "python",
   "pygments_lexer": "ipython3",
   "version": "3.6.4"
  }
 },
 "nbformat": 4,
 "nbformat_minor": 2
}
