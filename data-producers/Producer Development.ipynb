{
 "cells": [
  {
   "cell_type": "markdown",
   "metadata": {},
   "source": [
    "# Producer Development\n",
    "\n",
    "\n",
    "### Notebook for testing out the interface to Twitter and IEX"
   ]
  },
  {
   "cell_type": "code",
   "execution_count": 1,
   "metadata": {
    "collapsed": true
   },
   "outputs": [],
   "source": [
    "#Import\n",
    "import numpy as np\n",
    "import pandas as pd\n",
    "\n",
    "#Twitter requirements\n",
    "from tweepy.streaming import StreamListener\n",
    "from tweepy import OAuthHandler\n",
    "from tweepy import Stream\n",
    "from tweepy import API\n",
    "\n",
    "#IEX requirements\n",
    "import urllib.request\n",
    "\n",
    "\n",
    "import json"
   ]
  },
  {
   "cell_type": "markdown",
   "metadata": {},
   "source": [
    "### Create Company List"
   ]
  },
  {
   "cell_type": "code",
   "execution_count": null,
   "metadata": {
    "collapsed": true
   },
   "outputs": [],
   "source": []
  },
  {
   "cell_type": "code",
   "execution_count": 2,
   "metadata": {},
   "outputs": [
    {
     "data": {
      "text/html": [
       "<div>\n",
       "<table border=\"1\" class=\"dataframe\">\n",
       "  <thead>\n",
       "    <tr style=\"text-align: right;\">\n",
       "      <th></th>\n",
       "      <th>Company</th>\n",
       "    </tr>\n",
       "    <tr>\n",
       "      <th>Ticker</th>\n",
       "      <th></th>\n",
       "    </tr>\n",
       "  </thead>\n",
       "  <tbody>\n",
       "    <tr>\n",
       "      <th>AAPL</th>\n",
       "      <td>Apple</td>\n",
       "    </tr>\n",
       "    <tr>\n",
       "      <th>FB</th>\n",
       "      <td>Facebook</td>\n",
       "    </tr>\n",
       "    <tr>\n",
       "      <th>GOOG</th>\n",
       "      <td>Google</td>\n",
       "    </tr>\n",
       "  </tbody>\n",
       "</table>\n",
       "</div>"
      ],
      "text/plain": [
       "         Company\n",
       "Ticker          \n",
       "AAPL       Apple\n",
       "FB      Facebook\n",
       "GOOG      Google"
      ]
     },
     "execution_count": 2,
     "metadata": {},
     "output_type": "execute_result"
    }
   ],
   "source": [
    "companies = {\n",
    "    \"AAPL\":\"Apple\",\n",
    "    \"FB\":\"Facebook\",\n",
    "    \"GOOG\":\"Google\"\n",
    "    }\n",
    "\n",
    "#company_df = pd.DataFrame(companies.items(), columns=['Company Name','Ticker'])\n",
    "company_df = pd.DataFrame.from_dict(companies, orient='index')\n",
    "company_df.index.name = 'Ticker'\n",
    "company_df.columns=['Company']\n",
    "company_df.head()"
   ]
  },
  {
   "cell_type": "code",
   "execution_count": 91,
   "metadata": {
    "collapsed": true
   },
   "outputs": [],
   "source": [
    "#Write to CSV\n",
    "company_df.to_csv('companies.csv')"
   ]
  },
  {
   "cell_type": "markdown",
   "metadata": {},
   "source": [
    "### Twitter Ingestion"
   ]
  },
  {
   "cell_type": "code",
   "execution_count": 3,
   "metadata": {
    "collapsed": true
   },
   "outputs": [],
   "source": [
    "#Created a twitter tokens file. That has the tokens. This will not be in GIT\n",
    "from twitter_tokens import *"
   ]
  },
  {
   "cell_type": "code",
   "execution_count": 4,
   "metadata": {},
   "outputs": [
    {
     "data": {
      "text/html": [
       "<div>\n",
       "<table border=\"1\" class=\"dataframe\">\n",
       "  <thead>\n",
       "    <tr style=\"text-align: right;\">\n",
       "      <th></th>\n",
       "      <th>Company</th>\n",
       "      <th>tweet_ticker</th>\n",
       "    </tr>\n",
       "    <tr>\n",
       "      <th>Ticker</th>\n",
       "      <th></th>\n",
       "      <th></th>\n",
       "    </tr>\n",
       "  </thead>\n",
       "  <tbody>\n",
       "    <tr>\n",
       "      <th>AAPL</th>\n",
       "      <td>Apple</td>\n",
       "      <td>$AAPL</td>\n",
       "    </tr>\n",
       "    <tr>\n",
       "      <th>FB</th>\n",
       "      <td>Facebook</td>\n",
       "      <td>$FB</td>\n",
       "    </tr>\n",
       "    <tr>\n",
       "      <th>GOOG</th>\n",
       "      <td>Google</td>\n",
       "      <td>$GOOG</td>\n",
       "    </tr>\n",
       "  </tbody>\n",
       "</table>\n",
       "</div>"
      ],
      "text/plain": [
       "         Company tweet_ticker\n",
       "Ticker                       \n",
       "AAPL       Apple        $AAPL\n",
       "FB      Facebook          $FB\n",
       "GOOG      Google        $GOOG"
      ]
     },
     "execution_count": 4,
     "metadata": {},
     "output_type": "execute_result"
    }
   ],
   "source": [
    "#Add Code to read CSV file. In order to account for changes in the list, have to restart\n",
    "companies = pd.read_csv('companies.csv')\n",
    "companies.set_index('Ticker', inplace=True)\n",
    "\n",
    "#Add code to add ticker symbol\n",
    "companies['tweet_ticker']=companies.index.map(lambda x: '$'+x)\n",
    "companies"
   ]
  },
  {
   "cell_type": "code",
   "execution_count": 5,
   "metadata": {
    "collapsed": true
   },
   "outputs": [],
   "source": [
    "#tickers = companies['tweet_ticker'].tolist()\n",
    "tickers = companies['tweet_ticker'].tolist()\n",
    "#Tweets with the ticker in front come in very slowly. May take a while to build up. But these are official tweets"
   ]
  },
  {
   "cell_type": "code",
   "execution_count": 6,
   "metadata": {},
   "outputs": [
    {
     "name": "stdout",
     "output_type": "stream",
     "text": [
      "Filtering: ['$AAPL', '$FB', '$GOOG']\n",
      "1\n",
      "{'created_at': 'Thu Feb 01 02:45:36 +0000 2018', 'id_str': '958894070318977025', 'text': 'RT @philstockworld: Which Way Wednesday - Fed Edition $AAPL $DIA #FOMC #Hedging #SOTU #Futures -- https://t.co/hwt4Dqlmvj https://t.co/1b5q…', 'quote_count': 0, 'reply_count': 0, 'retweet_count': 0, 'favorite_count': 0, 'retweeted': False, 'user_name': 'AFR', 'user_followers_count': 131, 'user_statuses_count': 5429, 'user_screen_name': 'RealBankRjform', 'entities_hashtags': [{'text': 'FOMC', 'indices': [65, 70]}, {'text': 'Hedging', 'indices': [71, 79]}, {'text': 'SOTU', 'indices': [80, 85]}, {'text': 'Futures', 'indices': [86, 94]}], 'entities_symbols': [{'text': 'AAPL', 'indices': [54, 59]}, {'text': 'DIA', 'indices': [60, 64]}], 'Company': ['AAPL']}\n",
      "2\n",
      "{'created_at': 'Thu Feb 01 02:46:52 +0000 2018', 'id_str': '958894389018939392', 'text': 'RT @philstockworld: Which Way Wednesday - Fed Edition $QQQ $DIA $SPX Also $ABX $ALK $CDE $CIM $NLY $AAPL https://t.co/n5M6ksDT2W', 'quote_count': 0, 'reply_count': 0, 'retweet_count': 0, 'favorite_count': 0, 'retweeted': False, 'user_name': 'Official Page Of MRP', 'user_followers_count': 111, 'user_statuses_count': 5437, 'user_screen_name': 'mikieokcr', 'entities_hashtags': [], 'entities_symbols': [{'text': 'QQQ', 'indices': [54, 58]}, {'text': 'DIA', 'indices': [59, 63]}, {'text': 'SPX', 'indices': [64, 68]}, {'text': 'ABX', 'indices': [74, 78]}, {'text': 'ALK', 'indices': [79, 83]}, {'text': 'CDE', 'indices': [84, 88]}, {'text': 'CIM', 'indices': [89, 93]}, {'text': 'NLY', 'indices': [94, 98]}, {'text': 'AAPL', 'indices': [99, 104]}], 'Company': ['AAPL']}\n",
      "3\n",
      "{'created_at': 'Thu Feb 01 02:46:52 +0000 2018', 'id_str': '958894391451467776', 'text': '$FB : cc7261c7-c90e-48d1-b388-ed64d46fe1d9', 'quote_count': 0, 'reply_count': 0, 'retweet_count': 0, 'favorite_count': 0, 'retweeted': False, 'user_name': 'Test Account1', 'user_followers_count': 180, 'user_statuses_count': 8988158, 'user_screen_name': 'test5f1798', 'entities_hashtags': [], 'entities_symbols': [{'text': 'FB', 'indices': [0, 3]}], 'Company': ['FB']}\n",
      "4\n",
      "{'created_at': 'Thu Feb 01 02:47:32 +0000 2018', 'id_str': '958894558288470016', 'text': 'RT @philstockworld: Which Way Wednesday - Fed Edition $AAPL $DIA #FOMC #Hedging #SOTU #Futures -- https://t.co/hwt4Dqlmvj https://t.co/1b5q…', 'quote_count': 0, 'reply_count': 0, 'retweet_count': 0, 'favorite_count': 0, 'retweeted': False, 'user_name': 'Official Page Of MRP', 'user_followers_count': 111, 'user_statuses_count': 5438, 'user_screen_name': 'mikieokcr', 'entities_hashtags': [{'text': 'FOMC', 'indices': [65, 70]}, {'text': 'Hedging', 'indices': [71, 79]}, {'text': 'SOTU', 'indices': [80, 85]}, {'text': 'Futures', 'indices': [86, 94]}], 'entities_symbols': [{'text': 'AAPL', 'indices': [54, 59]}, {'text': 'DIA', 'indices': [60, 64]}], 'Company': ['AAPL']}\n",
      "5\n",
      "{'created_at': 'Thu Feb 01 02:47:39 +0000 2018', 'id_str': '958894586272808960', 'text': 'RT @Sandro_power: https://t.co/U9wfHSXorE     live stream $AAPL  $PYPL $TWTR  $SPY $TSLA $BA $WYNN    I talk about the big picture', 'quote_count': 0, 'reply_count': 0, 'retweet_count': 0, 'favorite_count': 0, 'retweeted': False, 'user_name': 'Option$Player', 'user_followers_count': 5, 'user_statuses_count': 72, 'user_screen_name': 'OptionPlayers', 'entities_hashtags': [], 'entities_symbols': [{'text': 'AAPL', 'indices': [58, 63]}, {'text': 'PYPL', 'indices': [65, 70]}, {'text': 'TWTR', 'indices': [71, 76]}, {'text': 'SPY', 'indices': [78, 82]}, {'text': 'TSLA', 'indices': [83, 88]}, {'text': 'BA', 'indices': [89, 92]}, {'text': 'WYNN', 'indices': [93, 98]}], 'Company': ['AAPL']}\n",
      "6\n",
      "{'created_at': 'Thu Feb 01 02:47:46 +0000 2018', 'id_str': '958894616786489344', 'text': 'Think $AAPL going to really surprise just me', 'quote_count': 0, 'reply_count': 0, 'retweet_count': 0, 'favorite_count': 0, 'retweeted': False, 'user_name': 'ALGONINJA', 'user_followers_count': 1883, 'user_statuses_count': 4557, 'user_screen_name': 'TradeWithNinja', 'entities_hashtags': [], 'entities_symbols': [{'text': 'AAPL', 'indices': [6, 11]}], 'Company': ['AAPL']}\n",
      "7\n",
      "{'created_at': 'Thu Feb 01 02:47:58 +0000 2018', 'id_str': '958894666409181185', 'text': 'RT @philstockworld: Which Way Wednesday - Fed Edition $QQQ $DIA $SPX Also $ABX $ALK $CDE $CIM $NLY $AAPL https://t.co/n5M6ksDT2W', 'quote_count': 0, 'reply_count': 0, 'retweet_count': 0, 'favorite_count': 0, 'retweeted': False, 'user_name': 'Corey L.', 'user_followers_count': 94, 'user_statuses_count': 5115, 'user_screen_name': 'coolre7y93', 'entities_hashtags': [], 'entities_symbols': [{'text': 'QQQ', 'indices': [54, 58]}, {'text': 'DIA', 'indices': [59, 63]}, {'text': 'SPX', 'indices': [64, 68]}, {'text': 'ABX', 'indices': [74, 78]}, {'text': 'ALK', 'indices': [79, 83]}, {'text': 'CDE', 'indices': [84, 88]}, {'text': 'CIM', 'indices': [89, 93]}, {'text': 'NLY', 'indices': [94, 98]}, {'text': 'AAPL', 'indices': [99, 104]}], 'Company': ['AAPL']}\n"
     ]
    }
   ],
   "source": [
    "#Create Filter function to filter attributes and Add Company name to the dictionary.\n",
    "\n",
    "#Want to create a simple list, but how do I handle the users sub?\n",
    "attributes = ['created_at',\n",
    "             'id_str',\n",
    "             'text',\n",
    "              'quote_count',\n",
    "              'reply_count',\n",
    "              'retweet_count',\n",
    "              'favorite_count',\n",
    "              'retweeted',\n",
    "              ['user','name'],\n",
    "              ['user','followers_count'],\n",
    "              ['user','statuses_count'],\n",
    "              ['user','screen_name'],\n",
    "              ['entities','hashtags'],\n",
    "              ['entities','symbols']\n",
    "               ]\n",
    "def filter_attr(data):\n",
    "    output = {}\n",
    "    #Choose filter attributes\n",
    "    for element in attributes:\n",
    "        if isinstance(element, str):\n",
    "            output[element]=data[element]\n",
    "        else:\n",
    "            string = str(element[0])+'_'+str(element[1])\n",
    "            output[string]=data[element[0]][element[1]]\n",
    "  \n",
    "    #Need to also add the company name to output dictionary.\n",
    "    #Add all companies tweet applies to in list\n",
    "    attached_company = []\n",
    "    \n",
    "    for company in tickers:\n",
    "        if data['text'].find(company) > -1:\n",
    "            attached_company.append(company[1:])\n",
    "            \n",
    "    \n",
    "    output['Company']=attached_company             \n",
    "    \n",
    "    return output\n",
    "\n",
    "#This is a basic listener that just prints received tweets to stdout.\n",
    "class TweetListener(StreamListener):\n",
    "    global count\n",
    "    count = 0\n",
    "    def on_data(self, data):\n",
    "        try:\n",
    "            datajson = json.loads(data)\n",
    "            filtered = filter_attr(datajson)\n",
    "            #Check to see if a valid tweet\n",
    "            if filtered['Company']:\n",
    "                global count\n",
    "                count += 1\n",
    "                print(count)\n",
    "                print(filtered)\n",
    "            #print(datajson['text'])\n",
    "            #coll_reference.insert_one(datajson)\n",
    "                return True\n",
    "            else:\n",
    "                return False\n",
    "        except Exception as e:\n",
    "            print(e)\n",
    "\n",
    "    def on_error(self, status):\n",
    "        print('The error code is: ' + repr(status))\n",
    "        #Continue even if there is an error\n",
    "        return True\n",
    "\n",
    "#This handles Twitter authetication and the connection to Twitter Streaming API\n",
    "tweetlist = TweetListener(api=API(wait_on_rate_limit=True,wait_on_rate_limit_notify=True))\n",
    "auth = OAuthHandler(CONSUMER_KEY, CONSUMER_SECRET)\n",
    "auth.set_access_token(ACCESS_TOKEN, ACCESS_TOKEN_SECRET)\n",
    "stream = Stream(auth, tweetlist)\n",
    "\n",
    "#Filters by the ticker names\n",
    "print('Filtering: ' + str(tickers))\n",
    "stream.filter(track=tickers)"
   ]
  },
  {
   "cell_type": "markdown",
   "metadata": {
    "collapsed": true
   },
   "source": [
    "# Stock - IEX Ingestion"
   ]
  },
  {
   "cell_type": "code",
   "execution_count": 1,
   "metadata": {},
   "outputs": [
    {
     "name": "stdout",
     "output_type": "stream",
     "text": [
      "Collecting schedule\n",
      "  Downloading schedule-0.5.0-py2.py3-none-any.whl\n",
      "Installing collected packages: schedule\n",
      "Successfully installed schedule-0.5.0\n"
     ]
    }
   ],
   "source": [
    "!pip install schedule"
   ]
  },
  {
   "cell_type": "code",
   "execution_count": 2,
   "metadata": {},
   "outputs": [
    {
     "name": "stdout",
     "output_type": "stream",
     "text": [
      "Requirement already satisfied: boto3 in /anaconda/lib/python3.6/site-packages\n",
      "Requirement already satisfied: botocore<1.9.0,>=1.8.34 in /anaconda/lib/python3.6/site-packages (from boto3)\n",
      "Requirement already satisfied: jmespath<1.0.0,>=0.7.1 in /anaconda/lib/python3.6/site-packages (from boto3)\n",
      "Requirement already satisfied: s3transfer<0.2.0,>=0.1.10 in /anaconda/lib/python3.6/site-packages (from boto3)\n",
      "Requirement already satisfied: docutils>=0.10 in /anaconda/lib/python3.6/site-packages (from botocore<1.9.0,>=1.8.34->boto3)\n",
      "Requirement already satisfied: python-dateutil<3.0.0,>=2.1 in /anaconda/lib/python3.6/site-packages (from botocore<1.9.0,>=1.8.34->boto3)\n",
      "Requirement already satisfied: six>=1.5 in /anaconda/lib/python3.6/site-packages (from python-dateutil<3.0.0,>=2.1->botocore<1.9.0,>=1.8.34->boto3)\n"
     ]
    }
   ],
   "source": [
    "!pip install boto3"
   ]
  },
  {
   "cell_type": "code",
   "execution_count": 4,
   "metadata": {
    "collapsed": true
   },
   "outputs": [],
   "source": [
    "import urllib.request\n",
    "import json\n"
   ]
  },
  {
   "cell_type": "code",
   "execution_count": 5,
   "metadata": {},
   "outputs": [
    {
     "data": {
      "text/plain": [
       "{'avgTotalVolume': 523792,\n",
       " 'calculationPrice': 'close',\n",
       " 'change': 0.86,\n",
       " 'changePercent': 0.01867,\n",
       " 'close': 46.93,\n",
       " 'closeTime': 1517000400351,\n",
       " 'companyName': 'National Instruments Corporation',\n",
       " 'delayedPrice': 46.93,\n",
       " 'delayedPriceTime': 1517003144777,\n",
       " 'high': 46.97,\n",
       " 'iexAskPrice': None,\n",
       " 'iexAskSize': None,\n",
       " 'iexBidPrice': None,\n",
       " 'iexBidSize': None,\n",
       " 'iexLastUpdated': None,\n",
       " 'iexMarketPercent': None,\n",
       " 'iexRealtimePrice': None,\n",
       " 'iexRealtimeSize': None,\n",
       " 'iexVolume': None,\n",
       " 'latestPrice': 46.93,\n",
       " 'latestSource': 'Close',\n",
       " 'latestTime': 'January 26, 2018',\n",
       " 'latestUpdate': 1517000400351,\n",
       " 'latestVolume': 436306,\n",
       " 'low': 44.74,\n",
       " 'marketCap': 6135863882,\n",
       " 'open': 46.18,\n",
       " 'openTime': 1516977000156,\n",
       " 'peRatio': 53.33,\n",
       " 'previousClose': 46.07,\n",
       " 'primaryExchange': 'Nasdaq Global Select',\n",
       " 'sector': 'Technology',\n",
       " 'symbol': 'NATI',\n",
       " 'week52High': 46.97,\n",
       " 'week52Low': 30.5621,\n",
       " 'ytdChange': 0.10945626477541379}"
      ]
     },
     "execution_count": 5,
     "metadata": {},
     "output_type": "execute_result"
    }
   ],
   "source": [
    "response = urllib.request.urlopen(\"https://api.iextrading.com/1.0/stock/nati/quote\")\n",
    "str_response = response.read().decode('utf-8')\n",
    "obj = json.loads(str_response)\n",
    "obj"
   ]
  },
  {
   "cell_type": "code",
   "execution_count": 17,
   "metadata": {},
   "outputs": [
    {
     "data": {
      "text/plain": [
       "'2018-01-26 08:30:00'"
      ]
     },
     "execution_count": 17,
     "metadata": {},
     "output_type": "execute_result"
    }
   ],
   "source": [
    "import time\n",
    "#Convert to seconds\n",
    "ctime = obj['openTime']/1000\n",
    "\n",
    "time.strftime('%Y-%m-%d %H:%M:%S', time.localtime(ctime))"
   ]
  },
  {
   "cell_type": "code",
   "execution_count": 14,
   "metadata": {},
   "outputs": [
    {
     "data": {
      "text/plain": [
       "['AAPL', 'FB', 'GOOG']"
      ]
     },
     "execution_count": 14,
     "metadata": {},
     "output_type": "execute_result"
    }
   ],
   "source": [
    "stock_tickers = companies.index.tolist()\n",
    "stock_tickers"
   ]
  },
  {
   "cell_type": "markdown",
   "metadata": {},
   "source": [
    "### Function Definition"
   ]
  },
  {
   "cell_type": "code",
   "execution_count": 30,
   "metadata": {
    "collapsed": true
   },
   "outputs": [],
   "source": [
    "#Want to create a simple list, and then convert the time stamps\n",
    "attributes = ['latestUpdate',\n",
    "             'companyName',\n",
    "             'latestPrice',\n",
    "              'latestVolume',\n",
    "              'marketCap',\n",
    "              'open',\n",
    "              'previousClose',\n",
    "              'sector',\n",
    "              'high',\n",
    "              'low',\n",
    "              'ytdChange',\n",
    "              'peRatio',\n",
    "              'week52High',\n",
    "              'week52Low'\n",
    "               ]\n",
    "def filter_stock_attributes(data):\n",
    "    output = {}\n",
    "    #Choose filter attributes\n",
    "    for element in attributes:\n",
    "        output[element]=data[element]\n",
    "    \n",
    "    #Convert time\n",
    "    ctime = output['latestUpdate']/1000\n",
    "    new_time = time.strftime('%Y-%m-%d %H:%M:%S', time.localtime(ctime))\n",
    "    output['latestUpdate']= new_time\n",
    "    \n",
    "    return output\n",
    "\n",
    "#Create function to fetch the stock data. This is to prepare for the schedule.\n",
    "def fetch_stock_data(stocks=[]):\n",
    "    \n",
    "    for ticker in stocks:\n",
    "        url = \"https://api.iextrading.com/1.0/stock/{}/quote\".format(ticker)\n",
    "        response = urllib.request.urlopen(url)\n",
    "        str_response = response.read().decode('utf-8')\n",
    "        obj = json.loads(str_response)\n",
    "        filtered = filter_stock_attributes(obj)\n",
    "        #<----- Insert to Kinesis Stream ------->\n",
    "        print(filtered)\n",
    "    \n",
    "    "
   ]
  },
  {
   "cell_type": "markdown",
   "metadata": {},
   "source": [
    "### Script"
   ]
  },
  {
   "cell_type": "code",
   "execution_count": 35,
   "metadata": {},
   "outputs": [
    {
     "name": "stdout",
     "output_type": "stream",
     "text": [
      "{'latestUpdate': '2018-01-26 15:00:00', 'companyName': 'Apple Inc.', 'latestPrice': 171.51, 'latestVolume': 39062792, 'marketCap': 872480974560, 'open': 172, 'previousClose': 171.11, 'sector': 'Technology', 'high': 172, 'low': 170.06, 'ytdChange': -0.004353883664228492, 'peRatio': 18.64, 'week52High': 180.1, 'week52Low': 120.62}\n",
      "{'latestUpdate': '2018-01-26 15:00:00', 'companyName': 'Facebook Inc.', 'latestPrice': 190, 'latestVolume': 17392522, 'marketCap': 552103662120, 'open': 187.66, 'previousClose': 187.48, 'sector': 'Technology', 'high': 190, 'low': 186.81, 'ytdChange': 0.04729357292470518, 'peRatio': 36.61, 'week52High': 190.66, 'week52Low': 129.5157}\n",
      "{'latestUpdate': '2018-01-26 15:00:00', 'companyName': 'Alphabet Inc.', 'latestPrice': 1175.84, 'latestVolume': 1978815, 'marketCap': 816976114198, 'open': 1175.08, 'previousClose': 1170.37, 'sector': 'Technology', 'high': 1175.84, 'low': 1158.11, 'ytdChange': 0.10407511737089194, 'peRatio': None, 'week52High': 1179.86, 'week52Low': 790.52}\n"
     ]
    },
    {
     "ename": "KeyboardInterrupt",
     "evalue": "",
     "output_type": "error",
     "traceback": [
      "\u001b[0;31m---------------------------------------------------------------------------\u001b[0m",
      "\u001b[0;31mKeyboardInterrupt\u001b[0m                         Traceback (most recent call last)",
      "\u001b[0;32m<ipython-input-35-6f0a702e9c05>\u001b[0m in \u001b[0;36m<module>\u001b[0;34m()\u001b[0m\n\u001b[1;32m     14\u001b[0m \u001b[0;32mwhile\u001b[0m \u001b[0;32mTrue\u001b[0m\u001b[0;34m:\u001b[0m\u001b[0;34m\u001b[0m\u001b[0m\n\u001b[1;32m     15\u001b[0m     \u001b[0mschedule\u001b[0m\u001b[0;34m.\u001b[0m\u001b[0mrun_pending\u001b[0m\u001b[0;34m(\u001b[0m\u001b[0;34m)\u001b[0m\u001b[0;34m\u001b[0m\u001b[0m\n\u001b[0;32m---> 16\u001b[0;31m     \u001b[0mtime\u001b[0m\u001b[0;34m.\u001b[0m\u001b[0msleep\u001b[0m\u001b[0;34m(\u001b[0m\u001b[0;36m1\u001b[0m\u001b[0;34m)\u001b[0m\u001b[0;34m\u001b[0m\u001b[0m\n\u001b[0m",
      "\u001b[0;31mKeyboardInterrupt\u001b[0m: "
     ]
    }
   ],
   "source": [
    "import schedule\n",
    "import time\n",
    "\n",
    "#Read CSV File with the companies and setup dataframe\n",
    "companies = pd.read_csv('companies.csv')\n",
    "companies.set_index('Ticker', inplace=True)\n",
    "stock_tickers = companies.index.tolist()\n",
    "\n",
    "#Setup Schedule\n",
    "schedule.clear()\n",
    "schedule.every(1).minutes.do(fetch_stock_data, stocks=stock_tickers)\n",
    "\n",
    "#Execute\n",
    "while True:\n",
    "    schedule.run_pending()\n",
    "    time.sleep(1)"
   ]
  },
  {
   "cell_type": "markdown",
   "metadata": {},
   "source": [
    "### Redis example"
   ]
  },
  {
   "cell_type": "code",
   "execution_count": 36,
   "metadata": {},
   "outputs": [
    {
     "ename": "KeyError",
     "evalue": "'THIS_REDIS_PORT_6379_TCP_ADDR'",
     "output_type": "error",
     "traceback": [
      "\u001b[0;31m---------------------------------------------------------------------------\u001b[0m",
      "\u001b[0;31mKeyError\u001b[0m                                  Traceback (most recent call last)",
      "\u001b[0;32m<ipython-input-36-228232cc3fde>\u001b[0m in \u001b[0;36m<module>\u001b[0;34m()\u001b[0m\n\u001b[1;32m      1\u001b[0m \u001b[0;32mfrom\u001b[0m \u001b[0mredis\u001b[0m \u001b[0;32mimport\u001b[0m \u001b[0mRedis\u001b[0m\u001b[0;34m\u001b[0m\u001b[0m\n\u001b[1;32m      2\u001b[0m \u001b[0;32mfrom\u001b[0m \u001b[0mos\u001b[0m \u001b[0;32mimport\u001b[0m \u001b[0menviron\u001b[0m\u001b[0;34m\u001b[0m\u001b[0m\n\u001b[0;32m----> 3\u001b[0;31m \u001b[0mREDIS\u001b[0m \u001b[0;34m=\u001b[0m \u001b[0mRedis\u001b[0m\u001b[0;34m(\u001b[0m\u001b[0mhost\u001b[0m\u001b[0;34m=\u001b[0m\u001b[0menviron\u001b[0m\u001b[0;34m[\u001b[0m\u001b[0;34m'THIS_REDIS_PORT_6379_TCP_ADDR'\u001b[0m\u001b[0;34m]\u001b[0m\u001b[0;34m)\u001b[0m\u001b[0;34m\u001b[0m\u001b[0m\n\u001b[0m",
      "\u001b[0;32m/anaconda/lib/python3.6/os.py\u001b[0m in \u001b[0;36m__getitem__\u001b[0;34m(self, key)\u001b[0m\n\u001b[1;32m    667\u001b[0m         \u001b[0;32mexcept\u001b[0m \u001b[0mKeyError\u001b[0m\u001b[0;34m:\u001b[0m\u001b[0;34m\u001b[0m\u001b[0m\n\u001b[1;32m    668\u001b[0m             \u001b[0;31m# raise KeyError with the original key value\u001b[0m\u001b[0;34m\u001b[0m\u001b[0;34m\u001b[0m\u001b[0m\n\u001b[0;32m--> 669\u001b[0;31m             \u001b[0;32mraise\u001b[0m \u001b[0mKeyError\u001b[0m\u001b[0;34m(\u001b[0m\u001b[0mkey\u001b[0m\u001b[0;34m)\u001b[0m \u001b[0;32mfrom\u001b[0m \u001b[0;32mNone\u001b[0m\u001b[0;34m\u001b[0m\u001b[0m\n\u001b[0m\u001b[1;32m    670\u001b[0m         \u001b[0;32mreturn\u001b[0m \u001b[0mself\u001b[0m\u001b[0;34m.\u001b[0m\u001b[0mdecodevalue\u001b[0m\u001b[0;34m(\u001b[0m\u001b[0mvalue\u001b[0m\u001b[0;34m)\u001b[0m\u001b[0;34m\u001b[0m\u001b[0m\n\u001b[1;32m    671\u001b[0m \u001b[0;34m\u001b[0m\u001b[0m\n",
      "\u001b[0;31mKeyError\u001b[0m: 'THIS_REDIS_PORT_6379_TCP_ADDR'"
     ]
    }
   ],
   "source": [
    "from redis import Redis\n",
    "from os import environ\n",
    "REDIS = Redis(host=environ['THIS_REDIS_PORT_6379_TCP_ADDR'])"
   ]
  },
  {
   "cell_type": "code",
   "execution_count": null,
   "metadata": {
    "collapsed": true
   },
   "outputs": [],
   "source": []
  }
 ],
 "metadata": {
  "kernelspec": {
   "display_name": "Python 3",
   "language": "python",
   "name": "python3"
  },
  "language_info": {
   "codemirror_mode": {
    "name": "ipython",
    "version": 3
   },
   "file_extension": ".py",
   "mimetype": "text/x-python",
   "name": "python",
   "nbconvert_exporter": "python",
   "pygments_lexer": "ipython3",
   "version": "3.6.1"
  }
 },
 "nbformat": 4,
 "nbformat_minor": 2
}
