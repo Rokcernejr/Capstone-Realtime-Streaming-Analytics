{
 "cells": [
  {
   "cell_type": "code",
   "execution_count": 4,
   "metadata": {},
   "outputs": [],
   "source": [
    "#Imports\n",
    "import redis\n",
    "import urllib.request\n",
    "import json\n",
    "import numpy as np\n",
    "import pandas as pd\n",
    "import schedule\n",
    "import time\n",
    "import boto3\n",
    "\n",
    "kinesis = boto3.client('kinesis', region_name='us-east-1')\n",
    "\n",
    "\n",
    "#Connect to Redis-DataStore\n",
    "REDIS = redis.Redis(host='data_store')"
   ]
  },
  {
   "cell_type": "code",
   "execution_count": 2,
   "metadata": {},
   "outputs": [
    {
     "data": {
      "text/plain": [
       "'82pgo1H+eurVJr548ZNAuYbqzCewoSojQ4B90TWJ'"
      ]
     },
     "execution_count": 2,
     "metadata": {},
     "output_type": "execute_result"
    }
   ],
   "source": [
    "%env AWS_SECRET_ACCESS_KEY"
   ]
  },
  {
   "cell_type": "code",
   "execution_count": 5,
   "metadata": {},
   "outputs": [
    {
     "data": {
      "text/plain": [
       "{'HasMoreStreams': False,\n",
       " 'ResponseMetadata': {'HTTPHeaders': {'content-length': '51',\n",
       "   'content-type': 'application/x-amz-json-1.1',\n",
       "   'date': 'Wed, 31 Jan 2018 19:42:11 GMT',\n",
       "   'server': 'Apache-Coyote/1.1',\n",
       "   'x-amz-id-2': 'CVOdVlx2sHKVk7joEW3ju/Bjq9Ua5p6BALiphZm7U1KHI+dKGYp7icwmohHY/JLzuwdEU6bY4ibiT58DEbg7wBVLZWqxmfwlP3PUsrZROrE=',\n",
       "   'x-amzn-requestid': 'f86afce4-5ce6-a3f6-aa86-e2b0c626b762'},\n",
       "  'HTTPStatusCode': 200,\n",
       "  'RequestId': 'f86afce4-5ce6-a3f6-aa86-e2b0c626b762',\n",
       "  'RetryAttempts': 0},\n",
       " 'StreamNames': ['BotoDemo']}"
      ]
     },
     "execution_count": 5,
     "metadata": {},
     "output_type": "execute_result"
    }
   ],
   "source": [
    "kinesis.list_streams()"
   ]
  },
  {
   "cell_type": "markdown",
   "metadata": {},
   "source": [
    "### Redis Test"
   ]
  },
  {
   "cell_type": "code",
   "execution_count": 4,
   "metadata": {},
   "outputs": [
    {
     "data": {
      "text/plain": [
       "b'42'"
      ]
     },
     "execution_count": 4,
     "metadata": {},
     "output_type": "execute_result"
    }
   ],
   "source": [
    "REDIS.get('my_incrementer')"
   ]
  },
  {
   "cell_type": "code",
   "execution_count": 5,
   "metadata": {},
   "outputs": [
    {
     "data": {
      "text/plain": [
       "True"
      ]
     },
     "execution_count": 5,
     "metadata": {},
     "output_type": "execute_result"
    }
   ],
   "source": [
    "#To pass a dictionary:\n",
    "import numpy as np\n",
    "import json\n",
    "\n",
    "model_params = {\n",
    "    'C': list(np.logspace(-3,3,7)),\n",
    "    'penalty': 'l1',\n",
    "    'solver' : 'newton-cg'\n",
    "}\n",
    "\n",
    "REDIS.set('model_params', json.dumps(model_params))"
   ]
  },
  {
   "cell_type": "markdown",
   "metadata": {},
   "source": [
    "#### Build Company dataframe"
   ]
  },
  {
   "cell_type": "code",
   "execution_count": 20,
   "metadata": {},
   "outputs": [
    {
     "data": {
      "text/plain": [
       "['AAPL', 'FB', 'GOOG']"
      ]
     },
     "execution_count": 20,
     "metadata": {},
     "output_type": "execute_result"
    }
   ],
   "source": [
    "companies = json.loads(REDIS.get('companies').decode())\n",
    "stock_tickers = list(companies.keys())\n",
    "stock_tickers"
   ]
  },
  {
   "cell_type": "code",
   "execution_count": null,
   "metadata": {
    "collapsed": true
   },
   "outputs": [],
   "source": [
    "#Manager Log\n",
    "# Need to send Number of Companies, Rate"
   ]
  },
  {
   "cell_type": "markdown",
   "metadata": {},
   "source": [
    "### IEX Code"
   ]
  },
  {
   "cell_type": "code",
   "execution_count": 12,
   "metadata": {},
   "outputs": [],
   "source": [
    "#Want to create a simple list, and then convert the time stamps\n",
    "attributes = ['latestUpdate',\n",
    "             'companyName',\n",
    "             'latestPrice',\n",
    "              'latestVolume',\n",
    "              'marketCap',\n",
    "              'open',\n",
    "              'previousClose',\n",
    "              'sector',\n",
    "              'high',\n",
    "              'low',\n",
    "              'ytdChange',\n",
    "              'peRatio',\n",
    "              'week52High',\n",
    "              'week52Low'\n",
    "               ]\n",
    "def filter_stock_attributes(data):\n",
    "    output = {}\n",
    "    #Choose filter attributes\n",
    "    for element in attributes:\n",
    "        output[element]=data[element]\n",
    "    \n",
    "    #Convert time\n",
    "    ctime = output['latestUpdate']/1000\n",
    "    new_time = time.strftime('%Y-%m-%d %H:%M:%S', time.localtime(ctime))\n",
    "    output['latestUpdate']= new_time\n",
    "    \n",
    "    return output\n",
    "\n",
    "#Create function to fetch the stock data. This is to prepare for the schedule.\n",
    "def fetch_stock_data(stocks=[]):\n",
    "    \n",
    "    for ticker in stocks:\n",
    "        url = \"https://api.iextrading.com/1.0/stock/{}/quote\".format(ticker)\n",
    "        response = urllib.request.urlopen(url)\n",
    "        str_response = response.read().decode('utf-8')\n",
    "        obj = json.loads(str_response)\n",
    "        filtered = filter_stock_attributes(obj)\n",
    "        #Add counter to count stocks. \n",
    "        REDIS.incr('IEX_Stock_Count')\n",
    "        #<----- Insert to Kinesis Stream ------->\n",
    "        response = kinesis.put_record(StreamName=\"BotoDemo\", Data=json.dumps(filtered), PartitionKey=\"partitionkey\")\n",
    "        print('---------------------------------')\n",
    "        print(response)\n",
    "        print(filtered)"
   ]
  },
  {
   "cell_type": "code",
   "execution_count": 13,
   "metadata": {},
   "outputs": [
    {
     "name": "stdout",
     "output_type": "stream",
     "text": [
      "---------------------------------\n",
      "{'ShardId': 'shardId-000000000000', 'SequenceNumber': '49581293592208739795471062951283188790049960114553618434', 'ResponseMetadata': {'RequestId': 'd55efdd0-dc17-e2ae-87b2-dde807393cfc', 'HTTPStatusCode': 200, 'HTTPHeaders': {'server': 'Apache-Coyote/1.1', 'x-amzn-requestid': 'd55efdd0-dc17-e2ae-87b2-dde807393cfc', 'x-amz-id-2': 'bxKH1BAvZaJnp+HEc8zGmhJQ+2SqzoWI7HIBhtL0uQ3IavscH4335UPOf8q1XGFEBilj2pADoWwBpm2NmJMl9K9aBy19JVUv6QeOLzbF9Qc=', 'content-type': 'application/x-amz-json-1.1', 'content-length': '110', 'date': 'Wed, 31 Jan 2018 19:50:16 GMT'}, 'RetryAttempts': 0}}\n",
      "{'latestUpdate': '2018-01-31 19:50:09', 'companyName': 'Apple Inc.', 'latestPrice': 166.86, 'latestVolume': 21689381, 'marketCap': 848826164160, 'open': 166.95, 'previousClose': 166.97, 'sector': 'Technology', 'high': 168.442, 'low': 166.5, 'ytdChange': -0.03070939277835825, 'peRatio': 18.14, 'week52High': 180.1, 'week52Low': 120.62}\n",
      "---------------------------------\n",
      "{'ShardId': 'shardId-000000000000', 'SequenceNumber': '49581293592208739795471062951284397715869574743728324610', 'ResponseMetadata': {'RequestId': 'c96665f0-d68a-051e-9b8a-45c80da4db4c', 'HTTPStatusCode': 200, 'HTTPHeaders': {'server': 'Apache-Coyote/1.1', 'x-amzn-requestid': 'c96665f0-d68a-051e-9b8a-45c80da4db4c', 'x-amz-id-2': '+Dd5HALkvrPWyR9ihAy6ehppe3WhMVpt/cNK2cBIYhB7jke9cViojCpM4EnmfdkDlAGpysH/M9OgftWWzZeVvZ+G2LBseeEydHhZosvHhMs=', 'content-type': 'application/x-amz-json-1.1', 'content-length': '110', 'date': 'Wed, 31 Jan 2018 19:50:16 GMT'}, 'RetryAttempts': 0}}\n",
      "{'latestUpdate': '2018-01-31 19:50:03', 'companyName': 'Facebook Inc.', 'latestPrice': 187.39, 'latestVolume': 17348864, 'marketCap': 544519501288, 'open': 188.45, 'previousClose': 187.12, 'sector': 'Technology', 'high': 189.83, 'low': 187.3, 'ytdChange': 0.031418807187741246, 'peRatio': 36.11, 'week52High': 190.66, 'week52Low': 129.5157}\n",
      "---------------------------------\n",
      "{'ShardId': 'shardId-000000000000', 'SequenceNumber': '49581293592208739795471062951285606641689189372903030786', 'ResponseMetadata': {'RequestId': 'ed89917f-0085-4799-bf65-b147dbab99cb', 'HTTPStatusCode': 200, 'HTTPHeaders': {'server': 'Apache-Coyote/1.1', 'x-amzn-requestid': 'ed89917f-0085-4799-bf65-b147dbab99cb', 'x-amz-id-2': '0iaS5EzGZlyMkvikehtU+E9WRxDTqs18WXbG0yJapgJAp1vB2STV0c076xnRp5P8BZo0D94F4uC9YHWH3+55vNAQOW03eeYNk8jHyqs17vM=', 'content-type': 'application/x-amz-json-1.1', 'content-length': '110', 'date': 'Wed, 31 Jan 2018 19:50:16 GMT'}, 'RetryAttempts': 0}}\n",
      "{'latestUpdate': '2018-01-31 19:49:58', 'companyName': 'Alphabet Inc.', 'latestPrice': 1163.1, 'latestVolume': 871975, 'marketCap': 808124335304, 'open': 1170.57, 'previousClose': 1163.69, 'sector': 'Technology', 'high': 1173, 'low': 1162.39, 'ytdChange': 0.09266666666666672, 'peRatio': None, 'week52High': 1186.89, 'week52Low': 790.52}\n",
      "---------------------------------\n",
      "{'ShardId': 'shardId-000000000000', 'SequenceNumber': '49581293592208739795471062951286815567508804757991981058', 'ResponseMetadata': {'RequestId': 'd43e7ce3-63b7-04f6-86d2-5ca07c027f23', 'HTTPStatusCode': 200, 'HTTPHeaders': {'server': 'Apache-Coyote/1.1', 'x-amzn-requestid': 'd43e7ce3-63b7-04f6-86d2-5ca07c027f23', 'x-amz-id-2': 'yqlUdHli48oHmVfYicYsMw+FCAwmqNYIW2cnLehQunQhAf0AEMbP8wETAS+zDvHWs5HBfA0RGV2R4DLA/4oIA8w6B7t2VBWPsUetsrL6CbM=', 'content-type': 'application/x-amz-json-1.1', 'content-length': '110', 'date': 'Wed, 31 Jan 2018 19:50:26 GMT'}, 'RetryAttempts': 0}}\n",
      "{'latestUpdate': '2018-01-31 19:50:19', 'companyName': 'Apple Inc.', 'latestPrice': 166.8, 'latestVolume': 21705132, 'marketCap': 848520940800, 'open': 166.95, 'previousClose': 166.97, 'sector': 'Technology', 'high': 168.442, 'low': 166.5, 'ytdChange': -0.03070939277835825, 'peRatio': 18.13, 'week52High': 180.1, 'week52Low': 120.62}\n",
      "---------------------------------\n",
      "{'ShardId': 'shardId-000000000000', 'SequenceNumber': '49581293592208739795471062951288024493328419455886163970', 'ResponseMetadata': {'RequestId': 'e5e7960e-22c5-71df-b70b-b64d3d700a0a', 'HTTPStatusCode': 200, 'HTTPHeaders': {'server': 'Apache-Coyote/1.1', 'x-amzn-requestid': 'e5e7960e-22c5-71df-b70b-b64d3d700a0a', 'x-amz-id-2': 'de487QuCDmUeR8XsVAcBgC/aKMUeels9bI0vKyK1Aw0WpqMyHSYZy8lpgJc2oSGSYPVjPz51n7g0OC7r+COsgLAxKpqL5No8TobWw2GCu90=', 'content-type': 'application/x-amz-json-1.1', 'content-length': '110', 'date': 'Wed, 31 Jan 2018 19:50:27 GMT'}, 'RetryAttempts': 0}}\n",
      "{'latestUpdate': '2018-01-31 19:50:17', 'companyName': 'Facebook Inc.', 'latestPrice': 187.33, 'latestVolume': 17359693, 'marketCap': 544345152763, 'open': 188.45, 'previousClose': 187.12, 'sector': 'Technology', 'high': 189.83, 'low': 187.3, 'ytdChange': 0.031418807187741246, 'peRatio': 36.09, 'week52High': 190.66, 'week52Low': 129.5157}\n",
      "---------------------------------\n",
      "{'ShardId': 'shardId-000000000000', 'SequenceNumber': '49581293592208739795471062951289233419148034085060870146', 'ResponseMetadata': {'RequestId': 'c0d0e884-0d48-7e77-923c-c8c712fd05a2', 'HTTPStatusCode': 200, 'HTTPHeaders': {'server': 'Apache-Coyote/1.1', 'x-amzn-requestid': 'c0d0e884-0d48-7e77-923c-c8c712fd05a2', 'x-amz-id-2': 'lhnuuY5NXJ8/WRTzqUn9mXxaEIZvc3xDd0gJmkysrnjg1HhQS7UrEo7z1OvulMt1kNKoWA4j+WsK+O/S+bcyFh3b66IJPcgfnV5ZXLV5fxU=', 'content-type': 'application/x-amz-json-1.1', 'content-length': '110', 'date': 'Wed, 31 Jan 2018 19:50:27 GMT'}, 'RetryAttempts': 0}}\n",
      "{'latestUpdate': '2018-01-31 19:50:14', 'companyName': 'Alphabet Inc.', 'latestPrice': 1162.97, 'latestVolume': 872807, 'marketCap': 808034011030, 'open': 1170.57, 'previousClose': 1163.69, 'sector': 'Technology', 'high': 1173, 'low': 1162.39, 'ytdChange': 0.09266666666666672, 'peRatio': None, 'week52High': 1186.89, 'week52Low': 790.52}\n",
      "---------------------------------\n",
      "{'ShardId': 'shardId-000000000000', 'SequenceNumber': '49581293592208739795471062951290442344967649401430343682', 'ResponseMetadata': {'RequestId': 'cd504819-92ef-b518-9fbc-685796bac6af', 'HTTPStatusCode': 200, 'HTTPHeaders': {'server': 'Apache-Coyote/1.1', 'x-amzn-requestid': 'cd504819-92ef-b518-9fbc-685796bac6af', 'x-amz-id-2': '4q/uL4CnUL7Te5hsOQCf6p+eJbDQ+s0JFGyD4RTBqI9THXDMZPWIBwpAa7pg/X5zveRnUs4wO/ESNeFA+9j7EmLk5y04Oog43XqpjY2ddWk=', 'content-type': 'application/x-amz-json-1.1', 'content-length': '110', 'date': 'Wed, 31 Jan 2018 19:50:37 GMT'}, 'RetryAttempts': 0}}\n",
      "{'latestUpdate': '2018-01-31 19:50:26', 'companyName': 'Apple Inc.', 'latestPrice': 166.81, 'latestVolume': 21708355, 'marketCap': 848571811360, 'open': 166.95, 'previousClose': 166.97, 'sector': 'Technology', 'high': 168.442, 'low': 166.5, 'ytdChange': -0.03070939277835825, 'peRatio': 18.13, 'week52High': 180.1, 'week52Low': 120.62}\n",
      "---------------------------------\n",
      "{'ShardId': 'shardId-000000000000', 'SequenceNumber': '49581293592208739795471062951291651270787264030605049858', 'ResponseMetadata': {'RequestId': 'e916df60-f8fb-6c00-bbfa-ff2efcae1fb7', 'HTTPStatusCode': 200, 'HTTPHeaders': {'server': 'Apache-Coyote/1.1', 'x-amzn-requestid': 'e916df60-f8fb-6c00-bbfa-ff2efcae1fb7', 'x-amz-id-2': 'KJkV5910MC2wGEC3CsHoYcKyGXxEltjdzT6+pvKfCDCSneXxgB8JCBftmCu7k6OlW7Ew1gqf882LlasHT+uJ5dFr7nrOo22J09Ni3ILHHsQ=', 'content-type': 'application/x-amz-json-1.1', 'content-length': '110', 'date': 'Wed, 31 Jan 2018 19:50:37 GMT'}, 'RetryAttempts': 0}}\n",
      "{'latestUpdate': '2018-01-31 19:50:31', 'companyName': 'Facebook Inc.', 'latestPrice': 187.28, 'latestVolume': 17362761, 'marketCap': 544199862325, 'open': 188.45, 'previousClose': 187.12, 'sector': 'Technology', 'high': 189.83, 'low': 187.3, 'ytdChange': 0.031418807187741246, 'peRatio': 36.08, 'week52High': 190.66, 'week52Low': 129.5157}\n",
      "---------------------------------\n",
      "{'ShardId': 'shardId-000000000000', 'SequenceNumber': '49581293592208739795471062951292860196606878659779756034', 'ResponseMetadata': {'RequestId': 'dd1326c7-96f6-c804-8fff-068992a3bbb3', 'HTTPStatusCode': 200, 'HTTPHeaders': {'server': 'Apache-Coyote/1.1', 'x-amzn-requestid': 'dd1326c7-96f6-c804-8fff-068992a3bbb3', 'x-amz-id-2': 'rYemXQLDdQBLAV/loX3ByAncZyWw+vFPFbYBVrc0/HMhnry7fasQxYPJPhEiSSAZRsElq9UqQkt3Ez+CtHvZjmTpau/UPtYKn65Ae1g5bsk=', 'content-type': 'application/x-amz-json-1.1', 'content-length': '110', 'date': 'Wed, 31 Jan 2018 19:50:37 GMT'}, 'RetryAttempts': 0}}\n",
      "{'latestUpdate': '2018-01-31 19:50:14', 'companyName': 'Alphabet Inc.', 'latestPrice': 1162.97, 'latestVolume': 872807, 'marketCap': 808034011030, 'open': 1170.57, 'previousClose': 1163.69, 'sector': 'Technology', 'high': 1173, 'low': 1162.39, 'ytdChange': 0.09266666666666672, 'peRatio': None, 'week52High': 1186.89, 'week52Low': 790.52}\n"
     ]
    },
    {
     "name": "stdout",
     "output_type": "stream",
     "text": [
      "---------------------------------\n",
      "{'ShardId': 'shardId-000000000000', 'SequenceNumber': '49581293592208739795471062951294069122426493976149229570', 'ResponseMetadata': {'RequestId': 'fc9d4ae1-716b-d112-ae71-6ab91557c84a', 'HTTPStatusCode': 200, 'HTTPHeaders': {'server': 'Apache-Coyote/1.1', 'x-amzn-requestid': 'fc9d4ae1-716b-d112-ae71-6ab91557c84a', 'x-amz-id-2': 'Eri4PE98UKmsg626HGnG8ZWvMpWA3tAz04Cct/gVPAzJ2fXCgTIilsPf/XOJSp1kHky+WqGOuPmdKwAvJlW6daQu5jfBw94S0uFkXVS/UCg=', 'content-type': 'application/x-amz-json-1.1', 'content-length': '110', 'date': 'Wed, 31 Jan 2018 19:50:48 GMT'}, 'RetryAttempts': 0}}\n",
      "{'latestUpdate': '2018-01-31 19:50:39', 'companyName': 'Apple Inc.', 'latestPrice': 166.79, 'latestVolume': 21740984, 'marketCap': 848470070240, 'open': 166.95, 'previousClose': 166.97, 'sector': 'Technology', 'high': 168.442, 'low': 166.5, 'ytdChange': -0.03070939277835825, 'peRatio': 18.13, 'week52High': 180.1, 'week52Low': 120.62}\n",
      "---------------------------------\n",
      "{'ShardId': 'shardId-000000000000', 'SequenceNumber': '49581293592208739795471062951295278048246108605323935746', 'ResponseMetadata': {'RequestId': 'e572a034-23de-c8c4-b79e-806d47e2d19c', 'HTTPStatusCode': 200, 'HTTPHeaders': {'server': 'Apache-Coyote/1.1', 'x-amzn-requestid': 'e572a034-23de-c8c4-b79e-806d47e2d19c', 'x-amz-id-2': 'X4H77fgbtryJXwumInzV90FMTPKuu7bygc214QdfdDv1dzkCzBx7T/d9rdWnf+t2V/b8Yy47mzT6z9TBX71iJog4AqZ38RCij1kGMSqs1tc=', 'content-type': 'application/x-amz-json-1.1', 'content-length': '110', 'date': 'Wed, 31 Jan 2018 19:50:49 GMT'}, 'RetryAttempts': 0}}\n",
      "{'latestUpdate': '2018-01-31 19:50:44', 'companyName': 'Facebook Inc.', 'latestPrice': 187.125, 'latestVolume': 17396969, 'marketCap': 543749461970, 'open': 188.45, 'previousClose': 187.12, 'sector': 'Technology', 'high': 189.83, 'low': 187.3, 'ytdChange': 0.031418807187741246, 'peRatio': 36.05, 'week52High': 190.66, 'week52Low': 129.5157}\n",
      "---------------------------------\n",
      "{'ShardId': 'shardId-000000000000', 'SequenceNumber': '49581293592208739795471062951296486974065723303218118658', 'ResponseMetadata': {'RequestId': 'd3e7ea2c-df7a-6476-810b-ca75bb467d2e', 'HTTPStatusCode': 200, 'HTTPHeaders': {'server': 'Apache-Coyote/1.1', 'x-amzn-requestid': 'd3e7ea2c-df7a-6476-810b-ca75bb467d2e', 'x-amz-id-2': 'oVW689HtLZ3T/QUE2Qshw8x1HPAK3F1qGLlm7o3Wf1m7Kgs3CAK4BFJfFnc1UOEE1DRyhHcGGxt8DJMPmdztjHP1mL9f5wU0kE/ZOcbvqGQ=', 'content-type': 'application/x-amz-json-1.1', 'content-length': '110', 'date': 'Wed, 31 Jan 2018 19:50:49 GMT'}, 'RetryAttempts': 0}}\n",
      "{'latestUpdate': '2018-01-31 19:50:14', 'companyName': 'Alphabet Inc.', 'latestPrice': 1162.97, 'latestVolume': 873020, 'marketCap': 808034011030, 'open': 1170.57, 'previousClose': 1163.69, 'sector': 'Technology', 'high': 1173, 'low': 1162.39, 'ytdChange': 0.09266666666666672, 'peRatio': None, 'week52High': 1186.89, 'week52Low': 790.52}\n",
      "---------------------------------\n",
      "{'ShardId': 'shardId-000000000000', 'SequenceNumber': '49581293592208739795471062951297695899885338688307068930', 'ResponseMetadata': {'RequestId': 'fa22523a-dc93-9571-a8ce-725991d51646', 'HTTPStatusCode': 200, 'HTTPHeaders': {'server': 'Apache-Coyote/1.1', 'x-amzn-requestid': 'fa22523a-dc93-9571-a8ce-725991d51646', 'x-amz-id-2': 'wQh0sDv/T/2I3x6CUdJqoz3lXjS2aGov/NZgoACh+mPF+ACK1bcspv3s1b8Oj7SrK7SYliD1jyduyZwAF/ug0mFzK0E2l6Z0VuPjhx29hcw=', 'content-type': 'application/x-amz-json-1.1', 'content-length': '110', 'date': 'Wed, 31 Jan 2018 19:50:59 GMT'}, 'RetryAttempts': 0}}\n",
      "{'latestUpdate': '2018-01-31 19:50:55', 'companyName': 'Apple Inc.', 'latestPrice': 166.78, 'latestVolume': 21749254, 'marketCap': 848419199680, 'open': 166.95, 'previousClose': 166.97, 'sector': 'Technology', 'high': 168.442, 'low': 166.5, 'ytdChange': -0.03070939277835825, 'peRatio': 18.13, 'week52High': 180.1, 'week52Low': 120.62}\n",
      "---------------------------------\n",
      "{'ShardId': 'shardId-000000000000', 'SequenceNumber': '49581293592208739795471062951298904825704953317481775106', 'ResponseMetadata': {'RequestId': 'df6bc986-8928-f741-8d87-e9e2c46e7476', 'HTTPStatusCode': 200, 'HTTPHeaders': {'server': 'Apache-Coyote/1.1', 'x-amzn-requestid': 'df6bc986-8928-f741-8d87-e9e2c46e7476', 'x-amz-id-2': 'kQ3a4h4bkca8tD3n2zDjGbWDH8TvrXE0fEl0VlC9BIZtRetVOfDA/B0vXAJuGa0rei2Jt+Lfm65jXOcxQsSiiUUI1KZInleXq+N3XltnlvU=', 'content-type': 'application/x-amz-json-1.1', 'content-length': '110', 'date': 'Wed, 31 Jan 2018 19:50:59 GMT'}, 'RetryAttempts': 0}}\n",
      "{'latestUpdate': '2018-01-31 19:50:45', 'companyName': 'Facebook Inc.', 'latestPrice': 187.13, 'latestVolume': 17407629, 'marketCap': 543763991013, 'open': 188.45, 'previousClose': 187.12, 'sector': 'Technology', 'high': 189.83, 'low': 187.3, 'ytdChange': 0.031418807187741246, 'peRatio': 36.06, 'week52High': 190.66, 'week52Low': 129.5157}\n",
      "---------------------------------\n",
      "{'ShardId': 'shardId-000000000000', 'SequenceNumber': '49581293592208739795471062951300113751524568015375958018', 'ResponseMetadata': {'RequestId': 'c132394c-d34f-9f87-93de-19289e091cb0', 'HTTPStatusCode': 200, 'HTTPHeaders': {'server': 'Apache-Coyote/1.1', 'x-amzn-requestid': 'c132394c-d34f-9f87-93de-19289e091cb0', 'x-amz-id-2': '8eMoPFh8Zy/1BRmMIKGfY1QpxInlLtEZjO239bOXphwDZnOxiELe4W4kkLqwqEO2fPfveeDnBC0evliGhRlAFUAz1mBRi71t8Ush69cSbYg=', 'content-type': 'application/x-amz-json-1.1', 'content-length': '110', 'date': 'Wed, 31 Jan 2018 19:51:00 GMT'}, 'RetryAttempts': 0}}\n",
      "{'latestUpdate': '2018-01-31 19:50:14', 'companyName': 'Alphabet Inc.', 'latestPrice': 1162.97, 'latestVolume': 873446, 'marketCap': 808034011030, 'open': 1170.57, 'previousClose': 1163.69, 'sector': 'Technology', 'high': 1173, 'low': 1162.39, 'ytdChange': 0.09266666666666672, 'peRatio': None, 'week52High': 1186.89, 'week52Low': 790.52}\n",
      "---------------------------------\n",
      "{'ShardId': 'shardId-000000000000', 'SequenceNumber': '49581293592208739795471062951301322677344183331745431554', 'ResponseMetadata': {'RequestId': 'f891d694-1040-1ee2-aa7d-f6fa73c193cb', 'HTTPStatusCode': 200, 'HTTPHeaders': {'server': 'Apache-Coyote/1.1', 'x-amzn-requestid': 'f891d694-1040-1ee2-aa7d-f6fa73c193cb', 'x-amz-id-2': 'GbwWKmzbAyTWS7xxsWWtmEEAQbwuHeWLGps6toFddXj+QVaV1vYbl7LR+q2XU2++IfiRCyHtUneir/rvskePail2sYQIdOKR', 'content-type': 'application/x-amz-json-1.1', 'content-length': '110', 'date': 'Wed, 31 Jan 2018 19:51:10 GMT'}, 'RetryAttempts': 0}}\n",
      "{'latestUpdate': '2018-01-31 19:51:06', 'companyName': 'Apple Inc.', 'latestPrice': 166.84, 'latestVolume': 21773624, 'marketCap': 848724423040, 'open': 166.95, 'previousClose': 166.97, 'sector': 'Technology', 'high': 168.442, 'low': 166.5, 'ytdChange': -0.03070939277835825, 'peRatio': 18.13, 'week52High': 180.1, 'week52Low': 120.62}\n",
      "---------------------------------\n",
      "{'ShardId': 'shardId-000000000000', 'SequenceNumber': '49581293592208739795471062951302531603163797960920137730', 'ResponseMetadata': {'RequestId': 'd31b7e75-712b-33a8-81f7-5e1a12aabe81', 'HTTPStatusCode': 200, 'HTTPHeaders': {'server': 'Apache-Coyote/1.1', 'x-amzn-requestid': 'd31b7e75-712b-33a8-81f7-5e1a12aabe81', 'x-amz-id-2': '1mfn1xx9HxdZqxTIYCWWKkSF8ctiUJBmaw5GvgayrNHVBC2aFaB/nxvxBdluCqL8EcFxugPwgaelsCPessrx/A4OdwsKf1er', 'content-type': 'application/x-amz-json-1.1', 'content-length': '110', 'date': 'Wed, 31 Jan 2018 19:51:10 GMT'}, 'RetryAttempts': 0}}\n",
      "{'latestUpdate': '2018-01-31 19:51:02', 'companyName': 'Facebook Inc.', 'latestPrice': 187.02, 'latestVolume': 17477252, 'marketCap': 543444352051, 'open': 188.45, 'previousClose': 187.12, 'sector': 'Technology', 'high': 189.83, 'low': 187.3, 'ytdChange': 0.031418807187741246, 'peRatio': 36.03, 'week52High': 190.66, 'week52Low': 129.5157}\n",
      "---------------------------------\n",
      "{'ShardId': 'shardId-000000000000', 'SequenceNumber': '49581293592208739795471062951303740528983412590094843906', 'ResponseMetadata': {'RequestId': 'd008063c-b235-cb0d-82e4-2653d1b44624', 'HTTPStatusCode': 200, 'HTTPHeaders': {'server': 'Apache-Coyote/1.1', 'x-amzn-requestid': 'd008063c-b235-cb0d-82e4-2653d1b44624', 'x-amz-id-2': 'yIPiodZhG2QEb29mUwvg3yZck5kmKJG0ETkwmEHeA4qhRYBIIfAfT2lTqpkNBOUon1q/Z9/hW3yNFl3aXFnw4l90A1e/r/nz', 'content-type': 'application/x-amz-json-1.1', 'content-length': '110', 'date': 'Wed, 31 Jan 2018 19:51:11 GMT'}, 'RetryAttempts': 0}}\n",
      "{'latestUpdate': '2018-01-31 19:50:14', 'companyName': 'Alphabet Inc.', 'latestPrice': 1162.97, 'latestVolume': 878156, 'marketCap': 808034011030, 'open': 1170.57, 'previousClose': 1163.69, 'sector': 'Technology', 'high': 1173, 'low': 1162.39, 'ytdChange': 0.09266666666666672, 'peRatio': None, 'week52High': 1186.89, 'week52Low': 790.52}\n"
     ]
    },
    {
     "name": "stdout",
     "output_type": "stream",
     "text": [
      "---------------------------------\n",
      "{'ShardId': 'shardId-000000000000', 'SequenceNumber': '49581293592208739795471062951304949454803027906464317442', 'ResponseMetadata': {'RequestId': 'e8907b31-856c-b48f-ba7c-5b48e5e1e10a', 'HTTPStatusCode': 200, 'HTTPHeaders': {'server': 'Apache-Coyote/1.1', 'x-amzn-requestid': 'e8907b31-856c-b48f-ba7c-5b48e5e1e10a', 'x-amz-id-2': 'mgv6vXI5JxV1y3Nr4t643iwlfT3z3DOcOk72PeW6DM37cnn9zMfOeyYWPMzGgT3JDfuZg1FBUcG8Dp23xKXnY+Ggjdc5gWTZ', 'content-type': 'application/x-amz-json-1.1', 'content-length': '110', 'date': 'Wed, 31 Jan 2018 19:51:21 GMT'}, 'RetryAttempts': 0}}\n",
      "{'latestUpdate': '2018-01-31 19:51:13', 'companyName': 'Apple Inc.', 'latestPrice': 166.84, 'latestVolume': 21784343, 'marketCap': 848724423040, 'open': 166.95, 'previousClose': 166.97, 'sector': 'Technology', 'high': 168.442, 'low': 166.5, 'ytdChange': -0.03070939277835825, 'peRatio': 18.13, 'week52High': 180.1, 'week52Low': 120.62}\n",
      "---------------------------------\n",
      "{'ShardId': 'shardId-000000000000', 'SequenceNumber': '49581293592208739795471062951306158380622642535639023618', 'ResponseMetadata': {'RequestId': 'ea71169e-a69c-5e98-b89d-36e7c6110b1d', 'HTTPStatusCode': 200, 'HTTPHeaders': {'server': 'Apache-Coyote/1.1', 'x-amzn-requestid': 'ea71169e-a69c-5e98-b89d-36e7c6110b1d', 'x-amz-id-2': 'JnQfOVMnZ7fBYTea7TXd8qbkM5XBqpGtcfdXkv7Ak+QhCv1ib4cLYNJ2dp6MMQkfvQIllubsa8tazl4l2DXdtFIIvBBlfLG5', 'content-type': 'application/x-amz-json-1.1', 'content-length': '110', 'date': 'Wed, 31 Jan 2018 19:51:21 GMT'}, 'RetryAttempts': 0}}\n",
      "{'latestUpdate': '2018-01-31 19:51:18', 'companyName': 'Facebook Inc.', 'latestPrice': 187, 'latestVolume': 17539452, 'marketCap': 543386235876, 'open': 188.45, 'previousClose': 187.12, 'sector': 'Technology', 'high': 189.83, 'low': 187.3, 'ytdChange': 0.031418807187741246, 'peRatio': 36.03, 'week52High': 190.66, 'week52Low': 129.5157}\n",
      "---------------------------------\n",
      "{'ShardId': 'shardId-000000000000', 'SequenceNumber': '49581293592208739795471062951307367306442257233533206530', 'ResponseMetadata': {'RequestId': 'cdb37b1e-f019-3e18-9f5f-5b6490946b9d', 'HTTPStatusCode': 200, 'HTTPHeaders': {'server': 'Apache-Coyote/1.1', 'x-amzn-requestid': 'cdb37b1e-f019-3e18-9f5f-5b6490946b9d', 'x-amz-id-2': '/89hdzpFViyLSaY871INczOATfrIvF2hJNuwu64BYIq9LOTPOyfIXQjhXcLVBKsfgKc94Slge2xMAx12uQKbd1tDBXHKYSb+', 'content-type': 'application/x-amz-json-1.1', 'content-length': '110', 'date': 'Wed, 31 Jan 2018 19:51:22 GMT'}, 'RetryAttempts': 0}}\n",
      "{'latestUpdate': '2018-01-31 19:50:14', 'companyName': 'Alphabet Inc.', 'latestPrice': 1162.97, 'latestVolume': 878587, 'marketCap': 808034011030, 'open': 1170.57, 'previousClose': 1163.69, 'sector': 'Technology', 'high': 1173, 'low': 1162.39, 'ytdChange': 0.09266666666666672, 'peRatio': None, 'week52High': 1186.89, 'week52Low': 790.52}\n",
      "---------------------------------\n",
      "{'ShardId': 'shardId-000000000000', 'SequenceNumber': '49581293592208739795471062951308576232261872618622156802', 'ResponseMetadata': {'RequestId': 'c7155b49-df7a-b289-95f9-7bcdb012d88e', 'HTTPStatusCode': 200, 'HTTPHeaders': {'server': 'Apache-Coyote/1.1', 'x-amzn-requestid': 'c7155b49-df7a-b289-95f9-7bcdb012d88e', 'x-amz-id-2': 'D251BoBOlD64tqTFVPDeTz0wIi+1UroO9lZvD+uZJcnm0UW9vVMFmv5X8QOb9yhv18mJ+pr8jRUieE5qBOMtZx0Mh6n4iS+b', 'content-type': 'application/x-amz-json-1.1', 'content-length': '110', 'date': 'Wed, 31 Jan 2018 19:51:32 GMT'}, 'RetryAttempts': 0}}\n",
      "{'latestUpdate': '2018-01-31 19:51:21', 'companyName': 'Apple Inc.', 'latestPrice': 166.9, 'latestVolume': 21802430, 'marketCap': 849029646400, 'open': 166.95, 'previousClose': 166.97, 'sector': 'Technology', 'high': 168.442, 'low': 166.5, 'ytdChange': -0.03070939277835825, 'peRatio': 18.14, 'week52High': 180.1, 'week52Low': 120.62}\n",
      "---------------------------------\n",
      "{'ShardId': 'shardId-000000000000', 'SequenceNumber': '49581293592208739795471062951309785158081487247796862978', 'ResponseMetadata': {'RequestId': 'e9d21cdb-6a13-9858-bb3e-3c5f057bf25f', 'HTTPStatusCode': 200, 'HTTPHeaders': {'server': 'Apache-Coyote/1.1', 'x-amzn-requestid': 'e9d21cdb-6a13-9858-bb3e-3c5f057bf25f', 'x-amz-id-2': 'T3D3mbBZHMeATF6ZnKMCZzsN1J+Q8lnpdlrme3WN4pJ5zjEQzJm5HISvHVrFUYYKpjyLomhfkwxAFJvZzvpJ1mZoc8ktMw/D', 'content-type': 'application/x-amz-json-1.1', 'content-length': '110', 'date': 'Wed, 31 Jan 2018 19:51:32 GMT'}, 'RetryAttempts': 0}}\n",
      "{'latestUpdate': '2018-01-31 19:51:28', 'companyName': 'Facebook Inc.', 'latestPrice': 186.99, 'latestVolume': 17553344, 'marketCap': 543357177789, 'open': 188.45, 'previousClose': 187.12, 'sector': 'Technology', 'high': 189.83, 'low': 187.3, 'ytdChange': 0.031418807187741246, 'peRatio': 36.03, 'week52High': 190.66, 'week52Low': 129.5157}\n",
      "---------------------------------\n",
      "{'ShardId': 'shardId-000000000000', 'SequenceNumber': '49581293592208739795471062951310994083901101876971569154', 'ResponseMetadata': {'RequestId': 'dbce8d42-1eed-ee0a-8922-adc77185840d', 'HTTPStatusCode': 200, 'HTTPHeaders': {'server': 'Apache-Coyote/1.1', 'x-amzn-requestid': 'dbce8d42-1eed-ee0a-8922-adc77185840d', 'x-amz-id-2': 'ABi4QtEJZcvM+XKeYZRVzSjsv+4r3pHBVzI1u9R269ZRBioel6yCPhl754oF8XqfG1hn4+9H1YOqjjvY7IhS1hpg0h8HEfXV', 'content-type': 'application/x-amz-json-1.1', 'content-length': '110', 'date': 'Wed, 31 Jan 2018 19:51:32 GMT'}, 'RetryAttempts': 0}}\n",
      "{'latestUpdate': '2018-01-31 19:50:14', 'companyName': 'Alphabet Inc.', 'latestPrice': 1162.97, 'latestVolume': 878803, 'marketCap': 808034011030, 'open': 1170.57, 'previousClose': 1163.69, 'sector': 'Technology', 'high': 1173, 'low': 1162.39, 'ytdChange': 0.09266666666666672, 'peRatio': None, 'week52High': 1186.89, 'week52Low': 790.52}\n",
      "---------------------------------\n",
      "{'ShardId': 'shardId-000000000000', 'SequenceNumber': '49581293592208739795471062951312203009720717193341042690', 'ResponseMetadata': {'RequestId': 'de503a8c-249a-2d08-8cbc-1a034cb522ec', 'HTTPStatusCode': 200, 'HTTPHeaders': {'server': 'Apache-Coyote/1.1', 'x-amzn-requestid': 'de503a8c-249a-2d08-8cbc-1a034cb522ec', 'x-amz-id-2': 'HWu8UePx0aXBsBP75O2oLoNKFJdRHYriDtozB0x7Bv2609rV8JCA4xxOn5E0HspEOgzSej2q7Mwm1CB1O2gPtM42cgrfLLI7', 'content-type': 'application/x-amz-json-1.1', 'content-length': '110', 'date': 'Wed, 31 Jan 2018 19:51:42 GMT'}, 'RetryAttempts': 0}}\n",
      "{'latestUpdate': '2018-01-31 19:51:39', 'companyName': 'Apple Inc.', 'latestPrice': 166.96, 'latestVolume': 21810562, 'marketCap': 849334869760, 'open': 166.95, 'previousClose': 166.97, 'sector': 'Technology', 'high': 168.442, 'low': 166.5, 'ytdChange': -0.03070939277835825, 'peRatio': 18.15, 'week52High': 180.1, 'week52Low': 120.62}\n",
      "---------------------------------\n",
      "{'ShardId': 'shardId-000000000000', 'SequenceNumber': '49581293592208739795471062951313411935540331891235225602', 'ResponseMetadata': {'RequestId': 'c523614f-bc4b-a25e-97cf-41c0d464adba', 'HTTPStatusCode': 200, 'HTTPHeaders': {'server': 'Apache-Coyote/1.1', 'x-amzn-requestid': 'c523614f-bc4b-a25e-97cf-41c0d464adba', 'x-amz-id-2': 'qRQoW6epMO1Kx2jIj7FaN734oBLCLlTzzJReFHAfbUrKetpFkfv71SE/pY26p9JCKTPeX35gZ6Ex0otGzNB1QbsdYssO3W/o', 'content-type': 'application/x-amz-json-1.1', 'content-length': '110', 'date': 'Wed, 31 Jan 2018 19:51:42 GMT'}, 'RetryAttempts': 0}}\n",
      "{'latestUpdate': '2018-01-31 19:51:38', 'companyName': 'Facebook Inc.', 'latestPrice': 187.015, 'latestVolume': 17581925, 'marketCap': 543429823007, 'open': 188.45, 'previousClose': 187.12, 'sector': 'Technology', 'high': 189.83, 'low': 187.3, 'ytdChange': 0.031418807187741246, 'peRatio': 36.03, 'week52High': 190.66, 'week52Low': 129.5157}\n",
      "---------------------------------\n",
      "{'ShardId': 'shardId-000000000000', 'SequenceNumber': '49581293592208739795471062951314620861359946520409931778', 'ResponseMetadata': {'RequestId': 'cede7531-0dd6-d09a-9c32-55be65f9df7e', 'HTTPStatusCode': 200, 'HTTPHeaders': {'server': 'Apache-Coyote/1.1', 'x-amzn-requestid': 'cede7531-0dd6-d09a-9c32-55be65f9df7e', 'x-amz-id-2': 'j+f8OAuqa870txG899eMgFJmTm5dWrYlx/goMg6Qw3w/cvem7+BxxdG/fitfQDRtwSyFaZuFV4rE8rzBmmI5oBZXvnnEG5Xj', 'content-type': 'application/x-amz-json-1.1', 'content-length': '110', 'date': 'Wed, 31 Jan 2018 19:51:43 GMT'}, 'RetryAttempts': 0}}\n",
      "{'latestUpdate': '2018-01-31 19:50:14', 'companyName': 'Alphabet Inc.', 'latestPrice': 1162.97, 'latestVolume': 878803, 'marketCap': 808034011030, 'open': 1170.57, 'previousClose': 1163.69, 'sector': 'Technology', 'high': 1173, 'low': 1162.39, 'ytdChange': 0.09266666666666672, 'peRatio': None, 'week52High': 1186.89, 'week52Low': 790.52}\n"
     ]
    },
    {
     "name": "stdout",
     "output_type": "stream",
     "text": [
      "---------------------------------\n",
      "{'ShardId': 'shardId-000000000000', 'SequenceNumber': '49581293592208739795471062951315829787179561836779405314', 'ResponseMetadata': {'RequestId': 'e9597078-d6d9-ce43-bbb5-50e2e5238265', 'HTTPStatusCode': 200, 'HTTPHeaders': {'server': 'Apache-Coyote/1.1', 'x-amzn-requestid': 'e9597078-d6d9-ce43-bbb5-50e2e5238265', 'x-amz-id-2': 'KZuG2mnVX7JfRK6RhfPWGCFSeJTr4dxRc1uZ5/t+8FgzQO13SM5khyFgz1FhucdfcmE6erdV7+Tpsx3k5YFi/UGXIUH/7RQC', 'content-type': 'application/x-amz-json-1.1', 'content-length': '110', 'date': 'Wed, 31 Jan 2018 19:51:53 GMT'}, 'RetryAttempts': 0}}\n",
      "{'latestUpdate': '2018-01-31 19:51:50', 'companyName': 'Apple Inc.', 'latestPrice': 166.91, 'latestVolume': 21828651, 'marketCap': 849080516960, 'open': 166.95, 'previousClose': 166.97, 'sector': 'Technology', 'high': 168.442, 'low': 166.5, 'ytdChange': -0.03070939277835825, 'peRatio': 18.14, 'week52High': 180.1, 'week52Low': 120.62}\n",
      "---------------------------------\n",
      "{'ShardId': 'shardId-000000000000', 'SequenceNumber': '49581293592208739795471062951317038712999176465954111490', 'ResponseMetadata': {'RequestId': 'ec7350cb-8646-cf65-be9f-7051b5bc8343', 'HTTPStatusCode': 200, 'HTTPHeaders': {'server': 'Apache-Coyote/1.1', 'x-amzn-requestid': 'ec7350cb-8646-cf65-be9f-7051b5bc8343', 'x-amz-id-2': 'cq5XsoiPXylc8l+IDDp497SVr6f0wqbcPBVS3rNJh7snl+s8xsSNO8yD4SyH373Xc1UtYpezs+2FQfgKp1+K5SsLEcnZ/PyR', 'content-type': 'application/x-amz-json-1.1', 'content-length': '110', 'date': 'Wed, 31 Jan 2018 19:51:53 GMT'}, 'RetryAttempts': 0}}\n",
      "{'latestUpdate': '2018-01-31 19:51:38', 'companyName': 'Facebook Inc.', 'latestPrice': 187.015, 'latestVolume': 17603644, 'marketCap': 543429823007, 'open': 188.45, 'previousClose': 187.12, 'sector': 'Technology', 'high': 189.83, 'low': 187.3, 'ytdChange': 0.031418807187741246, 'peRatio': 36.03, 'week52High': 190.66, 'week52Low': 129.5157}\n",
      "---------------------------------\n",
      "{'ShardId': 'shardId-000000000000', 'SequenceNumber': '49581293592208739795471062951318247638818791095128817666', 'ResponseMetadata': {'RequestId': 'e445ebd1-0c03-226d-b6a9-cb4b3ff96e4b', 'HTTPStatusCode': 200, 'HTTPHeaders': {'server': 'Apache-Coyote/1.1', 'x-amzn-requestid': 'e445ebd1-0c03-226d-b6a9-cb4b3ff96e4b', 'x-amz-id-2': '4DibbjbrB75HFlBqnizqTcX0qmQBHhQ+aazBHJslJU9+tXVXfb414c+tw15Cr2h9SFW9g0+AckpIj35SKiRLhKleGh2XR3ZU', 'content-type': 'application/x-amz-json-1.1', 'content-length': '110', 'date': 'Wed, 31 Jan 2018 19:51:53 GMT'}, 'RetryAttempts': 0}}\n",
      "{'latestUpdate': '2018-01-31 19:51:42', 'companyName': 'Alphabet Inc.', 'latestPrice': 1162.21, 'latestVolume': 882772, 'marketCap': 807505961425, 'open': 1170.57, 'previousClose': 1163.69, 'sector': 'Technology', 'high': 1173, 'low': 1162.39, 'ytdChange': 0.09266666666666672, 'peRatio': None, 'week52High': 1186.89, 'week52Low': 790.52}\n",
      "---------------------------------\n",
      "{'ShardId': 'shardId-000000000000', 'SequenceNumber': '49581293592208739795471062951319456564638406480217767938', 'ResponseMetadata': {'RequestId': 'd9aba795-ef4b-1e5c-8b47-87319c762061', 'HTTPStatusCode': 200, 'HTTPHeaders': {'server': 'Apache-Coyote/1.1', 'x-amzn-requestid': 'd9aba795-ef4b-1e5c-8b47-87319c762061', 'x-amz-id-2': '0t8YzM0XUCrN4RIn28egavX+uN/UsfKHkQQGfb3PKU34dw5cdSDvZeEQBLlzN+i08BXWSeG/9UziBE5hufIZ+A0PDugC/v0N', 'content-type': 'application/x-amz-json-1.1', 'content-length': '110', 'date': 'Wed, 31 Jan 2018 19:52:04 GMT'}, 'RetryAttempts': 0}}\n",
      "{'latestUpdate': '2018-01-31 19:51:57', 'companyName': 'Apple Inc.', 'latestPrice': 166.89, 'latestVolume': 21834504, 'marketCap': 848978775840, 'open': 166.95, 'previousClose': 166.97, 'sector': 'Technology', 'high': 168.442, 'low': 166.5, 'ytdChange': -0.03070939277835825, 'peRatio': 18.14, 'week52High': 180.1, 'week52Low': 120.62}\n",
      "---------------------------------\n",
      "{'ShardId': 'shardId-000000000000', 'SequenceNumber': '49581293592208739795471062951320665490458021109392474114', 'ResponseMetadata': {'RequestId': 'f081478b-97df-a021-a26d-672ee4e29e1c', 'HTTPStatusCode': 200, 'HTTPHeaders': {'server': 'Apache-Coyote/1.1', 'x-amzn-requestid': 'f081478b-97df-a021-a26d-672ee4e29e1c', 'x-amz-id-2': 'hAbG4ozTUyafacw1r/ukmcsfvR6Y/2fqBDRoAVUwfTpzZlv8hCfukTmMi/GLg4lRudCcIKy7wK7fQTRfnLJOHQWVYMQiGBJF', 'content-type': 'application/x-amz-json-1.1', 'content-length': '110', 'date': 'Wed, 31 Jan 2018 19:52:04 GMT'}, 'RetryAttempts': 0}}\n",
      "{'latestUpdate': '2018-01-31 19:51:57', 'companyName': 'Facebook Inc.', 'latestPrice': 186.95, 'latestVolume': 17615261, 'marketCap': 543240945439, 'open': 188.45, 'previousClose': 187.12, 'sector': 'Technology', 'high': 189.83, 'low': 187.3, 'ytdChange': 0.031418807187741246, 'peRatio': 36.02, 'week52High': 190.66, 'week52Low': 129.5157}\n",
      "---------------------------------\n",
      "{'ShardId': 'shardId-000000000000', 'SequenceNumber': '49581293592208739795471062951321874416277635738567180290', 'ResponseMetadata': {'RequestId': 'c47daf14-4f92-92ce-9691-8fb13cafacf3', 'HTTPStatusCode': 200, 'HTTPHeaders': {'server': 'Apache-Coyote/1.1', 'x-amzn-requestid': 'c47daf14-4f92-92ce-9691-8fb13cafacf3', 'x-amz-id-2': 'WQdoLRIVrJeTmpL1qsCZS229kFY2W0yea3vCOqQnG+GnHI5buxRURz/bVDOlnkHz16I1E5malTeW2NtBQMyN54I2FOnT6Rzf', 'content-type': 'application/x-amz-json-1.1', 'content-length': '110', 'date': 'Wed, 31 Jan 2018 19:52:04 GMT'}, 'RetryAttempts': 0}}\n",
      "{'latestUpdate': '2018-01-31 19:51:42', 'companyName': 'Alphabet Inc.', 'latestPrice': 1162.21, 'latestVolume': 886257, 'marketCap': 807505961425, 'open': 1170.57, 'previousClose': 1163.69, 'sector': 'Technology', 'high': 1173, 'low': 1162.39, 'ytdChange': 0.09266666666666672, 'peRatio': None, 'week52High': 1186.89, 'week52Low': 790.52}\n",
      "---------------------------------\n",
      "{'ShardId': 'shardId-000000000000', 'SequenceNumber': '49581293592208739795471062951323083342097251054936653826', 'ResponseMetadata': {'RequestId': 'f03e7a2d-3b68-5214-a2d2-5a82f57cfc11', 'HTTPStatusCode': 200, 'HTTPHeaders': {'server': 'Apache-Coyote/1.1', 'x-amzn-requestid': 'f03e7a2d-3b68-5214-a2d2-5a82f57cfc11', 'x-amz-id-2': 'Ovg9F6OFzls7GwjNUPi7P51aA92mtRz5BMoxOhFhtXrQ1HyESnADQBmIZvWKGPCXjPFwZaH+3eAP3zT6/dhkT6BNglsktEmU', 'content-type': 'application/x-amz-json-1.1', 'content-length': '110', 'date': 'Wed, 31 Jan 2018 19:52:15 GMT'}, 'RetryAttempts': 0}}\n",
      "{'latestUpdate': '2018-01-31 19:52:09', 'companyName': 'Apple Inc.', 'latestPrice': 166.96, 'latestVolume': 21853689, 'marketCap': 849334869760, 'open': 166.95, 'previousClose': 166.97, 'sector': 'Technology', 'high': 168.442, 'low': 166.5, 'ytdChange': -0.03070939277835825, 'peRatio': 18.15, 'week52High': 180.1, 'week52Low': 120.62}\n",
      "---------------------------------\n",
      "{'ShardId': 'shardId-000000000000', 'SequenceNumber': '49581293592208739795471062951324292267916865752830836738', 'ResponseMetadata': {'RequestId': 'f7372273-a6bd-023d-a5db-02dc68a9ac38', 'HTTPStatusCode': 200, 'HTTPHeaders': {'server': 'Apache-Coyote/1.1', 'x-amzn-requestid': 'f7372273-a6bd-023d-a5db-02dc68a9ac38', 'x-amz-id-2': 'X49L/jmaoZqDE5CMcIz+m/LmOvMflikyQfAd1hKkCj3k4/Tqhfs4pjwiS3OMEdM6u09e7/Iu1tGpQziCd25mkYJSs19kjvjx', 'content-type': 'application/x-amz-json-1.1', 'content-length': '110', 'date': 'Wed, 31 Jan 2018 19:52:15 GMT'}, 'RetryAttempts': 0}}\n",
      "{'latestUpdate': '2018-01-31 19:52:12', 'companyName': 'Facebook Inc.', 'latestPrice': 186.96, 'latestVolume': 17640148, 'marketCap': 543270003526, 'open': 188.45, 'previousClose': 187.12, 'sector': 'Technology', 'high': 189.83, 'low': 187.3, 'ytdChange': 0.031418807187741246, 'peRatio': 36.02, 'week52High': 190.66, 'week52Low': 129.5157}\n",
      "---------------------------------\n",
      "{'ShardId': 'shardId-000000000000', 'SequenceNumber': '49581293592208739795471062951325501193736480382005542914', 'ResponseMetadata': {'RequestId': 'e34b4407-0f0e-f1f0-b1a7-64b7c11a5ff5', 'HTTPStatusCode': 200, 'HTTPHeaders': {'server': 'Apache-Coyote/1.1', 'x-amzn-requestid': 'e34b4407-0f0e-f1f0-b1a7-64b7c11a5ff5', 'x-amz-id-2': 'BRKl4usKALnCLGV+gyWRPDPIk45PHQMlaBTZmsU8cUpvon9wTJePLFr4s1obm53lT4UHE1lD1d8dFdq172l3cXfSuAD9h7PZ', 'content-type': 'application/x-amz-json-1.1', 'content-length': '110', 'date': 'Wed, 31 Jan 2018 19:52:16 GMT'}, 'RetryAttempts': 0}}\n",
      "{'latestUpdate': '2018-01-31 19:51:42', 'companyName': 'Alphabet Inc.', 'latestPrice': 1162.21, 'latestVolume': 887790, 'marketCap': 807505961425, 'open': 1170.57, 'previousClose': 1163.69, 'sector': 'Technology', 'high': 1173, 'low': 1162.39, 'ytdChange': 0.09266666666666672, 'peRatio': None, 'week52High': 1186.89, 'week52Low': 790.52}\n"
     ]
    },
    {
     "name": "stdout",
     "output_type": "stream",
     "text": [
      "---------------------------------\n",
      "{'ShardId': 'shardId-000000000000', 'SequenceNumber': '49581293592208739795471062951326710119556095698375016450', 'ResponseMetadata': {'RequestId': 'd39c48f7-2f7a-ad27-8170-684d4b9f1264', 'HTTPStatusCode': 200, 'HTTPHeaders': {'server': 'Apache-Coyote/1.1', 'x-amzn-requestid': 'd39c48f7-2f7a-ad27-8170-684d4b9f1264', 'x-amz-id-2': 'LGHwS1gAJQ8ftmUdIRvD1ZJ2w8A0jFvb3WPM8MbwJ/6hUNIO82WOQDSpNG8RIzgWmK9uLKag7slO8UvqP++pmhPNr8Q93kj6', 'content-type': 'application/x-amz-json-1.1', 'content-length': '110', 'date': 'Wed, 31 Jan 2018 19:52:26 GMT'}, 'RetryAttempts': 0}}\n",
      "{'latestUpdate': '2018-01-31 19:52:19', 'companyName': 'Apple Inc.', 'latestPrice': 166.96, 'latestVolume': 21856616, 'marketCap': 849334869760, 'open': 166.95, 'previousClose': 166.97, 'sector': 'Technology', 'high': 168.442, 'low': 166.5, 'ytdChange': -0.03070939277835825, 'peRatio': 18.15, 'week52High': 180.1, 'week52Low': 120.62}\n",
      "---------------------------------\n",
      "{'ShardId': 'shardId-000000000000', 'SequenceNumber': '49581293592208739795471062951327919045375710327549722626', 'ResponseMetadata': {'RequestId': 'd38e08fa-5d83-8078-8162-284039663f3b', 'HTTPStatusCode': 200, 'HTTPHeaders': {'server': 'Apache-Coyote/1.1', 'x-amzn-requestid': 'd38e08fa-5d83-8078-8162-284039663f3b', 'x-amz-id-2': 'ut0o73asYIX2mlWS7hl7HTI60pAkIoLmsSIfNSWe4LBd/kYvewLG6OrThmPf5JPuMN/U3SDww1K2rb+pyaFPh5691KxMnooK', 'content-type': 'application/x-amz-json-1.1', 'content-length': '110', 'date': 'Wed, 31 Jan 2018 19:52:26 GMT'}, 'RetryAttempts': 0}}\n",
      "{'latestUpdate': '2018-01-31 19:52:22', 'companyName': 'Facebook Inc.', 'latestPrice': 187.03, 'latestVolume': 17668194, 'marketCap': 543473410138, 'open': 188.45, 'previousClose': 187.12, 'sector': 'Technology', 'high': 189.83, 'low': 187.3, 'ytdChange': 0.031418807187741246, 'peRatio': 36.04, 'week52High': 190.66, 'week52Low': 129.5157}\n",
      "---------------------------------\n",
      "{'ShardId': 'shardId-000000000000', 'SequenceNumber': '49581293592208739795471062951329127971195324956724428802', 'ResponseMetadata': {'RequestId': 'd1c2d7fe-18e3-dbf1-832e-f7457c0664b2', 'HTTPStatusCode': 200, 'HTTPHeaders': {'server': 'Apache-Coyote/1.1', 'x-amzn-requestid': 'd1c2d7fe-18e3-dbf1-832e-f7457c0664b2', 'x-amz-id-2': 'cX59GLRn3V5JlL7TeDIGTyQZpDsQeCxwiAtt0CO3ARbaBltXi7SH4tEyy1MPhm/THtPyziMKgXUz0x6rC2XgcTk2ly+PwPsb', 'content-type': 'application/x-amz-json-1.1', 'content-length': '110', 'date': 'Wed, 31 Jan 2018 19:52:26 GMT'}, 'RetryAttempts': 0}}\n",
      "{'latestUpdate': '2018-01-31 19:51:42', 'companyName': 'Alphabet Inc.', 'latestPrice': 1162.21, 'latestVolume': 888889, 'marketCap': 807505961425, 'open': 1170.57, 'previousClose': 1163.69, 'sector': 'Technology', 'high': 1173, 'low': 1162.39, 'ytdChange': 0.09266666666666672, 'peRatio': None, 'week52High': 1186.89, 'week52Low': 790.52}\n",
      "---------------------------------\n",
      "{'ShardId': 'shardId-000000000000', 'SequenceNumber': '49581293592208739795471062951330336897014940341813379074', 'ResponseMetadata': {'RequestId': 'd6d9d2eb-5104-4fe2-8435-f22e5c06c8fd', 'HTTPStatusCode': 200, 'HTTPHeaders': {'server': 'Apache-Coyote/1.1', 'x-amzn-requestid': 'd6d9d2eb-5104-4fe2-8435-f22e5c06c8fd', 'x-amz-id-2': 'RaquuvuKnugk7CNci1p+SNQ2ymkZmHLLFNQ4fndFE1S2jPGcjCI+4exx1M1oCtw1OGkMHh4cvsBIS12BIuxoyXh6RawvF61Y', 'content-type': 'application/x-amz-json-1.1', 'content-length': '110', 'date': 'Wed, 31 Jan 2018 19:52:36 GMT'}, 'RetryAttempts': 0}}\n",
      "{'latestUpdate': '2018-01-31 19:52:32', 'companyName': 'Apple Inc.', 'latestPrice': 167.02, 'latestVolume': 21878266, 'marketCap': 849640093120, 'open': 166.95, 'previousClose': 166.97, 'sector': 'Technology', 'high': 168.442, 'low': 166.5, 'ytdChange': -0.03070939277835825, 'peRatio': 18.15, 'week52High': 180.1, 'week52Low': 120.62}\n",
      "---------------------------------\n",
      "{'ShardId': 'shardId-000000000000', 'SequenceNumber': '49581293592208739795471062951331545822834555039707561986', 'ResponseMetadata': {'RequestId': 'f037d455-0699-cc96-a2db-f4900b9b4b89', 'HTTPStatusCode': 200, 'HTTPHeaders': {'server': 'Apache-Coyote/1.1', 'x-amzn-requestid': 'f037d455-0699-cc96-a2db-f4900b9b4b89', 'x-amz-id-2': 'OsIWcCyX6KwkoQ4LFTZuvI0ojEnhxQ2mo7b3iqU15XLTH+eI71yxxD+yTQRvfa7PBJzkTg5whqKAVJLj9LMtDFVKwv8qNxFH', 'content-type': 'application/x-amz-json-1.1', 'content-length': '110', 'date': 'Wed, 31 Jan 2018 19:52:36 GMT'}, 'RetryAttempts': 0}}\n",
      "{'latestUpdate': '2018-01-31 19:52:31', 'companyName': 'Facebook Inc.', 'latestPrice': 187.05, 'latestVolume': 17695353, 'marketCap': 543531526313, 'open': 188.45, 'previousClose': 187.12, 'sector': 'Technology', 'high': 189.83, 'low': 187.3, 'ytdChange': 0.031418807187741246, 'peRatio': 36.04, 'week52High': 190.66, 'week52Low': 129.5157}\n",
      "---------------------------------\n",
      "{'ShardId': 'shardId-000000000000', 'SequenceNumber': '49581293592208739795471062951332754748654169668882268162', 'ResponseMetadata': {'RequestId': 'd514c5a3-e444-4b76-87f8-e566e946cc69', 'HTTPStatusCode': 200, 'HTTPHeaders': {'server': 'Apache-Coyote/1.1', 'x-amzn-requestid': 'd514c5a3-e444-4b76-87f8-e566e946cc69', 'x-amz-id-2': '/MWRHfMYMChEAF9Gc//n7T/ttY+tpIlPuS+0EdSC/OrFAzkoW69wKe7i+T0YtojlgM+htVRhVOvGfnPkkw1mTyfAcwVWqOw5', 'content-type': 'application/x-amz-json-1.1', 'content-length': '110', 'date': 'Wed, 31 Jan 2018 19:52:37 GMT'}, 'RetryAttempts': 0}}\n",
      "{'latestUpdate': '2018-01-31 19:51:42', 'companyName': 'Alphabet Inc.', 'latestPrice': 1162.21, 'latestVolume': 889329, 'marketCap': 807505961425, 'open': 1170.57, 'previousClose': 1163.69, 'sector': 'Technology', 'high': 1173, 'low': 1162.39, 'ytdChange': 0.09266666666666672, 'peRatio': None, 'week52High': 1186.89, 'week52Low': 790.52}\n"
     ]
    },
    {
     "ename": "KeyboardInterrupt",
     "evalue": "",
     "output_type": "error",
     "traceback": [
      "\u001b[0;31m---------------------------------------------------------------------------\u001b[0m",
      "\u001b[0;31mKeyboardInterrupt\u001b[0m                         Traceback (most recent call last)",
      "\u001b[0;32m<ipython-input-13-3c0fe1e42377>\u001b[0m in \u001b[0;36m<module>\u001b[0;34m()\u001b[0m\n\u001b[1;32m     11\u001b[0m \u001b[0;32mwhile\u001b[0m \u001b[0;32mTrue\u001b[0m\u001b[0;34m:\u001b[0m\u001b[0;34m\u001b[0m\u001b[0m\n\u001b[1;32m     12\u001b[0m     \u001b[0mschedule\u001b[0m\u001b[0;34m.\u001b[0m\u001b[0mrun_pending\u001b[0m\u001b[0;34m(\u001b[0m\u001b[0;34m)\u001b[0m\u001b[0;34m\u001b[0m\u001b[0m\n\u001b[0;32m---> 13\u001b[0;31m     \u001b[0mtime\u001b[0m\u001b[0;34m.\u001b[0m\u001b[0msleep\u001b[0m\u001b[0;34m(\u001b[0m\u001b[0;36m1\u001b[0m\u001b[0;34m)\u001b[0m\u001b[0;34m\u001b[0m\u001b[0m\n\u001b[0m",
      "\u001b[0;31mKeyboardInterrupt\u001b[0m: "
     ]
    }
   ],
   "source": [
    "#Read Data-Store\n",
    "companies = json.loads(REDIS.get('companies').decode())\n",
    "stock_tickers = list(companies.keys())\n",
    "REDIS.set('IEX_Stock_Count', 0)\n",
    "\n",
    "#Setup Schedule\n",
    "schedule.clear()\n",
    "schedule.every(10).seconds.do(fetch_stock_data, stocks=stock_tickers)\n",
    "\n",
    "#Execute\n",
    "while True:\n",
    "    schedule.run_pending()\n",
    "    time.sleep(1)"
   ]
  },
  {
   "cell_type": "code",
   "execution_count": null,
   "metadata": {},
   "outputs": [],
   "source": []
  }
 ],
 "metadata": {
  "kernelspec": {
   "display_name": "Python 3",
   "language": "python",
   "name": "python3"
  },
  "language_info": {
   "codemirror_mode": {
    "name": "ipython",
    "version": 3
   },
   "file_extension": ".py",
   "mimetype": "text/x-python",
   "name": "python",
   "nbconvert_exporter": "python",
   "pygments_lexer": "ipython3",
   "version": "3.6.3"
  }
 },
 "nbformat": 4,
 "nbformat_minor": 2
}
