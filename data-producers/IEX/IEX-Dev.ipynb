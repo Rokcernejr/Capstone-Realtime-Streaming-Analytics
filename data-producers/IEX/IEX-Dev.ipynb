{
 "cells": [
  {
   "cell_type": "code",
   "execution_count": 1,
   "metadata": {},
   "outputs": [],
   "source": [
    "#Imports\n",
    "import redis\n",
    "import urllib.request\n",
    "import json\n",
    "import numpy as np\n",
    "import pandas as pd\n",
    "import schedule\n",
    "import time\n",
    "import boto3\n",
    "import datetime\n",
    "\n",
    "import mysql.connector\n",
    "from sqlalchemy import create_engine\n",
    "from sqlalchemy import inspect\n",
    "from sqlalchemy import MetaData\n",
    "from sqlalchemy import Table\n",
    "\n",
    "kinesis = boto3.client('kinesis', region_name='us-east-1')\n",
    "\n",
    "\n",
    "#Connect to Redis-DataStore\n",
    "REDIS = redis.Redis(host='data_store')"
   ]
  },
  {
   "cell_type": "code",
   "execution_count": 2,
   "metadata": {},
   "outputs": [
    {
     "data": {
      "text/plain": [
       "'82pgo1H+eurVJr548ZNAuYbqzCewoSojQ4B90TWJ'"
      ]
     },
     "execution_count": 2,
     "metadata": {},
     "output_type": "execute_result"
    }
   ],
   "source": [
    "%env AWS_SECRET_ACCESS_KEY"
   ]
  },
  {
   "cell_type": "code",
   "execution_count": 3,
   "metadata": {},
   "outputs": [
    {
     "data": {
      "text/plain": [
       "{'HasMoreStreams': False,\n",
       " 'ResponseMetadata': {'HTTPHeaders': {'content-length': '41',\n",
       "   'content-type': 'application/x-amz-json-1.1',\n",
       "   'date': 'Thu, 01 Feb 2018 20:24:39 GMT',\n",
       "   'server': 'Apache-Coyote/1.1',\n",
       "   'x-amz-id-2': 'pz6qHS6uc/6BEnnsgGNShCUnomkR6OXZpx3ylbBHuLIiB/ucBUPsDmfbJO68PTVGrEMfAK2Q8WHWmUp2vKYdkZAVHoZoFzODa1UbIJj6TJ4=',\n",
       "   'x-amzn-requestid': 'ceea6709-ff67-48e1-9c07-1ece970d3eb4'},\n",
       "  'HTTPStatusCode': 200,\n",
       "  'RequestId': 'ceea6709-ff67-48e1-9c07-1ece970d3eb4',\n",
       "  'RetryAttempts': 0},\n",
       " 'StreamNames': []}"
      ]
     },
     "execution_count": 3,
     "metadata": {},
     "output_type": "execute_result"
    }
   ],
   "source": [
    "kinesis.list_streams()"
   ]
  },
  {
   "cell_type": "markdown",
   "metadata": {},
   "source": [
    "### Redis Test"
   ]
  },
  {
   "cell_type": "code",
   "execution_count": 4,
   "metadata": {},
   "outputs": [
    {
     "data": {
      "text/plain": [
       "b'42'"
      ]
     },
     "execution_count": 4,
     "metadata": {},
     "output_type": "execute_result"
    }
   ],
   "source": [
    "REDIS.get('my_incrementer')"
   ]
  },
  {
   "cell_type": "code",
   "execution_count": 5,
   "metadata": {},
   "outputs": [
    {
     "data": {
      "text/plain": [
       "True"
      ]
     },
     "execution_count": 5,
     "metadata": {},
     "output_type": "execute_result"
    }
   ],
   "source": [
    "#To pass a dictionary:\n",
    "import numpy as np\n",
    "import json\n",
    "\n",
    "model_params = {\n",
    "    'C': list(np.logspace(-3,3,7)),\n",
    "    'penalty': 'l1',\n",
    "    'solver' : 'newton-cg'\n",
    "}\n",
    "\n",
    "REDIS.set('model_params', json.dumps(model_params))"
   ]
  },
  {
   "cell_type": "markdown",
   "metadata": {},
   "source": [
    "#### Build Company dataframe"
   ]
  },
  {
   "cell_type": "code",
   "execution_count": 20,
   "metadata": {},
   "outputs": [
    {
     "data": {
      "text/plain": [
       "['AAPL', 'FB', 'GOOG']"
      ]
     },
     "execution_count": 20,
     "metadata": {},
     "output_type": "execute_result"
    }
   ],
   "source": [
    "companies = json.loads(REDIS.get('companies').decode())\n",
    "stock_tickers = list(companies.keys())\n",
    "stock_tickers"
   ]
  },
  {
   "cell_type": "code",
   "execution_count": 17,
   "metadata": {},
   "outputs": [
    {
     "data": {
      "text/plain": [
       "datetime.datetime(2018, 2, 1, 20, 29, 26, 66148)"
      ]
     },
     "execution_count": 17,
     "metadata": {},
     "output_type": "execute_result"
    }
   ],
   "source": [
    "#Manager Log\n",
    "# Need to send Number of Companies, Rate\n",
    "now = datetime.datetime.now()\n",
    "now"
   ]
  },
  {
   "cell_type": "markdown",
   "metadata": {},
   "source": [
    "### IEX Code -------------------------------------------------------\n",
    "1. Define the stock attributes\n",
    "2. Define functions: filter attributes, fetch stock data, log events\n",
    "3. Read company list from the redis datastore\n",
    "4. Setup schedule\n",
    "5. Fetch data at scheduled event."
   ]
  },
  {
   "cell_type": "code",
   "execution_count": 7,
   "metadata": {},
   "outputs": [],
   "source": [
    "#Imports\n",
    "import redis\n",
    "import urllib.request\n",
    "import json\n",
    "import numpy as np\n",
    "import pandas as pd\n",
    "import schedule\n",
    "import time\n",
    "import boto3\n",
    "from datetime import date, datetime\n",
    "\n",
    "import mysql.connector\n",
    "from sqlalchemy import create_engine\n",
    "from sqlalchemy import inspect\n",
    "from sqlalchemy import MetaData\n",
    "from sqlalchemy import Table\n",
    "\n",
    "kinesis = boto3.client('kinesis', region_name='us-east-1')\n",
    "\n",
    "\n",
    "#Connect to Redis-DataStore\n",
    "REDIS = redis.Redis(host='data_store')"
   ]
  },
  {
   "cell_type": "code",
   "execution_count": 2,
   "metadata": {},
   "outputs": [],
   "source": [
    "User = %env DB_USER\n",
    "password = %env DB_PWD\n",
    "dbname = %env DB_NAME"
   ]
  },
  {
   "cell_type": "code",
   "execution_count": 14,
   "metadata": {},
   "outputs": [],
   "source": [
    "############ Define Functions #################################\n",
    "attributes = ['latestUpdate',\n",
    "             'companyName',\n",
    "             'latestPrice',\n",
    "              'latestVolume',\n",
    "              'marketCap',\n",
    "              'open',\n",
    "              'previousClose',\n",
    "              'sector',\n",
    "              'high',\n",
    "              'low',\n",
    "              'ytdChange',\n",
    "              'peRatio',\n",
    "              'week52High',\n",
    "              'week52Low'\n",
    "               ]\n",
    "\n",
    "def filter_stock_attributes(data):\n",
    "    output = {}\n",
    "    #Choose filter attributes\n",
    "    for element in attributes:\n",
    "        output[element]=data[element]\n",
    "    \n",
    "    #Convert time\n",
    "    ctime = output['latestUpdate']/1000\n",
    "    new_time = time.strftime('%Y-%m-%d %H:%M:%S', time.localtime(ctime))\n",
    "    output['latestUpdate']= new_time\n",
    "    \n",
    "    return output\n",
    "\n",
    "#Create function to fetch the stock data. This is to prepare for the schedule.\n",
    "def fetch_stock_data(stocks=[]):\n",
    "    #Need to read the dataOn flag. \n",
    "    \n",
    "    for ticker in stocks:\n",
    "        url = \"https://api.iextrading.com/1.0/stock/{}/quote\".format(ticker)\n",
    "        response = urllib.request.urlopen(url)\n",
    "        str_response = response.read().decode('utf-8')\n",
    "        obj = json.loads(str_response)\n",
    "        filtered = filter_stock_attributes(obj)\n",
    "        #Add counter to count stocks. \n",
    "        REDIS.incr('IEX_Stock_Count')\n",
    "        #<----- Insert to Kinesis Stream ------->\n",
    "        #response = kinesis.put_record(StreamName=\"IEX_Stream\", Data=json.dumps(filtered), PartitionKey=\"partitionkey\")\n",
    "        print('---------------------------------')\n",
    "        #print(response)\n",
    "        print(filtered)\n",
    "\n",
    "#Setup Log\n",
    "\n",
    "global past_stock_count\n",
    "past_stock_count = 0\n",
    "\n",
    "#Setup Database\n",
    "# engine = create_engine('mysql+mysqlconnector://{}:{}@db:3306/{}'.format(User, password, dbname), echo=False)\n",
    "# conn = engine.connect()\n",
    "\n",
    "# #Create table object\n",
    "# meta = MetaData(engine,reflect=True)\n",
    "# table = meta.tables['log']\n",
    "\n",
    "#Serialize datetime.\n",
    "def json_serial(obj):\n",
    "    \"\"\"JSON serializer for objects not serializable by default json code\"\"\"\n",
    "\n",
    "    if isinstance(obj, (datetime, date)):\n",
    "        return obj.isoformat()\n",
    "    raise TypeError (\"Type %s not serializable\" % type(obj))\n",
    "\n",
    "########### Redis Subscription setup ########################\n",
    "queue = REDIS.pubsub()\n",
    "#Subscribe to the queues one for the events and one for the log\n",
    "queue.subscribe('event_queue')\n",
    "queue.subscribe('log_queue')\n",
    "\n",
    "#Code to log to the event queue\n",
    "def send_event(source, kind, message):\n",
    "    event_time = datetime.now()\n",
    "    event_time = json_serial(event_time)\n",
    "    event = {\n",
    "            \"event_time\": event_time,\n",
    "            \"source\": source,\n",
    "            \"kind\" : kind,\n",
    "            \"message\" : message\n",
    "            }\n",
    "    payload = json.dumps(event)\n",
    "    REDIS.publish('event_queue', payload)\n",
    "\n",
    "def send_log(source, current_count, count_diff):\n",
    "    log_time = datetime.now()\n",
    "    log_time = json_serial(log_time)\n",
    "    log = {\n",
    "            \"log_time\": log_time,\n",
    "            \"source\": source,\n",
    "            \"current_count\" : current_count,\n",
    "            \"count_diff\" : count_diff\n",
    "            }\n",
    "    payload = json.dumps(log)\n",
    "    REDIS.publish('log_queue', payload)\n",
    "\n",
    "\n",
    "#Send the log data to the Redis channel.\n",
    "def log():\n",
    "    #Need to log: Time, Source, Current Count, Count Diff\n",
    "    #now = datetime.datetime.now()\n",
    "    current_stock_count = int(REDIS.get('IEX_Stock_Count'))    \n",
    "     \n",
    "    global past_stock_count\n",
    "    stock_count_diff = current_stock_count - past_stock_count\n",
    "    past_stock_count = current_stock_count\n",
    "    \n",
    "    #Send the log event\n",
    "    send_log(source='IEX',current_count = current_stock_count, count_diff=stock_count_diff)\n",
    "    \n",
    "    #Need to log these items to a database.\n",
    "#     ins = table.insert().values(\n",
    "#             log_time = now,\n",
    "#             Source = 'IEX',\n",
    "#             Current_Count=current_stock_count,\n",
    "#             Count_Diff=stock_count_diff\n",
    "#                )\n",
    "#     conn.execute(ins)\n",
    "    print('Logged Data')"
   ]
  },
  {
   "cell_type": "code",
   "execution_count": 15,
   "metadata": {},
   "outputs": [
    {
     "name": "stdout",
     "output_type": "stream",
     "text": [
      "---------------------------------\n",
      "{'latestUpdate': '2018-02-02 21:00:00', 'companyName': 'Apple Inc.', 'latestPrice': 160.5, 'latestVolume': 86339265, 'marketCap': 815604985500, 'open': 166.34, 'previousClose': 167.78, 'sector': 'Technology', 'high': 166.8, 'low': 160.1, 'ytdChange': -0.06826889585510271, 'peRatio': 17.45, 'week52High': 180.1, 'week52Low': 128.9}\n",
      "---------------------------------\n",
      "{'latestUpdate': '2018-02-02 21:00:00', 'companyName': 'Facebook Inc.', 'latestPrice': 190.28, 'latestVolume': 25768287, 'marketCap': 552763544232, 'open': 192.1, 'previousClose': 193.09, 'sector': 'Technology', 'high': 194.21, 'low': 189.98, 'ytdChange': 0.04883695292691001, 'peRatio': 30.94, 'week52High': 195.32, 'week52Low': 130.3}\n",
      "---------------------------------\n",
      "{'latestUpdate': '2018-02-02 21:00:00', 'companyName': 'Alphabet Inc.', 'latestPrice': 1111.9, 'latestVolume': 4836050, 'marketCap': 772529217700, 'open': 1121.95, 'previousClose': 1167.7, 'sector': 'Technology', 'high': 1123.07, 'low': 1107.278, 'ytdChange': 0.04403755868544609, 'peRatio': 44.73, 'week52High': 1186.89, 'week52Low': 795.2501}\n",
      "Logged Data\n"
     ]
    },
    {
     "ename": "KeyboardInterrupt",
     "evalue": "",
     "output_type": "error",
     "traceback": [
      "\u001b[0;31m---------------------------------------------------------------------------\u001b[0m",
      "\u001b[0;31mKeyboardInterrupt\u001b[0m                         Traceback (most recent call last)",
      "\u001b[0;32m<ipython-input-15-5e3d5d5d43d4>\u001b[0m in \u001b[0;36m<module>\u001b[0;34m()\u001b[0m\n\u001b[1;32m     15\u001b[0m \u001b[0;32mwhile\u001b[0m \u001b[0;32mTrue\u001b[0m\u001b[0;34m:\u001b[0m\u001b[0;34m\u001b[0m\u001b[0m\n\u001b[1;32m     16\u001b[0m     \u001b[0mschedule\u001b[0m\u001b[0;34m.\u001b[0m\u001b[0mrun_pending\u001b[0m\u001b[0;34m(\u001b[0m\u001b[0;34m)\u001b[0m\u001b[0;34m\u001b[0m\u001b[0m\n\u001b[0;32m---> 17\u001b[0;31m     \u001b[0mtime\u001b[0m\u001b[0;34m.\u001b[0m\u001b[0msleep\u001b[0m\u001b[0;34m(\u001b[0m\u001b[0;36m1\u001b[0m\u001b[0;34m)\u001b[0m\u001b[0;34m\u001b[0m\u001b[0m\n\u001b[0m",
      "\u001b[0;31mKeyboardInterrupt\u001b[0m: "
     ]
    }
   ],
   "source": [
    "#Read Data-Store\n",
    "companies = json.loads(REDIS.get('companies').decode())\n",
    "stock_tickers = list(companies.keys())\n",
    "REDIS.set('IEX_Stock_Count', 0)\n",
    "\n",
    "#Setup Schedule\n",
    "schedule.clear()\n",
    "schedule.every(30).seconds.do(fetch_stock_data, stocks=stock_tickers)\n",
    "schedule.every(35).seconds.do(log)\n",
    "\n",
    "#Send Start event\n",
    "send_event('IEX', 'Activity', 'Data Source Started')\n",
    "\n",
    "#Execute\n",
    "while True:\n",
    "    schedule.run_pending()\n",
    "    time.sleep(1)"
   ]
  },
  {
   "cell_type": "code",
   "execution_count": null,
   "metadata": {
    "collapsed": true
   },
   "outputs": [],
   "source": []
  }
 ],
 "metadata": {
  "kernelspec": {
   "display_name": "Python 3",
   "language": "python",
   "name": "python3"
  },
  "language_info": {
   "codemirror_mode": {
    "name": "ipython",
    "version": 3
   },
   "file_extension": ".py",
   "mimetype": "text/x-python",
   "name": "python",
   "nbconvert_exporter": "python",
   "pygments_lexer": "ipython3",
   "version": "3.6.3"
  }
 },
 "nbformat": 4,
 "nbformat_minor": 2
}
