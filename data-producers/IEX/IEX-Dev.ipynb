{
 "cells": [
  {
   "cell_type": "code",
   "execution_count": 1,
   "metadata": {},
   "outputs": [],
   "source": [
    "#Imports\n",
    "import redis\n",
    "import urllib.request\n",
    "import json\n",
    "import numpy as np\n",
    "import pandas as pd\n",
    "import schedule\n",
    "import time\n",
    "import boto3\n",
    "import datetime\n",
    "\n",
    "import mysql.connector\n",
    "from sqlalchemy import create_engine\n",
    "from sqlalchemy import inspect\n",
    "from sqlalchemy import MetaData\n",
    "from sqlalchemy import Table\n",
    "\n",
    "kinesis = boto3.client('kinesis', region_name='us-east-1')\n",
    "\n",
    "\n",
    "#Connect to Redis-DataStore\n",
    "REDIS = redis.Redis(host='data_store')"
   ]
  },
  {
   "cell_type": "code",
   "execution_count": 2,
   "metadata": {},
   "outputs": [
    {
     "data": {
      "text/plain": [
       "'82pgo1H+eurVJr548ZNAuYbqzCewoSojQ4B90TWJ'"
      ]
     },
     "execution_count": 2,
     "metadata": {},
     "output_type": "execute_result"
    }
   ],
   "source": [
    "%env AWS_SECRET_ACCESS_KEY"
   ]
  },
  {
   "cell_type": "code",
   "execution_count": 3,
   "metadata": {},
   "outputs": [
    {
     "data": {
      "text/plain": [
       "{'HasMoreStreams': False,\n",
       " 'ResponseMetadata': {'HTTPHeaders': {'content-length': '41',\n",
       "   'content-type': 'application/x-amz-json-1.1',\n",
       "   'date': 'Thu, 01 Feb 2018 20:24:39 GMT',\n",
       "   'server': 'Apache-Coyote/1.1',\n",
       "   'x-amz-id-2': 'pz6qHS6uc/6BEnnsgGNShCUnomkR6OXZpx3ylbBHuLIiB/ucBUPsDmfbJO68PTVGrEMfAK2Q8WHWmUp2vKYdkZAVHoZoFzODa1UbIJj6TJ4=',\n",
       "   'x-amzn-requestid': 'ceea6709-ff67-48e1-9c07-1ece970d3eb4'},\n",
       "  'HTTPStatusCode': 200,\n",
       "  'RequestId': 'ceea6709-ff67-48e1-9c07-1ece970d3eb4',\n",
       "  'RetryAttempts': 0},\n",
       " 'StreamNames': []}"
      ]
     },
     "execution_count": 3,
     "metadata": {},
     "output_type": "execute_result"
    }
   ],
   "source": [
    "kinesis.list_streams()"
   ]
  },
  {
   "cell_type": "markdown",
   "metadata": {},
   "source": [
    "### Redis Test"
   ]
  },
  {
   "cell_type": "code",
   "execution_count": 4,
   "metadata": {},
   "outputs": [
    {
     "data": {
      "text/plain": [
       "b'42'"
      ]
     },
     "execution_count": 4,
     "metadata": {},
     "output_type": "execute_result"
    }
   ],
   "source": [
    "REDIS.get('my_incrementer')"
   ]
  },
  {
   "cell_type": "code",
   "execution_count": 5,
   "metadata": {},
   "outputs": [
    {
     "data": {
      "text/plain": [
       "True"
      ]
     },
     "execution_count": 5,
     "metadata": {},
     "output_type": "execute_result"
    }
   ],
   "source": [
    "#To pass a dictionary:\n",
    "import numpy as np\n",
    "import json\n",
    "\n",
    "model_params = {\n",
    "    'C': list(np.logspace(-3,3,7)),\n",
    "    'penalty': 'l1',\n",
    "    'solver' : 'newton-cg'\n",
    "}\n",
    "\n",
    "REDIS.set('model_params', json.dumps(model_params))"
   ]
  },
  {
   "cell_type": "markdown",
   "metadata": {},
   "source": [
    "#### Build Company dataframe"
   ]
  },
  {
   "cell_type": "code",
   "execution_count": 20,
   "metadata": {},
   "outputs": [
    {
     "data": {
      "text/plain": [
       "['AAPL', 'FB', 'GOOG']"
      ]
     },
     "execution_count": 20,
     "metadata": {},
     "output_type": "execute_result"
    }
   ],
   "source": [
    "companies = json.loads(REDIS.get('companies').decode())\n",
    "stock_tickers = list(companies.keys())\n",
    "stock_tickers"
   ]
  },
  {
   "cell_type": "code",
   "execution_count": 17,
   "metadata": {},
   "outputs": [
    {
     "data": {
      "text/plain": [
       "datetime.datetime(2018, 2, 1, 20, 29, 26, 66148)"
      ]
     },
     "execution_count": 17,
     "metadata": {},
     "output_type": "execute_result"
    }
   ],
   "source": [
    "#Manager Log\n",
    "# Need to send Number of Companies, Rate\n",
    "now = datetime.datetime.now()\n",
    "now"
   ]
  },
  {
   "cell_type": "markdown",
   "metadata": {},
   "source": [
    "### IEX Code -------------------------------------------------------"
   ]
  },
  {
   "cell_type": "code",
   "execution_count": null,
   "metadata": {},
   "outputs": [],
   "source": [
    "#Imports\n",
    "import redis\n",
    "import urllib.request\n",
    "import json\n",
    "import numpy as np\n",
    "import pandas as pd\n",
    "import schedule\n",
    "import time\n",
    "import boto3\n",
    "import datetime\n",
    "\n",
    "import mysql.connector\n",
    "from sqlalchemy import create_engine\n",
    "from sqlalchemy import inspect\n",
    "from sqlalchemy import MetaData\n",
    "from sqlalchemy import Table\n",
    "\n",
    "kinesis = boto3.client('kinesis', region_name='us-east-1')\n",
    "\n",
    "\n",
    "#Connect to Redis-DataStore\n",
    "REDIS = redis.Redis(host='data_store')"
   ]
  },
  {
   "cell_type": "code",
   "execution_count": 3,
   "metadata": {},
   "outputs": [],
   "source": [
    "User = %env DB_USER\n",
    "password = %env DB_PWD\n",
    "dbname = %env DB_NAME"
   ]
  },
  {
   "cell_type": "code",
   "execution_count": 4,
   "metadata": {},
   "outputs": [
    {
     "name": "stderr",
     "output_type": "stream",
     "text": [
      "/usr/local/lib/python3.6/site-packages/ipykernel_launcher.py:57: SADeprecationWarning: reflect=True is deprecate; please use the reflect() method.\n"
     ]
    }
   ],
   "source": [
    "#Want to create a simple list, and then convert the time stamps\n",
    "attributes = ['latestUpdate',\n",
    "             'companyName',\n",
    "             'latestPrice',\n",
    "              'latestVolume',\n",
    "              'marketCap',\n",
    "              'open',\n",
    "              'previousClose',\n",
    "              'sector',\n",
    "              'high',\n",
    "              'low',\n",
    "              'ytdChange',\n",
    "              'peRatio',\n",
    "              'week52High',\n",
    "              'week52Low'\n",
    "               ]\n",
    "def filter_stock_attributes(data):\n",
    "    output = {}\n",
    "    #Choose filter attributes\n",
    "    for element in attributes:\n",
    "        output[element]=data[element]\n",
    "    \n",
    "    #Convert time\n",
    "    ctime = output['latestUpdate']/1000\n",
    "    new_time = time.strftime('%Y-%m-%d %H:%M:%S', time.localtime(ctime))\n",
    "    output['latestUpdate']= new_time\n",
    "    \n",
    "    return output\n",
    "\n",
    "#Create function to fetch the stock data. This is to prepare for the schedule.\n",
    "def fetch_stock_data(stocks=[]):\n",
    "    \n",
    "    for ticker in stocks:\n",
    "        url = \"https://api.iextrading.com/1.0/stock/{}/quote\".format(ticker)\n",
    "        response = urllib.request.urlopen(url)\n",
    "        str_response = response.read().decode('utf-8')\n",
    "        obj = json.loads(str_response)\n",
    "        filtered = filter_stock_attributes(obj)\n",
    "        #Add counter to count stocks. \n",
    "        REDIS.incr('IEX_Stock_Count')\n",
    "        #<----- Insert to Kinesis Stream ------->\n",
    "        #response = kinesis.put_record(StreamName=\"IEX_Stream\", Data=json.dumps(filtered), PartitionKey=\"partitionkey\")\n",
    "        print('---------------------------------')\n",
    "        #print(response)\n",
    "        print(filtered)\n",
    "\n",
    "#Setup Log\n",
    "\n",
    "global past_stock_count\n",
    "past_stock_count = 0\n",
    "\n",
    "#Setup Database\n",
    "engine = create_engine('mysql+mysqlconnector://{}:{}@db:3306/{}'.format(User, password, dbname), echo=False)\n",
    "conn = engine.connect()\n",
    "\n",
    "#Create table object\n",
    "meta = MetaData(engine,reflect=True)\n",
    "table = meta.tables['log']\n",
    "\n",
    "def log():\n",
    "    #Need to log: Time, Source, Current Count, Count Diff\n",
    "    now = datetime.datetime.now()\n",
    "    current_stock_count = int(REDIS.get('IEX_Stock_Count'))\n",
    "    \n",
    "     \n",
    "    global past_stock_count\n",
    "    stock_count_diff = current_stock_count - past_stock_count\n",
    "    past_stock_count = current_stock_count\n",
    "    \n",
    "    #Need to log these items to a database.\n",
    "    ins = table.insert().values(\n",
    "            log_time = now,\n",
    "            Source = 'IEX',\n",
    "            Current_Count=current_stock_count,\n",
    "            Count_Diff=stock_count_diff\n",
    "               )\n",
    "    conn.execute(ins)\n",
    "    print('Logged Data')"
   ]
  },
  {
   "cell_type": "code",
   "execution_count": 5,
   "metadata": {},
   "outputs": [
    {
     "name": "stdout",
     "output_type": "stream",
     "text": [
      "---------------------------------\n",
      "{'latestUpdate': '2018-02-02 20:59:07', 'companyName': 'Apple Inc.', 'latestPrice': 160.305, 'latestVolume': 80027976, 'marketCap': 815480512080, 'open': 166.34, 'previousClose': 167.78, 'sector': 'Technology', 'high': 166.8, 'low': 160.8, 'ytdChange': -0.026007198420991466, 'peRatio': 17.42, 'week52High': 180.1, 'week52Low': 127.78}\n",
      "---------------------------------\n",
      "{'latestUpdate': '2018-02-02 20:59:07', 'companyName': 'Facebook Inc.', 'latestPrice': 190.12, 'latestVolume': 23861360, 'marketCap': 552452359170, 'open': 192.1, 'previousClose': 193.09, 'sector': 'Technology', 'high': 194.21, 'low': 190.22, 'ytdChange': 0.06432587366332276, 'peRatio': 30.91, 'week52High': 195.32, 'week52Low': 130.3}\n",
      "---------------------------------\n",
      "{'latestUpdate': '2018-02-02 20:59:02', 'companyName': 'Alphabet Inc.', 'latestPrice': 1112.78, 'latestVolume': 4475051, 'marketCap': 773161893079, 'open': 1121.95, 'previousClose': 1167.7, 'sector': 'Technology', 'high': 1123.07, 'low': 1107.278, 'ytdChange': 0.09643192488262915, 'peRatio': None, 'week52High': 1186.89, 'week52Low': 792}\n",
      "---------------------------------\n",
      "{'latestUpdate': '2018-02-02 20:59:21', 'companyName': 'Apple Inc.', 'latestPrice': 160.32, 'latestVolume': 80228661, 'marketCap': 815556817920, 'open': 166.34, 'previousClose': 167.78, 'sector': 'Technology', 'high': 166.8, 'low': 160.8, 'ytdChange': -0.026007198420991466, 'peRatio': 17.43, 'week52High': 180.1, 'week52Low': 127.78}\n",
      "---------------------------------\n",
      "{'latestUpdate': '2018-02-02 20:59:21', 'companyName': 'Facebook Inc.', 'latestPrice': 190.1, 'latestVolume': 23944439, 'marketCap': 552394242995, 'open': 192.1, 'previousClose': 193.09, 'sector': 'Technology', 'high': 194.21, 'low': 190.22, 'ytdChange': 0.06432587366332276, 'peRatio': 30.91, 'week52High': 195.32, 'week52Low': 130.3}\n",
      "---------------------------------\n",
      "{'latestUpdate': '2018-02-02 20:59:21', 'companyName': 'Alphabet Inc.', 'latestPrice': 1113.14, 'latestVolume': 4487189, 'marketCap': 773412021839, 'open': 1121.95, 'previousClose': 1167.7, 'sector': 'Technology', 'high': 1123.07, 'low': 1107.278, 'ytdChange': 0.09643192488262915, 'peRatio': None, 'week52High': 1186.89, 'week52Low': 792}\n",
      "---------------------------------\n",
      "{'latestUpdate': '2018-02-02 20:59:31', 'companyName': 'Apple Inc.', 'latestPrice': 160.32, 'latestVolume': 80402750, 'marketCap': 815556817920, 'open': 166.34, 'previousClose': 167.78, 'sector': 'Technology', 'high': 166.8, 'low': 160.8, 'ytdChange': -0.026007198420991466, 'peRatio': 17.43, 'week52High': 180.1, 'week52Low': 127.78}\n",
      "---------------------------------\n",
      "{'latestUpdate': '2018-02-02 20:59:31', 'companyName': 'Facebook Inc.', 'latestPrice': 190.09, 'latestVolume': 24049563, 'marketCap': 552365184907, 'open': 192.1, 'previousClose': 193.09, 'sector': 'Technology', 'high': 194.21, 'low': 190.22, 'ytdChange': 0.06432587366332276, 'peRatio': 30.91, 'week52High': 195.32, 'week52Low': 130.3}\n",
      "---------------------------------\n",
      "{'latestUpdate': '2018-02-02 20:59:31', 'companyName': 'Alphabet Inc.', 'latestPrice': 1113.14, 'latestVolume': 4498790, 'marketCap': 773412021839, 'open': 1121.95, 'previousClose': 1167.7, 'sector': 'Technology', 'high': 1123.07, 'low': 1107.278, 'ytdChange': 0.09643192488262915, 'peRatio': None, 'week52High': 1186.89, 'week52Low': 792}\n",
      "---------------------------------\n",
      "{'latestUpdate': '2018-02-02 20:59:41', 'companyName': 'Apple Inc.', 'latestPrice': 160.39, 'latestVolume': 80497995, 'marketCap': 815912911840, 'open': 166.34, 'previousClose': 167.78, 'sector': 'Technology', 'high': 166.8, 'low': 160.8, 'ytdChange': -0.026007198420991466, 'peRatio': 17.43, 'week52High': 180.1, 'week52Low': 127.78}\n",
      "---------------------------------\n",
      "{'latestUpdate': '2018-02-02 20:59:41', 'companyName': 'Facebook Inc.', 'latestPrice': 190.3, 'latestVolume': 24108380, 'marketCap': 552975404744, 'open': 192.1, 'previousClose': 193.09, 'sector': 'Technology', 'high': 194.21, 'low': 190.22, 'ytdChange': 0.06432587366332276, 'peRatio': 30.94, 'week52High': 195.32, 'week52Low': 130.3}\n",
      "---------------------------------\n",
      "{'latestUpdate': '2018-02-02 20:59:38', 'companyName': 'Alphabet Inc.', 'latestPrice': 1113.64, 'latestVolume': 4506588, 'marketCap': 773759422894, 'open': 1121.95, 'previousClose': 1167.7, 'sector': 'Technology', 'high': 1123.07, 'low': 1107.278, 'ytdChange': 0.09643192488262915, 'peRatio': None, 'week52High': 1186.89, 'week52Low': 792}\n",
      "---------------------------------\n",
      "{'latestUpdate': '2018-02-02 20:59:51', 'companyName': 'Apple Inc.', 'latestPrice': 160.36, 'latestVolume': 80671892, 'marketCap': 815760300160, 'open': 166.34, 'previousClose': 167.78, 'sector': 'Technology', 'high': 166.8, 'low': 160.78, 'ytdChange': -0.026007198420991466, 'peRatio': 17.43, 'week52High': 180.1, 'week52Low': 127.78}\n",
      "---------------------------------\n",
      "{'latestUpdate': '2018-02-02 20:59:52', 'companyName': 'Facebook Inc.', 'latestPrice': 190.33, 'latestVolume': 24177224, 'marketCap': 553062579007, 'open': 192.1, 'previousClose': 193.09, 'sector': 'Technology', 'high': 194.21, 'low': 190.22, 'ytdChange': 0.06432587366332276, 'peRatio': 30.95, 'week52High': 195.32, 'week52Low': 130.3}\n",
      "---------------------------------\n",
      "{'latestUpdate': '2018-02-02 20:59:50', 'companyName': 'Alphabet Inc.', 'latestPrice': 1113.13, 'latestVolume': 4514347, 'marketCap': 773405073817, 'open': 1121.95, 'previousClose': 1167.7, 'sector': 'Technology', 'high': 1123.07, 'low': 1107.278, 'ytdChange': 0.09643192488262915, 'peRatio': None, 'week52High': 1186.89, 'week52Low': 792}\n",
      "Logged Data\n",
      "---------------------------------\n",
      "{'latestUpdate': '2018-02-02 20:59:56', 'companyName': 'Apple Inc.', 'latestPrice': 160.35, 'latestVolume': 80763539, 'marketCap': 815709429600, 'open': 166.34, 'previousClose': 167.78, 'sector': 'Technology', 'high': 166.8, 'low': 160.775, 'ytdChange': -0.026007198420991466, 'peRatio': 17.43, 'week52High': 180.1, 'week52Low': 127.78}\n",
      "---------------------------------\n",
      "{'latestUpdate': '2018-02-02 20:59:56', 'companyName': 'Facebook Inc.', 'latestPrice': 190.17, 'latestVolume': 24260536, 'marketCap': 552597649607, 'open': 192.1, 'previousClose': 193.09, 'sector': 'Technology', 'high': 194.21, 'low': 190.22, 'ytdChange': 0.06432587366332276, 'peRatio': 30.92, 'week52High': 195.32, 'week52Low': 130.3}\n",
      "---------------------------------\n",
      "{'latestUpdate': '2018-02-02 20:59:59', 'companyName': 'Alphabet Inc.', 'latestPrice': 1112.53, 'latestVolume': 4535290, 'marketCap': 772988192551, 'open': 1121.95, 'previousClose': 1167.7, 'sector': 'Technology', 'high': 1123.07, 'low': 1107.278, 'ytdChange': 0.09643192488262915, 'peRatio': None, 'week52High': 1186.89, 'week52Low': 792}\n",
      "---------------------------------\n",
      "{'latestUpdate': '2018-02-02 21:00:08', 'companyName': 'Apple Inc.', 'latestPrice': 160.4, 'latestVolume': 84489602, 'marketCap': 815963782400, 'open': 166.34, 'previousClose': 167.78, 'sector': 'Technology', 'high': 166.8, 'low': 160.65, 'ytdChange': -0.026007198420991466, 'peRatio': 17.43, 'week52High': 180.1, 'week52Low': 127.78}\n",
      "---------------------------------\n",
      "{'latestUpdate': '2018-02-02 20:59:56', 'companyName': 'Facebook Inc.', 'latestPrice': 190.17, 'latestVolume': 25398975, 'marketCap': 552597649607, 'open': 192.1, 'previousClose': 193.09, 'sector': 'Technology', 'high': 194.21, 'low': 190.22, 'ytdChange': 0.06432587366332276, 'peRatio': 30.92, 'week52High': 195.32, 'week52Low': 130.3}\n",
      "---------------------------------\n",
      "{'latestUpdate': '2018-02-02 20:59:59', 'companyName': 'Alphabet Inc.', 'latestPrice': 1112.53, 'latestVolume': 4706747, 'marketCap': 772988192551, 'open': 1121.95, 'previousClose': 1167.7, 'sector': 'Technology', 'high': 1123.07, 'low': 1107.278, 'ytdChange': 0.09643192488262915, 'peRatio': None, 'week52High': 1186.89, 'week52Low': 792}\n",
      "---------------------------------\n",
      "{'latestUpdate': '2018-02-02 21:00:08', 'companyName': 'Apple Inc.', 'latestPrice': 160.4, 'latestVolume': 85449000, 'marketCap': 815963782400, 'open': 166.34, 'previousClose': 167.78, 'sector': 'Technology', 'high': 166.8, 'low': 160.63, 'ytdChange': -0.026007198420991466, 'peRatio': 17.43, 'week52High': 180.1, 'week52Low': 127.78}\n",
      "---------------------------------\n",
      "{'latestUpdate': '2018-02-02 20:59:56', 'companyName': 'Facebook Inc.', 'latestPrice': 190.17, 'latestVolume': 25522873, 'marketCap': 552597649607, 'open': 192.1, 'previousClose': 193.09, 'sector': 'Technology', 'high': 194.21, 'low': 190.22, 'ytdChange': 0.06432587366332276, 'peRatio': 30.92, 'week52High': 195.32, 'week52Low': 130.3}\n"
     ]
    },
    {
     "name": "stdout",
     "output_type": "stream",
     "text": [
      "---------------------------------\n",
      "{'latestUpdate': '2018-02-02 20:59:59', 'companyName': 'Alphabet Inc.', 'latestPrice': 1112.53, 'latestVolume': 4759225, 'marketCap': 772988192551, 'open': 1121.95, 'previousClose': 1167.7, 'sector': 'Technology', 'high': 1123.07, 'low': 1107.278, 'ytdChange': 0.09643192488262915, 'peRatio': None, 'week52High': 1186.89, 'week52Low': 792}\n",
      "---------------------------------\n",
      "{'latestUpdate': '2018-02-02 21:00:08', 'companyName': 'Apple Inc.', 'latestPrice': 160.4, 'latestVolume': 85618081, 'marketCap': 815963782400, 'open': 166.34, 'previousClose': 167.78, 'sector': 'Technology', 'high': 166.8, 'low': 160.55, 'ytdChange': -0.026007198420991466, 'peRatio': 17.43, 'week52High': 180.1, 'week52Low': 127.78}\n",
      "---------------------------------\n",
      "{'latestUpdate': '2018-02-02 20:59:56', 'companyName': 'Facebook Inc.', 'latestPrice': 190.17, 'latestVolume': 25522873, 'marketCap': 552597649607, 'open': 192.1, 'previousClose': 193.09, 'sector': 'Technology', 'high': 194.21, 'low': 190.22, 'ytdChange': 0.06432587366332276, 'peRatio': 30.92, 'week52High': 195.32, 'week52Low': 130.3}\n",
      "---------------------------------\n",
      "{'latestUpdate': '2018-02-02 20:59:59', 'companyName': 'Alphabet Inc.', 'latestPrice': 1112.53, 'latestVolume': 4759225, 'marketCap': 772988192551, 'open': 1121.95, 'previousClose': 1167.7, 'sector': 'Technology', 'high': 1123.07, 'low': 1107.278, 'ytdChange': 0.09643192488262915, 'peRatio': None, 'week52High': 1186.89, 'week52Low': 792}\n",
      "---------------------------------\n",
      "{'latestUpdate': '2018-02-02 21:00:08', 'companyName': 'Apple Inc.', 'latestPrice': 160.4, 'latestVolume': 85618081, 'marketCap': 815963782400, 'open': 166.34, 'previousClose': 167.78, 'sector': 'Technology', 'high': 166.8, 'low': 160.5, 'ytdChange': -0.026007198420991466, 'peRatio': 17.43, 'week52High': 180.1, 'week52Low': 127.78}\n",
      "---------------------------------\n",
      "{'latestUpdate': '2018-02-02 20:59:56', 'companyName': 'Facebook Inc.', 'latestPrice': 190.17, 'latestVolume': 25522873, 'marketCap': 552597649607, 'open': 192.1, 'previousClose': 193.09, 'sector': 'Technology', 'high': 194.21, 'low': 190.22, 'ytdChange': 0.06432587366332276, 'peRatio': 30.92, 'week52High': 195.32, 'week52Low': 130.3}\n",
      "---------------------------------\n",
      "{'latestUpdate': '2018-02-02 20:59:59', 'companyName': 'Alphabet Inc.', 'latestPrice': 1112.53, 'latestVolume': 4759225, 'marketCap': 772988192551, 'open': 1121.95, 'previousClose': 1167.7, 'sector': 'Technology', 'high': 1123.07, 'low': 1107.278, 'ytdChange': 0.09643192488262915, 'peRatio': None, 'week52High': 1186.89, 'week52Low': 792}\n",
      "---------------------------------\n",
      "{'latestUpdate': '2018-02-02 21:00:08', 'companyName': 'Apple Inc.', 'latestPrice': 160.4, 'latestVolume': 85618081, 'marketCap': 815963782400, 'open': 166.34, 'previousClose': 167.78, 'sector': 'Technology', 'high': 166.8, 'low': 160.428, 'ytdChange': -0.026007198420991466, 'peRatio': 17.43, 'week52High': 180.1, 'week52Low': 127.78}\n",
      "---------------------------------\n",
      "{'latestUpdate': '2018-02-02 20:59:56', 'companyName': 'Facebook Inc.', 'latestPrice': 190.17, 'latestVolume': 25522873, 'marketCap': 552597649607, 'open': 192.1, 'previousClose': 193.09, 'sector': 'Technology', 'high': 194.21, 'low': 190.22, 'ytdChange': 0.06432587366332276, 'peRatio': 30.92, 'week52High': 195.32, 'week52Low': 130.3}\n",
      "---------------------------------\n",
      "{'latestUpdate': '2018-02-02 20:59:59', 'companyName': 'Alphabet Inc.', 'latestPrice': 1112.53, 'latestVolume': 4759225, 'marketCap': 772988192551, 'open': 1121.95, 'previousClose': 1167.7, 'sector': 'Technology', 'high': 1123.07, 'low': 1107.278, 'ytdChange': 0.09643192488262915, 'peRatio': None, 'week52High': 1186.89, 'week52Low': 792}\n",
      "Logged Data\n",
      "---------------------------------\n",
      "{'latestUpdate': '2018-02-02 21:00:08', 'companyName': 'Apple Inc.', 'latestPrice': 160.4, 'latestVolume': 85618081, 'marketCap': 815963782400, 'open': 166.34, 'previousClose': 167.78, 'sector': 'Technology', 'high': 166.8, 'low': 160.428, 'ytdChange': -0.026007198420991466, 'peRatio': 17.43, 'week52High': 180.1, 'week52Low': 127.78}\n",
      "---------------------------------\n",
      "{'latestUpdate': '2018-02-02 20:59:56', 'companyName': 'Facebook Inc.', 'latestPrice': 190.17, 'latestVolume': 25522873, 'marketCap': 552597649607, 'open': 192.1, 'previousClose': 193.09, 'sector': 'Technology', 'high': 194.21, 'low': 190.22, 'ytdChange': 0.06432587366332276, 'peRatio': 30.92, 'week52High': 195.32, 'week52Low': 130.3}\n",
      "---------------------------------\n",
      "{'latestUpdate': '2018-02-02 20:59:59', 'companyName': 'Alphabet Inc.', 'latestPrice': 1112.53, 'latestVolume': 4759225, 'marketCap': 772988192551, 'open': 1121.95, 'previousClose': 1167.7, 'sector': 'Technology', 'high': 1123.07, 'low': 1107.278, 'ytdChange': 0.09643192488262915, 'peRatio': None, 'week52High': 1186.89, 'week52Low': 792}\n",
      "---------------------------------\n",
      "{'latestUpdate': '2018-02-02 21:00:08', 'companyName': 'Apple Inc.', 'latestPrice': 160.4, 'latestVolume': 85639263, 'marketCap': 815963782400, 'open': 166.34, 'previousClose': 167.78, 'sector': 'Technology', 'high': 166.8, 'low': 160.428, 'ytdChange': -0.026007198420991466, 'peRatio': 17.43, 'week52High': 180.1, 'week52Low': 127.78}\n",
      "---------------------------------\n",
      "{'latestUpdate': '2018-02-02 20:59:56', 'companyName': 'Facebook Inc.', 'latestPrice': 190.17, 'latestVolume': 25522873, 'marketCap': 552597649607, 'open': 192.1, 'previousClose': 193.09, 'sector': 'Technology', 'high': 194.21, 'low': 190.22, 'ytdChange': 0.06432587366332276, 'peRatio': 30.92, 'week52High': 195.32, 'week52Low': 130.3}\n",
      "---------------------------------\n",
      "{'latestUpdate': '2018-02-02 20:59:59', 'companyName': 'Alphabet Inc.', 'latestPrice': 1112.53, 'latestVolume': 4759225, 'marketCap': 772988192551, 'open': 1121.95, 'previousClose': 1167.7, 'sector': 'Technology', 'high': 1123.07, 'low': 1107.278, 'ytdChange': 0.09643192488262915, 'peRatio': None, 'week52High': 1186.89, 'week52Low': 792}\n",
      "---------------------------------\n",
      "{'latestUpdate': '2018-02-02 21:00:08', 'companyName': 'Apple Inc.', 'latestPrice': 160.4, 'latestVolume': 85639263, 'marketCap': 815963782400, 'open': 166.34, 'previousClose': 167.78, 'sector': 'Technology', 'high': 166.8, 'low': 160.428, 'ytdChange': -0.026007198420991466, 'peRatio': 17.43, 'week52High': 180.1, 'week52Low': 127.78}\n",
      "---------------------------------\n",
      "{'latestUpdate': '2018-02-02 20:59:56', 'companyName': 'Facebook Inc.', 'latestPrice': 190.17, 'latestVolume': 25522873, 'marketCap': 552597649607, 'open': 192.1, 'previousClose': 193.09, 'sector': 'Technology', 'high': 194.21, 'low': 190.22, 'ytdChange': 0.06432587366332276, 'peRatio': 30.92, 'week52High': 195.32, 'week52Low': 130.3}\n",
      "---------------------------------\n",
      "{'latestUpdate': '2018-02-02 20:59:59', 'companyName': 'Alphabet Inc.', 'latestPrice': 1112.53, 'latestVolume': 4759225, 'marketCap': 772988192551, 'open': 1121.95, 'previousClose': 1167.7, 'sector': 'Technology', 'high': 1123.07, 'low': 1107.278, 'ytdChange': 0.09643192488262915, 'peRatio': None, 'week52High': 1186.89, 'week52Low': 792}\n",
      "---------------------------------\n",
      "{'latestUpdate': '2018-02-02 21:00:08', 'companyName': 'Apple Inc.', 'latestPrice': 160.4, 'latestVolume': 85639263, 'marketCap': 815963782400, 'open': 166.34, 'previousClose': 167.78, 'sector': 'Technology', 'high': 166.8, 'low': 160.428, 'ytdChange': -0.026007198420991466, 'peRatio': 17.43, 'week52High': 180.1, 'week52Low': 127.78}\n",
      "---------------------------------\n",
      "{'latestUpdate': '2018-02-02 20:59:56', 'companyName': 'Facebook Inc.', 'latestPrice': 190.17, 'latestVolume': 25522873, 'marketCap': 552597649607, 'open': 192.1, 'previousClose': 193.09, 'sector': 'Technology', 'high': 194.21, 'low': 190.22, 'ytdChange': 0.06432587366332276, 'peRatio': 30.92, 'week52High': 195.32, 'week52Low': 130.3}\n",
      "---------------------------------\n",
      "{'latestUpdate': '2018-02-02 20:59:59', 'companyName': 'Alphabet Inc.', 'latestPrice': 1112.53, 'latestVolume': 4759225, 'marketCap': 772988192551, 'open': 1121.95, 'previousClose': 1167.7, 'sector': 'Technology', 'high': 1123.07, 'low': 1107.278, 'ytdChange': 0.09643192488262915, 'peRatio': None, 'week52High': 1186.89, 'week52Low': 792}\n",
      "---------------------------------\n",
      "{'latestUpdate': '2018-02-02 21:00:08', 'companyName': 'Apple Inc.', 'latestPrice': 160.4, 'latestVolume': 85639263, 'marketCap': 815963782400, 'open': 166.34, 'previousClose': 167.78, 'sector': 'Technology', 'high': 166.8, 'low': 160.428, 'ytdChange': -0.026007198420991466, 'peRatio': 17.43, 'week52High': 180.1, 'week52Low': 127.78}\n",
      "---------------------------------\n",
      "{'latestUpdate': '2018-02-02 20:59:56', 'companyName': 'Facebook Inc.', 'latestPrice': 190.17, 'latestVolume': 25522873, 'marketCap': 552597649607, 'open': 192.1, 'previousClose': 193.09, 'sector': 'Technology', 'high': 194.21, 'low': 190.22, 'ytdChange': 0.06432587366332276, 'peRatio': 30.92, 'week52High': 195.32, 'week52Low': 130.3}\n"
     ]
    },
    {
     "name": "stdout",
     "output_type": "stream",
     "text": [
      "---------------------------------\n",
      "{'latestUpdate': '2018-02-02 20:59:59', 'companyName': 'Alphabet Inc.', 'latestPrice': 1112.53, 'latestVolume': 4759225, 'marketCap': 772988192551, 'open': 1121.95, 'previousClose': 1167.7, 'sector': 'Technology', 'high': 1123.07, 'low': 1107.278, 'ytdChange': 0.09643192488262915, 'peRatio': None, 'week52High': 1186.89, 'week52Low': 792}\n",
      "Logged Data\n",
      "---------------------------------\n",
      "{'latestUpdate': '2018-02-02 21:00:08', 'companyName': 'Apple Inc.', 'latestPrice': 160.4, 'latestVolume': 85639263, 'marketCap': 815963782400, 'open': 166.34, 'previousClose': 167.78, 'sector': 'Technology', 'high': 166.8, 'low': 160.428, 'ytdChange': -0.026007198420991466, 'peRatio': 17.43, 'week52High': 180.1, 'week52Low': 127.78}\n",
      "---------------------------------\n",
      "{'latestUpdate': '2018-02-02 20:59:56', 'companyName': 'Facebook Inc.', 'latestPrice': 190.17, 'latestVolume': 25522873, 'marketCap': 552597649607, 'open': 192.1, 'previousClose': 193.09, 'sector': 'Technology', 'high': 194.21, 'low': 190.22, 'ytdChange': 0.06432587366332276, 'peRatio': 30.92, 'week52High': 195.32, 'week52Low': 130.3}\n",
      "---------------------------------\n",
      "{'latestUpdate': '2018-02-02 20:59:59', 'companyName': 'Alphabet Inc.', 'latestPrice': 1112.53, 'latestVolume': 4759225, 'marketCap': 772988192551, 'open': 1121.95, 'previousClose': 1167.7, 'sector': 'Technology', 'high': 1123.07, 'low': 1107.278, 'ytdChange': 0.09643192488262915, 'peRatio': None, 'week52High': 1186.89, 'week52Low': 792}\n",
      "---------------------------------\n",
      "{'latestUpdate': '2018-02-02 21:00:08', 'companyName': 'Apple Inc.', 'latestPrice': 160.4, 'latestVolume': 85660455, 'marketCap': 815963782400, 'open': 166.34, 'previousClose': 167.78, 'sector': 'Technology', 'high': 166.8, 'low': 160.428, 'ytdChange': -0.026007198420991466, 'peRatio': 17.43, 'week52High': 180.1, 'week52Low': 127.78}\n",
      "---------------------------------\n",
      "{'latestUpdate': '2018-02-02 20:59:56', 'companyName': 'Facebook Inc.', 'latestPrice': 190.17, 'latestVolume': 25522873, 'marketCap': 552597649607, 'open': 192.1, 'previousClose': 193.09, 'sector': 'Technology', 'high': 194.21, 'low': 190.22, 'ytdChange': 0.06432587366332276, 'peRatio': 30.92, 'week52High': 195.32, 'week52Low': 130.3}\n",
      "---------------------------------\n",
      "{'latestUpdate': '2018-02-02 20:59:59', 'companyName': 'Alphabet Inc.', 'latestPrice': 1112.53, 'latestVolume': 4759225, 'marketCap': 772988192551, 'open': 1121.95, 'previousClose': 1167.7, 'sector': 'Technology', 'high': 1123.07, 'low': 1107.278, 'ytdChange': 0.09643192488262915, 'peRatio': None, 'week52High': 1186.89, 'week52Low': 792}\n",
      "---------------------------------\n",
      "{'latestUpdate': '2018-02-02 21:00:08', 'companyName': 'Apple Inc.', 'latestPrice': 160.4, 'latestVolume': 85660455, 'marketCap': 815963782400, 'open': 166.34, 'previousClose': 167.78, 'sector': 'Technology', 'high': 166.8, 'low': 160.428, 'ytdChange': -0.026007198420991466, 'peRatio': 17.43, 'week52High': 180.1, 'week52Low': 127.78}\n",
      "---------------------------------\n",
      "{'latestUpdate': '2018-02-02 20:59:56', 'companyName': 'Facebook Inc.', 'latestPrice': 190.17, 'latestVolume': 25536714, 'marketCap': 552597649607, 'open': 192.1, 'previousClose': 193.09, 'sector': 'Technology', 'high': 194.21, 'low': 190.22, 'ytdChange': 0.06432587366332276, 'peRatio': 30.92, 'week52High': 195.32, 'week52Low': 130.3}\n",
      "---------------------------------\n",
      "{'latestUpdate': '2018-02-02 20:59:59', 'companyName': 'Alphabet Inc.', 'latestPrice': 1112.53, 'latestVolume': 4759225, 'marketCap': 772988192551, 'open': 1121.95, 'previousClose': 1167.7, 'sector': 'Technology', 'high': 1123.07, 'low': 1107.278, 'ytdChange': 0.09643192488262915, 'peRatio': None, 'week52High': 1186.89, 'week52Low': 792}\n",
      "---------------------------------\n",
      "{'latestUpdate': '2018-02-02 21:00:08', 'companyName': 'Apple Inc.', 'latestPrice': 160.4, 'latestVolume': 85660455, 'marketCap': 815963782400, 'open': 166.34, 'previousClose': 167.78, 'sector': 'Technology', 'high': 166.8, 'low': 160.38, 'ytdChange': -0.026007198420991466, 'peRatio': 17.43, 'week52High': 180.1, 'week52Low': 127.78}\n",
      "---------------------------------\n",
      "{'latestUpdate': '2018-02-02 20:59:56', 'companyName': 'Facebook Inc.', 'latestPrice': 190.17, 'latestVolume': 25536714, 'marketCap': 552597649607, 'open': 192.1, 'previousClose': 193.09, 'sector': 'Technology', 'high': 194.21, 'low': 190.22, 'ytdChange': 0.06432587366332276, 'peRatio': 30.92, 'week52High': 195.32, 'week52Low': 130.3}\n",
      "---------------------------------\n",
      "{'latestUpdate': '2018-02-02 20:59:59', 'companyName': 'Alphabet Inc.', 'latestPrice': 1112.53, 'latestVolume': 4759225, 'marketCap': 772988192551, 'open': 1121.95, 'previousClose': 1167.7, 'sector': 'Technology', 'high': 1123.07, 'low': 1107.278, 'ytdChange': 0.09643192488262915, 'peRatio': None, 'week52High': 1186.89, 'week52Low': 792}\n",
      "---------------------------------\n",
      "{'latestUpdate': '2018-02-02 21:00:08', 'companyName': 'Apple Inc.', 'latestPrice': 160.4, 'latestVolume': 85660455, 'marketCap': 815963782400, 'open': 166.34, 'previousClose': 167.78, 'sector': 'Technology', 'high': 166.8, 'low': 160.38, 'ytdChange': -0.026007198420991466, 'peRatio': 17.43, 'week52High': 180.1, 'week52Low': 127.78}\n",
      "---------------------------------\n",
      "{'latestUpdate': '2018-02-02 20:59:56', 'companyName': 'Facebook Inc.', 'latestPrice': 190.17, 'latestVolume': 25536714, 'marketCap': 552597649607, 'open': 192.1, 'previousClose': 193.09, 'sector': 'Technology', 'high': 194.21, 'low': 190.22, 'ytdChange': 0.06432587366332276, 'peRatio': 30.92, 'week52High': 195.32, 'week52Low': 130.3}\n",
      "---------------------------------\n",
      "{'latestUpdate': '2018-02-02 20:59:59', 'companyName': 'Alphabet Inc.', 'latestPrice': 1112.53, 'latestVolume': 4759225, 'marketCap': 772988192551, 'open': 1121.95, 'previousClose': 1167.7, 'sector': 'Technology', 'high': 1123.07, 'low': 1107.278, 'ytdChange': 0.09643192488262915, 'peRatio': None, 'week52High': 1186.89, 'week52Low': 792}\n",
      "Logged Data\n",
      "---------------------------------\n",
      "{'latestUpdate': '2018-02-02 21:00:08', 'companyName': 'Apple Inc.', 'latestPrice': 160.4, 'latestVolume': 85660455, 'marketCap': 815963782400, 'open': 166.34, 'previousClose': 167.78, 'sector': 'Technology', 'high': 166.8, 'low': 160.33, 'ytdChange': -0.026007198420991466, 'peRatio': 17.43, 'week52High': 180.1, 'week52Low': 127.78}\n",
      "---------------------------------\n",
      "{'latestUpdate': '2018-02-02 20:59:56', 'companyName': 'Facebook Inc.', 'latestPrice': 190.17, 'latestVolume': 25536714, 'marketCap': 552597649607, 'open': 192.1, 'previousClose': 193.09, 'sector': 'Technology', 'high': 194.21, 'low': 190.22, 'ytdChange': 0.06432587366332276, 'peRatio': 30.92, 'week52High': 195.32, 'week52Low': 130.3}\n",
      "---------------------------------\n",
      "{'latestUpdate': '2018-02-02 20:59:59', 'companyName': 'Alphabet Inc.', 'latestPrice': 1112.53, 'latestVolume': 4759225, 'marketCap': 772988192551, 'open': 1121.95, 'previousClose': 1167.7, 'sector': 'Technology', 'high': 1123.07, 'low': 1107.278, 'ytdChange': 0.09643192488262915, 'peRatio': None, 'week52High': 1186.89, 'week52Low': 792}\n",
      "---------------------------------\n",
      "{'latestUpdate': '2018-02-02 21:00:08', 'companyName': 'Apple Inc.', 'latestPrice': 160.4, 'latestVolume': 85660455, 'marketCap': 815963782400, 'open': 166.34, 'previousClose': 167.78, 'sector': 'Technology', 'high': 166.8, 'low': 160.33, 'ytdChange': -0.026007198420991466, 'peRatio': 17.43, 'week52High': 180.1, 'week52Low': 127.78}\n",
      "---------------------------------\n",
      "{'latestUpdate': '2018-02-02 20:59:56', 'companyName': 'Facebook Inc.', 'latestPrice': 190.17, 'latestVolume': 25536714, 'marketCap': 552597649607, 'open': 192.1, 'previousClose': 193.09, 'sector': 'Technology', 'high': 194.21, 'low': 190.22, 'ytdChange': 0.06432587366332276, 'peRatio': 30.92, 'week52High': 195.32, 'week52Low': 130.3}\n",
      "---------------------------------\n",
      "{'latestUpdate': '2018-02-02 20:59:59', 'companyName': 'Alphabet Inc.', 'latestPrice': 1112.53, 'latestVolume': 4759225, 'marketCap': 772988192551, 'open': 1121.95, 'previousClose': 1167.7, 'sector': 'Technology', 'high': 1123.07, 'low': 1107.278, 'ytdChange': 0.09643192488262915, 'peRatio': None, 'week52High': 1186.89, 'week52Low': 792}\n"
     ]
    },
    {
     "name": "stdout",
     "output_type": "stream",
     "text": [
      "---------------------------------\n",
      "{'latestUpdate': '2018-02-02 21:00:08', 'companyName': 'Apple Inc.', 'latestPrice': 160.4, 'latestVolume': 85681658, 'marketCap': 815963782400, 'open': 166.34, 'previousClose': 167.78, 'sector': 'Technology', 'high': 166.8, 'low': 160.33, 'ytdChange': -0.026007198420991466, 'peRatio': 17.43, 'week52High': 180.1, 'week52Low': 127.78}\n",
      "---------------------------------\n",
      "{'latestUpdate': '2018-02-02 20:59:56', 'companyName': 'Facebook Inc.', 'latestPrice': 190.17, 'latestVolume': 25550570, 'marketCap': 552597649607, 'open': 192.1, 'previousClose': 193.09, 'sector': 'Technology', 'high': 194.21, 'low': 190.22, 'ytdChange': 0.06432587366332276, 'peRatio': 30.92, 'week52High': 195.32, 'week52Low': 130.3}\n",
      "---------------------------------\n",
      "{'latestUpdate': '2018-02-02 20:59:59', 'companyName': 'Alphabet Inc.', 'latestPrice': 1112.53, 'latestVolume': 4759225, 'marketCap': 772988192551, 'open': 1121.95, 'previousClose': 1167.7, 'sector': 'Technology', 'high': 1123.07, 'low': 1107.278, 'ytdChange': 0.09643192488262915, 'peRatio': None, 'week52High': 1186.89, 'week52Low': 792}\n",
      "---------------------------------\n",
      "{'latestUpdate': '2018-02-02 21:00:08', 'companyName': 'Apple Inc.', 'latestPrice': 160.4, 'latestVolume': 85681658, 'marketCap': 815963782400, 'open': 166.34, 'previousClose': 167.78, 'sector': 'Technology', 'high': 166.8, 'low': 160.33, 'ytdChange': -0.026007198420991466, 'peRatio': 17.43, 'week52High': 180.1, 'week52Low': 127.78}\n",
      "---------------------------------\n",
      "{'latestUpdate': '2018-02-02 20:59:56', 'companyName': 'Facebook Inc.', 'latestPrice': 190.17, 'latestVolume': 25550570, 'marketCap': 552597649607, 'open': 192.1, 'previousClose': 193.09, 'sector': 'Technology', 'high': 194.21, 'low': 190.22, 'ytdChange': 0.06432587366332276, 'peRatio': 30.92, 'week52High': 195.32, 'week52Low': 130.3}\n",
      "---------------------------------\n",
      "{'latestUpdate': '2018-02-02 20:59:59', 'companyName': 'Alphabet Inc.', 'latestPrice': 1112.53, 'latestVolume': 4759225, 'marketCap': 772988192551, 'open': 1121.95, 'previousClose': 1167.7, 'sector': 'Technology', 'high': 1123.07, 'low': 1107.278, 'ytdChange': 0.09643192488262915, 'peRatio': None, 'week52High': 1186.89, 'week52Low': 792}\n",
      "---------------------------------\n",
      "{'latestUpdate': '2018-02-02 21:00:08', 'companyName': 'Apple Inc.', 'latestPrice': 160.4, 'latestVolume': 85702872, 'marketCap': 815963782400, 'open': 166.34, 'previousClose': 167.78, 'sector': 'Technology', 'high': 166.8, 'low': 160.33, 'ytdChange': -0.026007198420991466, 'peRatio': 17.43, 'week52High': 180.1, 'week52Low': 127.78}\n",
      "---------------------------------\n",
      "{'latestUpdate': '2018-02-02 20:59:56', 'companyName': 'Facebook Inc.', 'latestPrice': 190.17, 'latestVolume': 25550570, 'marketCap': 552597649607, 'open': 192.1, 'previousClose': 193.09, 'sector': 'Technology', 'high': 194.21, 'low': 190.22, 'ytdChange': 0.06432587366332276, 'peRatio': 30.92, 'week52High': 195.32, 'week52Low': 130.3}\n",
      "---------------------------------\n",
      "{'latestUpdate': '2018-02-02 20:59:59', 'companyName': 'Alphabet Inc.', 'latestPrice': 1112.53, 'latestVolume': 4759225, 'marketCap': 772988192551, 'open': 1121.95, 'previousClose': 1167.7, 'sector': 'Technology', 'high': 1123.07, 'low': 1107.278, 'ytdChange': 0.09643192488262915, 'peRatio': None, 'week52High': 1186.89, 'week52Low': 792}\n",
      "---------------------------------\n",
      "{'latestUpdate': '2018-02-02 21:00:08', 'companyName': 'Apple Inc.', 'latestPrice': 160.4, 'latestVolume': 85702872, 'marketCap': 815963782400, 'open': 166.34, 'previousClose': 167.78, 'sector': 'Technology', 'high': 166.8, 'low': 160.33, 'ytdChange': -0.026007198420991466, 'peRatio': 17.43, 'week52High': 180.1, 'week52Low': 127.78}\n",
      "---------------------------------\n",
      "{'latestUpdate': '2018-02-02 20:59:56', 'companyName': 'Facebook Inc.', 'latestPrice': 190.17, 'latestVolume': 25550570, 'marketCap': 552597649607, 'open': 192.1, 'previousClose': 193.09, 'sector': 'Technology', 'high': 194.21, 'low': 190.22, 'ytdChange': 0.06432587366332276, 'peRatio': 30.92, 'week52High': 195.32, 'week52Low': 130.3}\n",
      "---------------------------------\n",
      "{'latestUpdate': '2018-02-02 20:59:59', 'companyName': 'Alphabet Inc.', 'latestPrice': 1112.53, 'latestVolume': 4759225, 'marketCap': 772988192551, 'open': 1121.95, 'previousClose': 1167.7, 'sector': 'Technology', 'high': 1123.07, 'low': 1107.278, 'ytdChange': 0.09643192488262915, 'peRatio': None, 'week52High': 1186.89, 'week52Low': 792}\n",
      "Logged Data\n",
      "---------------------------------\n",
      "{'latestUpdate': '2018-02-02 21:00:08', 'companyName': 'Apple Inc.', 'latestPrice': 160.4, 'latestVolume': 85702872, 'marketCap': 815963782400, 'open': 166.34, 'previousClose': 167.78, 'sector': 'Technology', 'high': 166.8, 'low': 160.33, 'ytdChange': -0.026007198420991466, 'peRatio': 17.43, 'week52High': 180.1, 'week52Low': 127.78}\n",
      "---------------------------------\n",
      "{'latestUpdate': '2018-02-02 20:59:56', 'companyName': 'Facebook Inc.', 'latestPrice': 190.17, 'latestVolume': 25550570, 'marketCap': 552597649607, 'open': 192.1, 'previousClose': 193.09, 'sector': 'Technology', 'high': 194.21, 'low': 190.22, 'ytdChange': 0.06432587366332276, 'peRatio': 30.92, 'week52High': 195.32, 'week52Low': 130.3}\n",
      "---------------------------------\n",
      "{'latestUpdate': '2018-02-02 20:59:59', 'companyName': 'Alphabet Inc.', 'latestPrice': 1112.53, 'latestVolume': 4759225, 'marketCap': 772988192551, 'open': 1121.95, 'previousClose': 1167.7, 'sector': 'Technology', 'high': 1123.07, 'low': 1107.278, 'ytdChange': 0.09643192488262915, 'peRatio': None, 'week52High': 1186.89, 'week52Low': 792}\n",
      "---------------------------------\n",
      "{'latestUpdate': '2018-02-02 21:00:08', 'companyName': 'Apple Inc.', 'latestPrice': 160.4, 'latestVolume': 85702872, 'marketCap': 815963782400, 'open': 166.34, 'previousClose': 167.78, 'sector': 'Technology', 'high': 166.8, 'low': 160.33, 'ytdChange': -0.026007198420991466, 'peRatio': 17.43, 'week52High': 180.1, 'week52Low': 127.78}\n",
      "---------------------------------\n",
      "{'latestUpdate': '2018-02-02 20:59:56', 'companyName': 'Facebook Inc.', 'latestPrice': 190.17, 'latestVolume': 25550570, 'marketCap': 552597649607, 'open': 192.1, 'previousClose': 193.09, 'sector': 'Technology', 'high': 194.21, 'low': 190.22, 'ytdChange': 0.06432587366332276, 'peRatio': 30.92, 'week52High': 195.32, 'week52Low': 130.3}\n",
      "---------------------------------\n",
      "{'latestUpdate': '2018-02-02 20:59:59', 'companyName': 'Alphabet Inc.', 'latestPrice': 1112.53, 'latestVolume': 4759225, 'marketCap': 772988192551, 'open': 1121.95, 'previousClose': 1167.7, 'sector': 'Technology', 'high': 1123.07, 'low': 1107.278, 'ytdChange': 0.09643192488262915, 'peRatio': None, 'week52High': 1186.89, 'week52Low': 792}\n",
      "---------------------------------\n",
      "{'latestUpdate': '2018-02-02 21:00:08', 'companyName': 'Apple Inc.', 'latestPrice': 160.4, 'latestVolume': 85724096, 'marketCap': 815963782400, 'open': 166.34, 'previousClose': 167.78, 'sector': 'Technology', 'high': 166.8, 'low': 160.33, 'ytdChange': -0.026007198420991466, 'peRatio': 17.43, 'week52High': 180.1, 'week52Low': 127.78}\n",
      "---------------------------------\n",
      "{'latestUpdate': '2018-02-02 20:59:56', 'companyName': 'Facebook Inc.', 'latestPrice': 190.17, 'latestVolume': 25550570, 'marketCap': 552597649607, 'open': 192.1, 'previousClose': 193.09, 'sector': 'Technology', 'high': 194.21, 'low': 190.22, 'ytdChange': 0.06432587366332276, 'peRatio': 30.92, 'week52High': 195.32, 'week52Low': 130.3}\n",
      "---------------------------------\n",
      "{'latestUpdate': '2018-02-02 20:59:59', 'companyName': 'Alphabet Inc.', 'latestPrice': 1112.53, 'latestVolume': 4759225, 'marketCap': 772988192551, 'open': 1121.95, 'previousClose': 1167.7, 'sector': 'Technology', 'high': 1123.07, 'low': 1107.278, 'ytdChange': 0.09643192488262915, 'peRatio': None, 'week52High': 1186.89, 'week52Low': 792}\n",
      "---------------------------------\n",
      "{'latestUpdate': '2018-02-02 21:00:08', 'companyName': 'Apple Inc.', 'latestPrice': 160.4, 'latestVolume': 85724096, 'marketCap': 815963782400, 'open': 166.34, 'previousClose': 167.78, 'sector': 'Technology', 'high': 166.8, 'low': 160.33, 'ytdChange': -0.026007198420991466, 'peRatio': 17.43, 'week52High': 180.1, 'week52Low': 127.78}\n",
      "---------------------------------\n",
      "{'latestUpdate': '2018-02-02 20:59:56', 'companyName': 'Facebook Inc.', 'latestPrice': 190.17, 'latestVolume': 25550570, 'marketCap': 552597649607, 'open': 192.1, 'previousClose': 193.09, 'sector': 'Technology', 'high': 194.21, 'low': 190.22, 'ytdChange': 0.06432587366332276, 'peRatio': 30.92, 'week52High': 195.32, 'week52Low': 130.3}\n",
      "---------------------------------\n",
      "{'latestUpdate': '2018-02-02 20:59:59', 'companyName': 'Alphabet Inc.', 'latestPrice': 1112.53, 'latestVolume': 4759225, 'marketCap': 772988192551, 'open': 1121.95, 'previousClose': 1167.7, 'sector': 'Technology', 'high': 1123.07, 'low': 1107.278, 'ytdChange': 0.09643192488262915, 'peRatio': None, 'week52High': 1186.89, 'week52Low': 792}\n"
     ]
    },
    {
     "name": "stdout",
     "output_type": "stream",
     "text": [
      "---------------------------------\n",
      "{'latestUpdate': '2018-02-02 21:00:08', 'companyName': 'Apple Inc.', 'latestPrice': 160.4, 'latestVolume': 85724096, 'marketCap': 815963782400, 'open': 166.34, 'previousClose': 167.78, 'sector': 'Technology', 'high': 166.8, 'low': 160.33, 'ytdChange': -0.026007198420991466, 'peRatio': 17.43, 'week52High': 180.1, 'week52Low': 127.78}\n",
      "---------------------------------\n",
      "{'latestUpdate': '2018-02-02 20:59:56', 'companyName': 'Facebook Inc.', 'latestPrice': 190.17, 'latestVolume': 25550570, 'marketCap': 552597649607, 'open': 192.1, 'previousClose': 193.09, 'sector': 'Technology', 'high': 194.21, 'low': 190.21, 'ytdChange': 0.06432587366332276, 'peRatio': 30.92, 'week52High': 195.32, 'week52Low': 130.3}\n",
      "---------------------------------\n",
      "{'latestUpdate': '2018-02-02 20:59:59', 'companyName': 'Alphabet Inc.', 'latestPrice': 1112.53, 'latestVolume': 4759225, 'marketCap': 772988192551, 'open': 1121.95, 'previousClose': 1167.7, 'sector': 'Technology', 'high': 1123.07, 'low': 1107.278, 'ytdChange': 0.09643192488262915, 'peRatio': None, 'week52High': 1186.89, 'week52Low': 792}\n",
      "---------------------------------\n",
      "{'latestUpdate': '2018-02-02 21:00:08', 'companyName': 'Apple Inc.', 'latestPrice': 160.4, 'latestVolume': 85724096, 'marketCap': 815963782400, 'open': 166.34, 'previousClose': 167.78, 'sector': 'Technology', 'high': 166.8, 'low': 160.33, 'ytdChange': -0.026007198420991466, 'peRatio': 17.43, 'week52High': 180.1, 'week52Low': 127.78}\n",
      "---------------------------------\n",
      "{'latestUpdate': '2018-02-02 20:59:56', 'companyName': 'Facebook Inc.', 'latestPrice': 190.17, 'latestVolume': 25550570, 'marketCap': 552597649607, 'open': 192.1, 'previousClose': 193.09, 'sector': 'Technology', 'high': 194.21, 'low': 190.13, 'ytdChange': 0.06432587366332276, 'peRatio': 30.92, 'week52High': 195.32, 'week52Low': 130.3}\n",
      "---------------------------------\n",
      "{'latestUpdate': '2018-02-02 20:59:59', 'companyName': 'Alphabet Inc.', 'latestPrice': 1112.53, 'latestVolume': 4759225, 'marketCap': 772988192551, 'open': 1121.95, 'previousClose': 1167.7, 'sector': 'Technology', 'high': 1123.07, 'low': 1107.278, 'ytdChange': 0.09643192488262915, 'peRatio': None, 'week52High': 1186.89, 'week52Low': 792}\n",
      "Logged Data\n",
      "---------------------------------\n",
      "{'latestUpdate': '2018-02-02 21:00:08', 'companyName': 'Apple Inc.', 'latestPrice': 160.4, 'latestVolume': 85724096, 'marketCap': 815963782400, 'open': 166.34, 'previousClose': 167.78, 'sector': 'Technology', 'high': 166.8, 'low': 160.33, 'ytdChange': -0.026007198420991466, 'peRatio': 17.43, 'week52High': 180.1, 'week52Low': 127.78}\n",
      "---------------------------------\n",
      "{'latestUpdate': '2018-02-02 20:59:56', 'companyName': 'Facebook Inc.', 'latestPrice': 190.17, 'latestVolume': 25550570, 'marketCap': 552597649607, 'open': 192.1, 'previousClose': 193.09, 'sector': 'Technology', 'high': 194.21, 'low': 190.13, 'ytdChange': 0.06432587366332276, 'peRatio': 30.92, 'week52High': 195.32, 'week52Low': 130.3}\n",
      "---------------------------------\n",
      "{'latestUpdate': '2018-02-02 20:59:59', 'companyName': 'Alphabet Inc.', 'latestPrice': 1112.53, 'latestVolume': 4759225, 'marketCap': 772988192551, 'open': 1121.95, 'previousClose': 1167.7, 'sector': 'Technology', 'high': 1123.07, 'low': 1107.278, 'ytdChange': 0.09643192488262915, 'peRatio': None, 'week52High': 1186.89, 'week52Low': 792}\n",
      "---------------------------------\n",
      "{'latestUpdate': '2018-02-02 21:00:08', 'companyName': 'Apple Inc.', 'latestPrice': 160.4, 'latestVolume': 85724096, 'marketCap': 815963782400, 'open': 166.34, 'previousClose': 167.78, 'sector': 'Technology', 'high': 166.8, 'low': 160.33, 'ytdChange': -0.026007198420991466, 'peRatio': 17.43, 'week52High': 180.1, 'week52Low': 127.78}\n",
      "---------------------------------\n",
      "{'latestUpdate': '2018-02-02 20:59:56', 'companyName': 'Facebook Inc.', 'latestPrice': 190.17, 'latestVolume': 25550570, 'marketCap': 552597649607, 'open': 192.1, 'previousClose': 193.09, 'sector': 'Technology', 'high': 194.21, 'low': 190.13, 'ytdChange': 0.06432587366332276, 'peRatio': 30.92, 'week52High': 195.32, 'week52Low': 130.3}\n",
      "---------------------------------\n",
      "{'latestUpdate': '2018-02-02 20:59:59', 'companyName': 'Alphabet Inc.', 'latestPrice': 1112.53, 'latestVolume': 4759225, 'marketCap': 772988192551, 'open': 1121.95, 'previousClose': 1167.7, 'sector': 'Technology', 'high': 1123.07, 'low': 1107.278, 'ytdChange': 0.09643192488262915, 'peRatio': None, 'week52High': 1186.89, 'week52Low': 792}\n",
      "---------------------------------\n",
      "{'latestUpdate': '2018-02-02 21:00:08', 'companyName': 'Apple Inc.', 'latestPrice': 160.4, 'latestVolume': 85724096, 'marketCap': 815963782400, 'open': 166.34, 'previousClose': 167.78, 'sector': 'Technology', 'high': 166.8, 'low': 160.33, 'ytdChange': -0.026007198420991466, 'peRatio': 17.43, 'week52High': 180.1, 'week52Low': 127.78}\n",
      "---------------------------------\n",
      "{'latestUpdate': '2018-02-02 20:59:56', 'companyName': 'Facebook Inc.', 'latestPrice': 190.17, 'latestVolume': 25550570, 'marketCap': 552597649607, 'open': 192.1, 'previousClose': 193.09, 'sector': 'Technology', 'high': 194.21, 'low': 190.13, 'ytdChange': 0.06432587366332276, 'peRatio': 30.92, 'week52High': 195.32, 'week52Low': 130.3}\n",
      "---------------------------------\n",
      "{'latestUpdate': '2018-02-02 20:59:59', 'companyName': 'Alphabet Inc.', 'latestPrice': 1112.53, 'latestVolume': 4759225, 'marketCap': 772988192551, 'open': 1121.95, 'previousClose': 1167.7, 'sector': 'Technology', 'high': 1123.07, 'low': 1107.278, 'ytdChange': 0.09643192488262915, 'peRatio': None, 'week52High': 1186.89, 'week52Low': 792}\n",
      "---------------------------------\n",
      "{'latestUpdate': '2018-02-02 21:00:08', 'companyName': 'Apple Inc.', 'latestPrice': 160.4, 'latestVolume': 85724096, 'marketCap': 815963782400, 'open': 166.34, 'previousClose': 167.78, 'sector': 'Technology', 'high': 166.8, 'low': 160.33, 'ytdChange': -0.026007198420991466, 'peRatio': 17.43, 'week52High': 180.1, 'week52Low': 127.78}\n",
      "---------------------------------\n",
      "{'latestUpdate': '2018-02-02 20:59:56', 'companyName': 'Facebook Inc.', 'latestPrice': 190.17, 'latestVolume': 25564441, 'marketCap': 552597649607, 'open': 192.1, 'previousClose': 193.09, 'sector': 'Technology', 'high': 194.21, 'low': 190.13, 'ytdChange': 0.06432587366332276, 'peRatio': 30.92, 'week52High': 195.32, 'week52Low': 130.3}\n",
      "---------------------------------\n",
      "{'latestUpdate': '2018-02-02 20:59:59', 'companyName': 'Alphabet Inc.', 'latestPrice': 1112.53, 'latestVolume': 4759225, 'marketCap': 772988192551, 'open': 1121.95, 'previousClose': 1167.7, 'sector': 'Technology', 'high': 1123.07, 'low': 1107.278, 'ytdChange': 0.09643192488262915, 'peRatio': None, 'week52High': 1186.89, 'week52Low': 792}\n",
      "---------------------------------\n",
      "{'latestUpdate': '2018-02-02 21:00:08', 'companyName': 'Apple Inc.', 'latestPrice': 160.4, 'latestVolume': 85745331, 'marketCap': 815963782400, 'open': 166.34, 'previousClose': 167.78, 'sector': 'Technology', 'high': 166.8, 'low': 160.33, 'ytdChange': -0.026007198420991466, 'peRatio': 17.43, 'week52High': 180.1, 'week52Low': 127.78}\n",
      "---------------------------------\n",
      "{'latestUpdate': '2018-02-02 20:59:56', 'companyName': 'Facebook Inc.', 'latestPrice': 190.17, 'latestVolume': 25564441, 'marketCap': 552597649607, 'open': 192.1, 'previousClose': 193.09, 'sector': 'Technology', 'high': 194.21, 'low': 190.13, 'ytdChange': 0.06432587366332276, 'peRatio': 30.92, 'week52High': 195.32, 'week52Low': 130.3}\n",
      "---------------------------------\n",
      "{'latestUpdate': '2018-02-02 20:59:59', 'companyName': 'Alphabet Inc.', 'latestPrice': 1112.53, 'latestVolume': 4759225, 'marketCap': 772988192551, 'open': 1121.95, 'previousClose': 1167.7, 'sector': 'Technology', 'high': 1123.07, 'low': 1107.278, 'ytdChange': 0.09643192488262915, 'peRatio': None, 'week52High': 1186.89, 'week52Low': 792}\n",
      "Logged Data\n",
      "---------------------------------\n",
      "{'latestUpdate': '2018-02-02 21:00:08', 'companyName': 'Apple Inc.', 'latestPrice': 160.4, 'latestVolume': 85745331, 'marketCap': 815963782400, 'open': 166.34, 'previousClose': 167.78, 'sector': 'Technology', 'high': 166.8, 'low': 160.33, 'ytdChange': -0.026007198420991466, 'peRatio': 17.43, 'week52High': 180.1, 'week52Low': 127.78}\n",
      "---------------------------------\n",
      "{'latestUpdate': '2018-02-02 20:59:56', 'companyName': 'Facebook Inc.', 'latestPrice': 190.17, 'latestVolume': 25564441, 'marketCap': 552597649607, 'open': 192.1, 'previousClose': 193.09, 'sector': 'Technology', 'high': 194.21, 'low': 190.13, 'ytdChange': 0.06432587366332276, 'peRatio': 30.92, 'week52High': 195.32, 'week52Low': 130.3}\n"
     ]
    },
    {
     "name": "stdout",
     "output_type": "stream",
     "text": [
      "---------------------------------\n",
      "{'latestUpdate': '2018-02-02 20:59:59', 'companyName': 'Alphabet Inc.', 'latestPrice': 1112.53, 'latestVolume': 4759225, 'marketCap': 772988192551, 'open': 1121.95, 'previousClose': 1167.7, 'sector': 'Technology', 'high': 1123.07, 'low': 1107.278, 'ytdChange': 0.09643192488262915, 'peRatio': None, 'week52High': 1186.89, 'week52Low': 792}\n",
      "---------------------------------\n",
      "{'latestUpdate': '2018-02-02 21:00:08', 'companyName': 'Apple Inc.', 'latestPrice': 160.4, 'latestVolume': 85745331, 'marketCap': 815963782400, 'open': 166.34, 'previousClose': 167.78, 'sector': 'Technology', 'high': 166.8, 'low': 160.33, 'ytdChange': -0.026007198420991466, 'peRatio': 17.43, 'week52High': 180.1, 'week52Low': 127.78}\n",
      "---------------------------------\n",
      "{'latestUpdate': '2018-02-02 20:59:56', 'companyName': 'Facebook Inc.', 'latestPrice': 190.17, 'latestVolume': 25564441, 'marketCap': 552597649607, 'open': 192.1, 'previousClose': 193.09, 'sector': 'Technology', 'high': 194.21, 'low': 190.13, 'ytdChange': 0.06432587366332276, 'peRatio': 30.92, 'week52High': 195.32, 'week52Low': 130.3}\n",
      "---------------------------------\n",
      "{'latestUpdate': '2018-02-02 20:59:59', 'companyName': 'Alphabet Inc.', 'latestPrice': 1112.53, 'latestVolume': 4759225, 'marketCap': 772988192551, 'open': 1121.95, 'previousClose': 1167.7, 'sector': 'Technology', 'high': 1123.07, 'low': 1107.278, 'ytdChange': 0.09643192488262915, 'peRatio': None, 'week52High': 1186.89, 'week52Low': 792}\n",
      "---------------------------------\n",
      "{'latestUpdate': '2018-02-02 21:00:08', 'companyName': 'Apple Inc.', 'latestPrice': 160.4, 'latestVolume': 85745331, 'marketCap': 815963782400, 'open': 166.34, 'previousClose': 167.78, 'sector': 'Technology', 'high': 166.8, 'low': 160.33, 'ytdChange': -0.026007198420991466, 'peRatio': 17.43, 'week52High': 180.1, 'week52Low': 127.78}\n",
      "---------------------------------\n",
      "{'latestUpdate': '2018-02-02 20:59:56', 'companyName': 'Facebook Inc.', 'latestPrice': 190.17, 'latestVolume': 25564441, 'marketCap': 552597649607, 'open': 192.1, 'previousClose': 193.09, 'sector': 'Technology', 'high': 194.21, 'low': 190.13, 'ytdChange': 0.06432587366332276, 'peRatio': 30.92, 'week52High': 195.32, 'week52Low': 130.3}\n",
      "---------------------------------\n",
      "{'latestUpdate': '2018-02-02 20:59:59', 'companyName': 'Alphabet Inc.', 'latestPrice': 1112.53, 'latestVolume': 4759225, 'marketCap': 772988192551, 'open': 1121.95, 'previousClose': 1167.7, 'sector': 'Technology', 'high': 1123.07, 'low': 1107.278, 'ytdChange': 0.09643192488262915, 'peRatio': None, 'week52High': 1186.89, 'week52Low': 792}\n",
      "---------------------------------\n",
      "{'latestUpdate': '2018-02-02 21:00:08', 'companyName': 'Apple Inc.', 'latestPrice': 160.4, 'latestVolume': 85745331, 'marketCap': 815963782400, 'open': 166.34, 'previousClose': 167.78, 'sector': 'Technology', 'high': 166.8, 'low': 160.33, 'ytdChange': -0.026007198420991466, 'peRatio': 17.43, 'week52High': 180.1, 'week52Low': 127.78}\n",
      "---------------------------------\n",
      "{'latestUpdate': '2018-02-02 20:59:56', 'companyName': 'Facebook Inc.', 'latestPrice': 190.17, 'latestVolume': 25564441, 'marketCap': 552597649607, 'open': 192.1, 'previousClose': 193.09, 'sector': 'Technology', 'high': 194.21, 'low': 190.13, 'ytdChange': 0.06432587366332276, 'peRatio': 30.92, 'week52High': 195.32, 'week52Low': 130.3}\n",
      "---------------------------------\n",
      "{'latestUpdate': '2018-02-02 20:59:59', 'companyName': 'Alphabet Inc.', 'latestPrice': 1112.53, 'latestVolume': 4759225, 'marketCap': 772988192551, 'open': 1121.95, 'previousClose': 1167.7, 'sector': 'Technology', 'high': 1123.07, 'low': 1107.278, 'ytdChange': 0.09643192488262915, 'peRatio': None, 'week52High': 1186.89, 'week52Low': 792}\n",
      "---------------------------------\n",
      "{'latestUpdate': '2018-02-02 21:00:08', 'companyName': 'Apple Inc.', 'latestPrice': 160.4, 'latestVolume': 85745331, 'marketCap': 815963782400, 'open': 166.34, 'previousClose': 167.78, 'sector': 'Technology', 'high': 166.8, 'low': 160.33, 'ytdChange': -0.026007198420991466, 'peRatio': 17.43, 'week52High': 180.1, 'week52Low': 127.78}\n",
      "---------------------------------\n",
      "{'latestUpdate': '2018-02-02 20:59:56', 'companyName': 'Facebook Inc.', 'latestPrice': 190.17, 'latestVolume': 25564441, 'marketCap': 552597649607, 'open': 192.1, 'previousClose': 193.09, 'sector': 'Technology', 'high': 194.21, 'low': 190.13, 'ytdChange': 0.06432587366332276, 'peRatio': 30.92, 'week52High': 195.32, 'week52Low': 130.3}\n",
      "---------------------------------\n",
      "{'latestUpdate': '2018-02-02 20:59:59', 'companyName': 'Alphabet Inc.', 'latestPrice': 1112.53, 'latestVolume': 4759225, 'marketCap': 772988192551, 'open': 1121.95, 'previousClose': 1167.7, 'sector': 'Technology', 'high': 1123.07, 'low': 1107.278, 'ytdChange': 0.09643192488262915, 'peRatio': None, 'week52High': 1186.89, 'week52Low': 792}\n",
      "---------------------------------\n",
      "{'latestUpdate': '2018-02-02 21:00:08', 'companyName': 'Apple Inc.', 'latestPrice': 160.4, 'latestVolume': 85745331, 'marketCap': 815963782400, 'open': 166.34, 'previousClose': 167.78, 'sector': 'Technology', 'high': 166.8, 'low': 160.33, 'ytdChange': -0.026007198420991466, 'peRatio': 17.43, 'week52High': 180.1, 'week52Low': 127.78}\n",
      "---------------------------------\n",
      "{'latestUpdate': '2018-02-02 20:59:56', 'companyName': 'Facebook Inc.', 'latestPrice': 190.17, 'latestVolume': 25564441, 'marketCap': 552597649607, 'open': 192.1, 'previousClose': 193.09, 'sector': 'Technology', 'high': 194.21, 'low': 190.13, 'ytdChange': 0.06432587366332276, 'peRatio': 30.92, 'week52High': 195.32, 'week52Low': 130.3}\n",
      "---------------------------------\n",
      "{'latestUpdate': '2018-02-02 20:59:59', 'companyName': 'Alphabet Inc.', 'latestPrice': 1112.53, 'latestVolume': 4759225, 'marketCap': 772988192551, 'open': 1121.95, 'previousClose': 1167.7, 'sector': 'Technology', 'high': 1123.07, 'low': 1107.278, 'ytdChange': 0.09643192488262915, 'peRatio': None, 'week52High': 1186.89, 'week52Low': 792}\n",
      "Logged Data\n",
      "---------------------------------\n",
      "{'latestUpdate': '2018-02-02 21:07:05', 'companyName': 'Apple Inc.', 'latestPrice': 160.77, 'latestVolume': 85897246, 'marketCap': 817845993120, 'open': 166.34, 'previousClose': 167.78, 'sector': 'Technology', 'high': 166.8, 'low': 160.33, 'ytdChange': -0.026007198420991466, 'peRatio': 17.48, 'week52High': 180.1, 'week52Low': 127.78}\n",
      "---------------------------------\n",
      "{'latestUpdate': '2018-02-02 20:59:56', 'companyName': 'Facebook Inc.', 'latestPrice': 190.17, 'latestVolume': 25564441, 'marketCap': 552597649607, 'open': 192.1, 'previousClose': 193.09, 'sector': 'Technology', 'high': 194.21, 'low': 190.13, 'ytdChange': 0.06432587366332276, 'peRatio': 30.92, 'week52High': 195.32, 'week52Low': 130.3}\n",
      "---------------------------------\n",
      "{'latestUpdate': '2018-02-02 20:59:59', 'companyName': 'Alphabet Inc.', 'latestPrice': 1112.53, 'latestVolume': 4759225, 'marketCap': 772988192551, 'open': 1121.95, 'previousClose': 1167.7, 'sector': 'Technology', 'high': 1123.07, 'low': 1107.278, 'ytdChange': 0.09643192488262915, 'peRatio': None, 'week52High': 1186.89, 'week52Low': 792}\n",
      "---------------------------------\n",
      "{'latestUpdate': '2018-02-02 21:07:05', 'companyName': 'Apple Inc.', 'latestPrice': 160.77, 'latestVolume': 85897246, 'marketCap': 817845993120, 'open': 166.34, 'previousClose': 167.78, 'sector': 'Technology', 'high': 166.8, 'low': 160.33, 'ytdChange': -0.026007198420991466, 'peRatio': 17.48, 'week52High': 180.1, 'week52Low': 127.78}\n",
      "---------------------------------\n",
      "{'latestUpdate': '2018-02-02 20:59:56', 'companyName': 'Facebook Inc.', 'latestPrice': 190.17, 'latestVolume': 25564441, 'marketCap': 552597649607, 'open': 192.1, 'previousClose': 193.09, 'sector': 'Technology', 'high': 194.21, 'low': 190.13, 'ytdChange': 0.06432587366332276, 'peRatio': 30.92, 'week52High': 195.32, 'week52Low': 130.3}\n",
      "---------------------------------\n",
      "{'latestUpdate': '2018-02-02 20:59:59', 'companyName': 'Alphabet Inc.', 'latestPrice': 1112.53, 'latestVolume': 4759225, 'marketCap': 772988192551, 'open': 1121.95, 'previousClose': 1167.7, 'sector': 'Technology', 'high': 1123.07, 'low': 1107.278, 'ytdChange': 0.09643192488262915, 'peRatio': None, 'week52High': 1186.89, 'week52Low': 792}\n",
      "---------------------------------\n",
      "{'latestUpdate': '2018-02-02 21:07:05', 'companyName': 'Apple Inc.', 'latestPrice': 160.77, 'latestVolume': 85897246, 'marketCap': 817845993120, 'open': 166.34, 'previousClose': 167.78, 'sector': 'Technology', 'high': 166.8, 'low': 160.33, 'ytdChange': -0.026007198420991466, 'peRatio': 17.48, 'week52High': 180.1, 'week52Low': 127.78}\n"
     ]
    },
    {
     "name": "stdout",
     "output_type": "stream",
     "text": [
      "---------------------------------\n",
      "{'latestUpdate': '2018-02-02 20:59:56', 'companyName': 'Facebook Inc.', 'latestPrice': 190.17, 'latestVolume': 25564441, 'marketCap': 552597649607, 'open': 192.1, 'previousClose': 193.09, 'sector': 'Technology', 'high': 194.21, 'low': 190.13, 'ytdChange': 0.06432587366332276, 'peRatio': 30.92, 'week52High': 195.32, 'week52Low': 130.3}\n",
      "---------------------------------\n",
      "{'latestUpdate': '2018-02-02 20:59:59', 'companyName': 'Alphabet Inc.', 'latestPrice': 1112.53, 'latestVolume': 4760489, 'marketCap': 772988192551, 'open': 1121.95, 'previousClose': 1167.7, 'sector': 'Technology', 'high': 1123.07, 'low': 1107.278, 'ytdChange': 0.09643192488262915, 'peRatio': None, 'week52High': 1186.89, 'week52Low': 792}\n",
      "---------------------------------\n",
      "{'latestUpdate': '2018-02-02 21:07:05', 'companyName': 'Apple Inc.', 'latestPrice': 160.77, 'latestVolume': 85897246, 'marketCap': 817845993120, 'open': 166.34, 'previousClose': 167.78, 'sector': 'Technology', 'high': 166.8, 'low': 160.33, 'ytdChange': -0.026007198420991466, 'peRatio': 17.48, 'week52High': 180.1, 'week52Low': 127.78}\n",
      "---------------------------------\n",
      "{'latestUpdate': '2018-02-02 20:59:56', 'companyName': 'Facebook Inc.', 'latestPrice': 190.17, 'latestVolume': 25564441, 'marketCap': 552597649607, 'open': 192.1, 'previousClose': 193.09, 'sector': 'Technology', 'high': 194.21, 'low': 190.13, 'ytdChange': 0.06432587366332276, 'peRatio': 30.92, 'week52High': 195.32, 'week52Low': 130.3}\n",
      "---------------------------------\n",
      "{'latestUpdate': '2018-02-02 20:59:59', 'companyName': 'Alphabet Inc.', 'latestPrice': 1112.53, 'latestVolume': 4760489, 'marketCap': 772988192551, 'open': 1121.95, 'previousClose': 1167.7, 'sector': 'Technology', 'high': 1123.07, 'low': 1107.278, 'ytdChange': 0.09643192488262915, 'peRatio': None, 'week52High': 1186.89, 'week52Low': 792}\n",
      "---------------------------------\n",
      "{'latestUpdate': '2018-02-02 21:07:05', 'companyName': 'Apple Inc.', 'latestPrice': 160.77, 'latestVolume': 85897246, 'marketCap': 817845993120, 'open': 166.34, 'previousClose': 167.78, 'sector': 'Technology', 'high': 166.8, 'low': 160.33, 'ytdChange': -0.026007198420991466, 'peRatio': 17.48, 'week52High': 180.1, 'week52Low': 127.78}\n",
      "---------------------------------\n",
      "{'latestUpdate': '2018-02-02 20:59:56', 'companyName': 'Facebook Inc.', 'latestPrice': 190.17, 'latestVolume': 25564441, 'marketCap': 552597649607, 'open': 192.1, 'previousClose': 193.09, 'sector': 'Technology', 'high': 194.21, 'low': 190.13, 'ytdChange': 0.06432587366332276, 'peRatio': 30.92, 'week52High': 195.32, 'week52Low': 130.3}\n",
      "---------------------------------\n",
      "{'latestUpdate': '2018-02-02 20:59:59', 'companyName': 'Alphabet Inc.', 'latestPrice': 1112.53, 'latestVolume': 4760489, 'marketCap': 772988192551, 'open': 1121.95, 'previousClose': 1167.7, 'sector': 'Technology', 'high': 1123.07, 'low': 1107.278, 'ytdChange': 0.09643192488262915, 'peRatio': None, 'week52High': 1186.89, 'week52Low': 792}\n",
      "Logged Data\n",
      "---------------------------------\n",
      "{'latestUpdate': '2018-02-02 21:07:05', 'companyName': 'Apple Inc.', 'latestPrice': 160.77, 'latestVolume': 85939896, 'marketCap': 817845993120, 'open': 166.34, 'previousClose': 167.78, 'sector': 'Technology', 'high': 166.8, 'low': 160.33, 'ytdChange': -0.026007198420991466, 'peRatio': 17.48, 'week52High': 180.1, 'week52Low': 127.78}\n",
      "---------------------------------\n",
      "{'latestUpdate': '2018-02-02 20:59:56', 'companyName': 'Facebook Inc.', 'latestPrice': 190.17, 'latestVolume': 25564441, 'marketCap': 552597649607, 'open': 192.1, 'previousClose': 193.09, 'sector': 'Technology', 'high': 194.21, 'low': 190.13, 'ytdChange': 0.06432587366332276, 'peRatio': 30.92, 'week52High': 195.32, 'week52Low': 130.3}\n",
      "---------------------------------\n",
      "{'latestUpdate': '2018-02-02 20:59:59', 'companyName': 'Alphabet Inc.', 'latestPrice': 1112.53, 'latestVolume': 4760489, 'marketCap': 772988192551, 'open': 1121.95, 'previousClose': 1167.7, 'sector': 'Technology', 'high': 1123.07, 'low': 1107.278, 'ytdChange': 0.09643192488262915, 'peRatio': None, 'week52High': 1186.89, 'week52Low': 792}\n",
      "---------------------------------\n",
      "{'latestUpdate': '2018-02-02 21:07:05', 'companyName': 'Apple Inc.', 'latestPrice': 160.77, 'latestVolume': 85939896, 'marketCap': 817845993120, 'open': 166.34, 'previousClose': 167.78, 'sector': 'Technology', 'high': 166.8, 'low': 160.33, 'ytdChange': -0.026007198420991466, 'peRatio': 17.48, 'week52High': 180.1, 'week52Low': 127.78}\n",
      "---------------------------------\n",
      "{'latestUpdate': '2018-02-02 20:59:56', 'companyName': 'Facebook Inc.', 'latestPrice': 190.17, 'latestVolume': 25564441, 'marketCap': 552597649607, 'open': 192.1, 'previousClose': 193.09, 'sector': 'Technology', 'high': 194.21, 'low': 190.13, 'ytdChange': 0.06432587366332276, 'peRatio': 30.92, 'week52High': 195.32, 'week52Low': 130.3}\n",
      "---------------------------------\n",
      "{'latestUpdate': '2018-02-02 20:59:59', 'companyName': 'Alphabet Inc.', 'latestPrice': 1112.53, 'latestVolume': 4760489, 'marketCap': 772988192551, 'open': 1121.95, 'previousClose': 1167.7, 'sector': 'Technology', 'high': 1123.07, 'low': 1107.278, 'ytdChange': 0.09643192488262915, 'peRatio': None, 'week52High': 1186.89, 'week52Low': 792}\n",
      "---------------------------------\n",
      "{'latestUpdate': '2018-02-02 21:07:05', 'companyName': 'Apple Inc.', 'latestPrice': 160.77, 'latestVolume': 85939896, 'marketCap': 817845993120, 'open': 166.34, 'previousClose': 167.78, 'sector': 'Technology', 'high': 166.8, 'low': 160.33, 'ytdChange': -0.026007198420991466, 'peRatio': 17.48, 'week52High': 180.1, 'week52Low': 127.78}\n",
      "---------------------------------\n",
      "{'latestUpdate': '2018-02-02 20:59:56', 'companyName': 'Facebook Inc.', 'latestPrice': 190.17, 'latestVolume': 25564441, 'marketCap': 552597649607, 'open': 192.1, 'previousClose': 193.09, 'sector': 'Technology', 'high': 194.21, 'low': 190.13, 'ytdChange': 0.06432587366332276, 'peRatio': 30.92, 'week52High': 195.32, 'week52Low': 130.3}\n",
      "---------------------------------\n",
      "{'latestUpdate': '2018-02-02 20:59:59', 'companyName': 'Alphabet Inc.', 'latestPrice': 1112.53, 'latestVolume': 4760489, 'marketCap': 772988192551, 'open': 1121.95, 'previousClose': 1167.7, 'sector': 'Technology', 'high': 1123.07, 'low': 1107.278, 'ytdChange': 0.09643192488262915, 'peRatio': None, 'week52High': 1186.89, 'week52Low': 792}\n",
      "---------------------------------\n",
      "{'latestUpdate': '2018-02-02 21:07:05', 'companyName': 'Apple Inc.', 'latestPrice': 160.77, 'latestVolume': 85939896, 'marketCap': 817845993120, 'open': 166.34, 'previousClose': 167.78, 'sector': 'Technology', 'high': 166.8, 'low': 160.33, 'ytdChange': -0.026007198420991466, 'peRatio': 17.48, 'week52High': 180.1, 'week52Low': 127.78}\n",
      "---------------------------------\n",
      "{'latestUpdate': '2018-02-02 20:59:56', 'companyName': 'Facebook Inc.', 'latestPrice': 190.17, 'latestVolume': 25564441, 'marketCap': 552597649607, 'open': 192.1, 'previousClose': 193.09, 'sector': 'Technology', 'high': 194.21, 'low': 190.13, 'ytdChange': 0.06432587366332276, 'peRatio': 30.92, 'week52High': 195.32, 'week52Low': 130.3}\n",
      "---------------------------------\n",
      "{'latestUpdate': '2018-02-02 20:59:59', 'companyName': 'Alphabet Inc.', 'latestPrice': 1112.53, 'latestVolume': 4760489, 'marketCap': 772988192551, 'open': 1121.95, 'previousClose': 1167.7, 'sector': 'Technology', 'high': 1123.07, 'low': 1107.278, 'ytdChange': 0.09643192488262915, 'peRatio': None, 'week52High': 1186.89, 'week52Low': 792}\n",
      "---------------------------------\n",
      "{'latestUpdate': '2018-02-02 21:07:05', 'companyName': 'Apple Inc.', 'latestPrice': 160.77, 'latestVolume': 85939896, 'marketCap': 817845993120, 'open': 166.34, 'previousClose': 167.78, 'sector': 'Technology', 'high': 166.8, 'low': 160.33, 'ytdChange': -0.026007198420991466, 'peRatio': 17.48, 'week52High': 180.1, 'week52Low': 127.78}\n",
      "---------------------------------\n",
      "{'latestUpdate': '2018-02-02 20:59:56', 'companyName': 'Facebook Inc.', 'latestPrice': 190.17, 'latestVolume': 25564441, 'marketCap': 552597649607, 'open': 192.1, 'previousClose': 193.09, 'sector': 'Technology', 'high': 194.21, 'low': 190.13, 'ytdChange': 0.06432587366332276, 'peRatio': 30.92, 'week52High': 195.32, 'week52Low': 130.3}\n",
      "---------------------------------\n",
      "{'latestUpdate': '2018-02-02 20:59:59', 'companyName': 'Alphabet Inc.', 'latestPrice': 1112.53, 'latestVolume': 4760489, 'marketCap': 772988192551, 'open': 1121.95, 'previousClose': 1167.7, 'sector': 'Technology', 'high': 1123.07, 'low': 1107.278, 'ytdChange': 0.09643192488262915, 'peRatio': None, 'week52High': 1186.89, 'week52Low': 792}\n"
     ]
    },
    {
     "name": "stdout",
     "output_type": "stream",
     "text": [
      "---------------------------------\n",
      "{'latestUpdate': '2018-02-02 21:07:05', 'companyName': 'Apple Inc.', 'latestPrice': 160.77, 'latestVolume': 85961237, 'marketCap': 817845993120, 'open': 166.34, 'previousClose': 167.78, 'sector': 'Technology', 'high': 166.8, 'low': 160.33, 'ytdChange': -0.026007198420991466, 'peRatio': 17.48, 'week52High': 180.1, 'week52Low': 127.78}\n",
      "---------------------------------\n",
      "{'latestUpdate': '2018-02-02 20:59:56', 'companyName': 'Facebook Inc.', 'latestPrice': 190.17, 'latestVolume': 25578327, 'marketCap': 552597649607, 'open': 192.1, 'previousClose': 193.09, 'sector': 'Technology', 'high': 194.21, 'low': 190.13, 'ytdChange': 0.06432587366332276, 'peRatio': 30.92, 'week52High': 195.32, 'week52Low': 130.3}\n",
      "---------------------------------\n",
      "{'latestUpdate': '2018-02-02 20:59:59', 'companyName': 'Alphabet Inc.', 'latestPrice': 1112.53, 'latestVolume': 4760489, 'marketCap': 772988192551, 'open': 1121.95, 'previousClose': 1167.7, 'sector': 'Technology', 'high': 1123.07, 'low': 1107.278, 'ytdChange': 0.09643192488262915, 'peRatio': None, 'week52High': 1186.89, 'week52Low': 792}\n",
      "Logged Data\n",
      "---------------------------------\n",
      "{'latestUpdate': '2018-02-02 21:07:05', 'companyName': 'Apple Inc.', 'latestPrice': 160.77, 'latestVolume': 86025323, 'marketCap': 817845993120, 'open': 166.34, 'previousClose': 167.78, 'sector': 'Technology', 'high': 166.8, 'low': 160.33, 'ytdChange': -0.026007198420991466, 'peRatio': 17.48, 'week52High': 180.1, 'week52Low': 127.78}\n",
      "---------------------------------\n",
      "{'latestUpdate': '2018-02-02 20:59:56', 'companyName': 'Facebook Inc.', 'latestPrice': 190.17, 'latestVolume': 25578327, 'marketCap': 552597649607, 'open': 192.1, 'previousClose': 193.09, 'sector': 'Technology', 'high': 194.21, 'low': 190.13, 'ytdChange': 0.06432587366332276, 'peRatio': 30.92, 'week52High': 195.32, 'week52Low': 130.3}\n",
      "---------------------------------\n",
      "{'latestUpdate': '2018-02-02 20:59:59', 'companyName': 'Alphabet Inc.', 'latestPrice': 1112.53, 'latestVolume': 4760489, 'marketCap': 772988192551, 'open': 1121.95, 'previousClose': 1167.7, 'sector': 'Technology', 'high': 1123.07, 'low': 1107.278, 'ytdChange': 0.09643192488262915, 'peRatio': None, 'week52High': 1186.89, 'week52Low': 792}\n",
      "---------------------------------\n",
      "{'latestUpdate': '2018-02-02 21:07:05', 'companyName': 'Apple Inc.', 'latestPrice': 160.77, 'latestVolume': 86025323, 'marketCap': 817845993120, 'open': 166.34, 'previousClose': 167.78, 'sector': 'Technology', 'high': 166.8, 'low': 160.3, 'ytdChange': -0.026007198420991466, 'peRatio': 17.48, 'week52High': 180.1, 'week52Low': 127.78}\n",
      "---------------------------------\n",
      "{'latestUpdate': '2018-02-02 20:59:56', 'companyName': 'Facebook Inc.', 'latestPrice': 190.17, 'latestVolume': 25578327, 'marketCap': 552597649607, 'open': 192.1, 'previousClose': 193.09, 'sector': 'Technology', 'high': 194.21, 'low': 190.13, 'ytdChange': 0.06432587366332276, 'peRatio': 30.92, 'week52High': 195.32, 'week52Low': 130.3}\n",
      "---------------------------------\n",
      "{'latestUpdate': '2018-02-02 20:59:59', 'companyName': 'Alphabet Inc.', 'latestPrice': 1112.53, 'latestVolume': 4760489, 'marketCap': 772988192551, 'open': 1121.95, 'previousClose': 1167.7, 'sector': 'Technology', 'high': 1123.07, 'low': 1107.278, 'ytdChange': 0.09643192488262915, 'peRatio': None, 'week52High': 1186.89, 'week52Low': 792}\n",
      "---------------------------------\n",
      "{'latestUpdate': '2018-02-02 21:07:05', 'companyName': 'Apple Inc.', 'latestPrice': 160.77, 'latestVolume': 86025323, 'marketCap': 817845993120, 'open': 166.34, 'previousClose': 167.78, 'sector': 'Technology', 'high': 166.8, 'low': 160.25, 'ytdChange': -0.026007198420991466, 'peRatio': 17.48, 'week52High': 180.1, 'week52Low': 127.78}\n",
      "---------------------------------\n",
      "{'latestUpdate': '2018-02-02 20:59:56', 'companyName': 'Facebook Inc.', 'latestPrice': 190.17, 'latestVolume': 25578327, 'marketCap': 552597649607, 'open': 192.1, 'previousClose': 193.09, 'sector': 'Technology', 'high': 194.21, 'low': 190.13, 'ytdChange': 0.06432587366332276, 'peRatio': 30.92, 'week52High': 195.32, 'week52Low': 130.3}\n",
      "---------------------------------\n",
      "{'latestUpdate': '2018-02-02 20:59:59', 'companyName': 'Alphabet Inc.', 'latestPrice': 1112.53, 'latestVolume': 4760489, 'marketCap': 772988192551, 'open': 1121.95, 'previousClose': 1167.7, 'sector': 'Technology', 'high': 1123.07, 'low': 1107.278, 'ytdChange': 0.09643192488262915, 'peRatio': None, 'week52High': 1186.89, 'week52Low': 792}\n",
      "---------------------------------\n",
      "{'latestUpdate': '2018-02-02 21:07:05', 'companyName': 'Apple Inc.', 'latestPrice': 160.77, 'latestVolume': 86025323, 'marketCap': 817845993120, 'open': 166.34, 'previousClose': 167.78, 'sector': 'Technology', 'high': 166.8, 'low': 160.24, 'ytdChange': -0.026007198420991466, 'peRatio': 17.48, 'week52High': 180.1, 'week52Low': 127.78}\n",
      "---------------------------------\n",
      "{'latestUpdate': '2018-02-02 20:59:56', 'companyName': 'Facebook Inc.', 'latestPrice': 190.17, 'latestVolume': 25578327, 'marketCap': 552597649607, 'open': 192.1, 'previousClose': 193.09, 'sector': 'Technology', 'high': 194.21, 'low': 190.13, 'ytdChange': 0.06432587366332276, 'peRatio': 30.92, 'week52High': 195.32, 'week52Low': 130.3}\n",
      "---------------------------------\n",
      "{'latestUpdate': '2018-02-02 20:59:59', 'companyName': 'Alphabet Inc.', 'latestPrice': 1112.53, 'latestVolume': 4760489, 'marketCap': 772988192551, 'open': 1121.95, 'previousClose': 1167.7, 'sector': 'Technology', 'high': 1123.07, 'low': 1107.278, 'ytdChange': 0.09643192488262915, 'peRatio': None, 'week52High': 1186.89, 'week52Low': 792}\n",
      "---------------------------------\n",
      "{'latestUpdate': '2018-02-02 21:07:05', 'companyName': 'Apple Inc.', 'latestPrice': 160.77, 'latestVolume': 86025323, 'marketCap': 817845993120, 'open': 166.34, 'previousClose': 167.78, 'sector': 'Technology', 'high': 166.8, 'low': 160.24, 'ytdChange': -0.026007198420991466, 'peRatio': 17.48, 'week52High': 180.1, 'week52Low': 127.78}\n",
      "---------------------------------\n",
      "{'latestUpdate': '2018-02-02 20:59:56', 'companyName': 'Facebook Inc.', 'latestPrice': 190.17, 'latestVolume': 25578327, 'marketCap': 552597649607, 'open': 192.1, 'previousClose': 193.09, 'sector': 'Technology', 'high': 194.21, 'low': 190.13, 'ytdChange': 0.06432587366332276, 'peRatio': 30.92, 'week52High': 195.32, 'week52Low': 130.3}\n",
      "---------------------------------\n",
      "{'latestUpdate': '2018-02-02 20:59:59', 'companyName': 'Alphabet Inc.', 'latestPrice': 1112.53, 'latestVolume': 4760489, 'marketCap': 772988192551, 'open': 1121.95, 'previousClose': 1167.7, 'sector': 'Technology', 'high': 1123.07, 'low': 1107.278, 'ytdChange': 0.09643192488262915, 'peRatio': None, 'week52High': 1186.89, 'week52Low': 792}\n",
      "Logged Data\n",
      "---------------------------------\n",
      "{'latestUpdate': '2018-02-02 21:07:05', 'companyName': 'Apple Inc.', 'latestPrice': 160.77, 'latestVolume': 86025323, 'marketCap': 817845993120, 'open': 166.34, 'previousClose': 167.78, 'sector': 'Technology', 'high': 166.8, 'low': 160.24, 'ytdChange': -0.026007198420991466, 'peRatio': 17.48, 'week52High': 180.1, 'week52Low': 127.78}\n",
      "---------------------------------\n",
      "{'latestUpdate': '2018-02-02 20:59:56', 'companyName': 'Facebook Inc.', 'latestPrice': 190.17, 'latestVolume': 25578327, 'marketCap': 552597649607, 'open': 192.1, 'previousClose': 193.09, 'sector': 'Technology', 'high': 194.21, 'low': 190.13, 'ytdChange': 0.06432587366332276, 'peRatio': 30.92, 'week52High': 195.32, 'week52Low': 130.3}\n",
      "---------------------------------\n",
      "{'latestUpdate': '2018-02-02 20:59:59', 'companyName': 'Alphabet Inc.', 'latestPrice': 1112.53, 'latestVolume': 4760489, 'marketCap': 772988192551, 'open': 1121.95, 'previousClose': 1167.7, 'sector': 'Technology', 'high': 1123.07, 'low': 1107.278, 'ytdChange': 0.09643192488262915, 'peRatio': None, 'week52High': 1186.89, 'week52Low': 792}\n",
      "---------------------------------\n",
      "{'latestUpdate': '2018-02-02 21:07:05', 'companyName': 'Apple Inc.', 'latestPrice': 160.77, 'latestVolume': 86025323, 'marketCap': 817845993120, 'open': 166.34, 'previousClose': 167.78, 'sector': 'Technology', 'high': 166.8, 'low': 160.24, 'ytdChange': -0.026007198420991466, 'peRatio': 17.48, 'week52High': 180.1, 'week52Low': 127.78}\n",
      "---------------------------------\n",
      "{'latestUpdate': '2018-02-02 20:59:56', 'companyName': 'Facebook Inc.', 'latestPrice': 190.17, 'latestVolume': 25578327, 'marketCap': 552597649607, 'open': 192.1, 'previousClose': 193.09, 'sector': 'Technology', 'high': 194.21, 'low': 190.13, 'ytdChange': 0.06432587366332276, 'peRatio': 30.92, 'week52High': 195.32, 'week52Low': 130.3}\n"
     ]
    },
    {
     "name": "stdout",
     "output_type": "stream",
     "text": [
      "---------------------------------\n",
      "{'latestUpdate': '2018-02-02 20:59:59', 'companyName': 'Alphabet Inc.', 'latestPrice': 1112.53, 'latestVolume': 4760489, 'marketCap': 772988192551, 'open': 1121.95, 'previousClose': 1167.7, 'sector': 'Technology', 'high': 1123.07, 'low': 1107.278, 'ytdChange': 0.09643192488262915, 'peRatio': None, 'week52High': 1186.89, 'week52Low': 792}\n",
      "---------------------------------\n",
      "{'latestUpdate': '2018-02-02 21:07:05', 'companyName': 'Apple Inc.', 'latestPrice': 160.77, 'latestVolume': 86025323, 'marketCap': 817845993120, 'open': 166.34, 'previousClose': 167.78, 'sector': 'Technology', 'high': 166.8, 'low': 160.24, 'ytdChange': -0.026007198420991466, 'peRatio': 17.48, 'week52High': 180.1, 'week52Low': 127.78}\n",
      "---------------------------------\n",
      "{'latestUpdate': '2018-02-02 20:59:56', 'companyName': 'Facebook Inc.', 'latestPrice': 190.17, 'latestVolume': 25578327, 'marketCap': 552597649607, 'open': 192.1, 'previousClose': 193.09, 'sector': 'Technology', 'high': 194.21, 'low': 190.13, 'ytdChange': 0.06432587366332276, 'peRatio': 30.92, 'week52High': 195.32, 'week52Low': 130.3}\n",
      "---------------------------------\n",
      "{'latestUpdate': '2018-02-02 20:59:59', 'companyName': 'Alphabet Inc.', 'latestPrice': 1112.53, 'latestVolume': 4760489, 'marketCap': 772988192551, 'open': 1121.95, 'previousClose': 1167.7, 'sector': 'Technology', 'high': 1123.07, 'low': 1107.278, 'ytdChange': 0.09643192488262915, 'peRatio': None, 'week52High': 1186.89, 'week52Low': 792}\n",
      "---------------------------------\n",
      "{'latestUpdate': '2018-02-02 21:07:05', 'companyName': 'Apple Inc.', 'latestPrice': 160.77, 'latestVolume': 86025323, 'marketCap': 817845993120, 'open': 166.34, 'previousClose': 167.78, 'sector': 'Technology', 'high': 166.8, 'low': 160.24, 'ytdChange': -0.026007198420991466, 'peRatio': 17.48, 'week52High': 180.1, 'week52Low': 127.78}\n",
      "---------------------------------\n",
      "{'latestUpdate': '2018-02-02 20:59:56', 'companyName': 'Facebook Inc.', 'latestPrice': 190.17, 'latestVolume': 25578327, 'marketCap': 552597649607, 'open': 192.1, 'previousClose': 193.09, 'sector': 'Technology', 'high': 194.21, 'low': 190.13, 'ytdChange': 0.06432587366332276, 'peRatio': 30.92, 'week52High': 195.32, 'week52Low': 130.3}\n",
      "---------------------------------\n",
      "{'latestUpdate': '2018-02-02 20:59:59', 'companyName': 'Alphabet Inc.', 'latestPrice': 1112.53, 'latestVolume': 4760489, 'marketCap': 772988192551, 'open': 1121.95, 'previousClose': 1167.7, 'sector': 'Technology', 'high': 1123.07, 'low': 1107.278, 'ytdChange': 0.09643192488262915, 'peRatio': None, 'week52High': 1186.89, 'week52Low': 792}\n"
     ]
    },
    {
     "ename": "KeyboardInterrupt",
     "evalue": "",
     "output_type": "error",
     "traceback": [
      "\u001b[0;31m---------------------------------------------------------------------------\u001b[0m",
      "\u001b[0;31mKeyboardInterrupt\u001b[0m                         Traceback (most recent call last)",
      "\u001b[0;32m<ipython-input-5-71f4c5942801>\u001b[0m in \u001b[0;36m<module>\u001b[0;34m()\u001b[0m\n\u001b[1;32m     12\u001b[0m \u001b[0;32mwhile\u001b[0m \u001b[0;32mTrue\u001b[0m\u001b[0;34m:\u001b[0m\u001b[0;34m\u001b[0m\u001b[0m\n\u001b[1;32m     13\u001b[0m     \u001b[0mschedule\u001b[0m\u001b[0;34m.\u001b[0m\u001b[0mrun_pending\u001b[0m\u001b[0;34m(\u001b[0m\u001b[0;34m)\u001b[0m\u001b[0;34m\u001b[0m\u001b[0m\n\u001b[0;32m---> 14\u001b[0;31m     \u001b[0mtime\u001b[0m\u001b[0;34m.\u001b[0m\u001b[0msleep\u001b[0m\u001b[0;34m(\u001b[0m\u001b[0;36m1\u001b[0m\u001b[0;34m)\u001b[0m\u001b[0;34m\u001b[0m\u001b[0m\n\u001b[0m",
      "\u001b[0;31mKeyboardInterrupt\u001b[0m: "
     ]
    }
   ],
   "source": [
    "#Read Data-Store\n",
    "companies = json.loads(REDIS.get('companies').decode())\n",
    "stock_tickers = list(companies.keys())\n",
    "REDIS.set('IEX_Stock_Count', 0)\n",
    "\n",
    "#Setup Schedule\n",
    "schedule.clear()\n",
    "schedule.every(10).seconds.do(fetch_stock_data, stocks=stock_tickers)\n",
    "schedule.every(60).seconds.do(log)\n",
    "\n",
    "#Execute\n",
    "while True:\n",
    "    schedule.run_pending()\n",
    "    time.sleep(1)"
   ]
  },
  {
   "cell_type": "code",
   "execution_count": null,
   "metadata": {
    "collapsed": true
   },
   "outputs": [],
   "source": []
  }
 ],
 "metadata": {
  "kernelspec": {
   "display_name": "Python 3",
   "language": "python",
   "name": "python3"
  },
  "language_info": {
   "codemirror_mode": {
    "name": "ipython",
    "version": 3
   },
   "file_extension": ".py",
   "mimetype": "text/x-python",
   "name": "python",
   "nbconvert_exporter": "python",
   "pygments_lexer": "ipython3",
   "version": "3.6.3"
  }
 },
 "nbformat": 4,
 "nbformat_minor": 2
}
