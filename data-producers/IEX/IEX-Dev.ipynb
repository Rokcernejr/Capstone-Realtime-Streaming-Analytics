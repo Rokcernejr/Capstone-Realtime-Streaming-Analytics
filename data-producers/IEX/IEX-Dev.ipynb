{
 "cells": [
  {
   "cell_type": "code",
   "execution_count": 1,
   "metadata": {},
   "outputs": [],
   "source": [
    "#Imports\n",
    "import redis\n",
    "import urllib.request\n",
    "import json\n",
    "import numpy as np\n",
    "import pandas as pd\n",
    "import schedule\n",
    "import time\n",
    "import boto3\n",
    "import datetime\n",
    "\n",
    "import mysql.connector\n",
    "from sqlalchemy import create_engine\n",
    "from sqlalchemy import inspect\n",
    "from sqlalchemy import MetaData\n",
    "from sqlalchemy import Table\n",
    "\n",
    "kinesis = boto3.client('kinesis', region_name='us-east-1')\n",
    "\n",
    "\n",
    "#Connect to Redis-DataStore\n",
    "REDIS = redis.Redis(host='data_store')"
   ]
  },
  {
   "cell_type": "code",
   "execution_count": 2,
   "metadata": {},
   "outputs": [
    {
     "data": {
      "text/plain": [
       "'82pgo1H+eurVJr548ZNAuYbqzCewoSojQ4B90TWJ'"
      ]
     },
     "execution_count": 2,
     "metadata": {},
     "output_type": "execute_result"
    }
   ],
   "source": [
    "%env AWS_SECRET_ACCESS_KEY"
   ]
  },
  {
   "cell_type": "code",
   "execution_count": 3,
   "metadata": {},
   "outputs": [
    {
     "data": {
      "text/plain": [
       "{'HasMoreStreams': False,\n",
       " 'ResponseMetadata': {'HTTPHeaders': {'content-length': '41',\n",
       "   'content-type': 'application/x-amz-json-1.1',\n",
       "   'date': 'Thu, 01 Feb 2018 20:24:39 GMT',\n",
       "   'server': 'Apache-Coyote/1.1',\n",
       "   'x-amz-id-2': 'pz6qHS6uc/6BEnnsgGNShCUnomkR6OXZpx3ylbBHuLIiB/ucBUPsDmfbJO68PTVGrEMfAK2Q8WHWmUp2vKYdkZAVHoZoFzODa1UbIJj6TJ4=',\n",
       "   'x-amzn-requestid': 'ceea6709-ff67-48e1-9c07-1ece970d3eb4'},\n",
       "  'HTTPStatusCode': 200,\n",
       "  'RequestId': 'ceea6709-ff67-48e1-9c07-1ece970d3eb4',\n",
       "  'RetryAttempts': 0},\n",
       " 'StreamNames': []}"
      ]
     },
     "execution_count": 3,
     "metadata": {},
     "output_type": "execute_result"
    }
   ],
   "source": [
    "kinesis.list_streams()"
   ]
  },
  {
   "cell_type": "markdown",
   "metadata": {},
   "source": [
    "### Redis Test"
   ]
  },
  {
   "cell_type": "code",
   "execution_count": 4,
   "metadata": {},
   "outputs": [
    {
     "data": {
      "text/plain": [
       "b'42'"
      ]
     },
     "execution_count": 4,
     "metadata": {},
     "output_type": "execute_result"
    }
   ],
   "source": [
    "REDIS.get('my_incrementer')"
   ]
  },
  {
   "cell_type": "code",
   "execution_count": 5,
   "metadata": {},
   "outputs": [
    {
     "data": {
      "text/plain": [
       "True"
      ]
     },
     "execution_count": 5,
     "metadata": {},
     "output_type": "execute_result"
    }
   ],
   "source": [
    "#To pass a dictionary:\n",
    "import numpy as np\n",
    "import json\n",
    "\n",
    "model_params = {\n",
    "    'C': list(np.logspace(-3,3,7)),\n",
    "    'penalty': 'l1',\n",
    "    'solver' : 'newton-cg'\n",
    "}\n",
    "\n",
    "REDIS.set('model_params', json.dumps(model_params))"
   ]
  },
  {
   "cell_type": "markdown",
   "metadata": {},
   "source": [
    "#### Build Company dataframe"
   ]
  },
  {
   "cell_type": "code",
   "execution_count": 20,
   "metadata": {},
   "outputs": [
    {
     "data": {
      "text/plain": [
       "['AAPL', 'FB', 'GOOG']"
      ]
     },
     "execution_count": 20,
     "metadata": {},
     "output_type": "execute_result"
    }
   ],
   "source": [
    "companies = json.loads(REDIS.get('companies').decode())\n",
    "stock_tickers = list(companies.keys())\n",
    "stock_tickers"
   ]
  },
  {
   "cell_type": "code",
   "execution_count": 17,
   "metadata": {},
   "outputs": [
    {
     "data": {
      "text/plain": [
       "datetime.datetime(2018, 2, 1, 20, 29, 26, 66148)"
      ]
     },
     "execution_count": 17,
     "metadata": {},
     "output_type": "execute_result"
    }
   ],
   "source": [
    "#Manager Log\n",
    "# Need to send Number of Companies, Rate\n",
    "now = datetime.datetime.now()\n",
    "now"
   ]
  },
  {
   "cell_type": "markdown",
   "metadata": {},
   "source": [
    "### IEX Code"
   ]
  },
  {
   "cell_type": "code",
   "execution_count": 2,
   "metadata": {},
   "outputs": [],
   "source": [
    "User = %env DB_USER\n",
    "password = %env DB_PWD\n",
    "dbname = %env DB_NAME"
   ]
  },
  {
   "cell_type": "code",
   "execution_count": 3,
   "metadata": {},
   "outputs": [
    {
     "name": "stderr",
     "output_type": "stream",
     "text": [
      "/usr/local/lib/python3.6/site-packages/ipykernel_launcher.py:57: SADeprecationWarning: reflect=True is deprecate; please use the reflect() method.\n"
     ]
    }
   ],
   "source": [
    "#Want to create a simple list, and then convert the time stamps\n",
    "attributes = ['latestUpdate',\n",
    "             'companyName',\n",
    "             'latestPrice',\n",
    "              'latestVolume',\n",
    "              'marketCap',\n",
    "              'open',\n",
    "              'previousClose',\n",
    "              'sector',\n",
    "              'high',\n",
    "              'low',\n",
    "              'ytdChange',\n",
    "              'peRatio',\n",
    "              'week52High',\n",
    "              'week52Low'\n",
    "               ]\n",
    "def filter_stock_attributes(data):\n",
    "    output = {}\n",
    "    #Choose filter attributes\n",
    "    for element in attributes:\n",
    "        output[element]=data[element]\n",
    "    \n",
    "    #Convert time\n",
    "    ctime = output['latestUpdate']/1000\n",
    "    new_time = time.strftime('%Y-%m-%d %H:%M:%S', time.localtime(ctime))\n",
    "    output['latestUpdate']= new_time\n",
    "    \n",
    "    return output\n",
    "\n",
    "#Create function to fetch the stock data. This is to prepare for the schedule.\n",
    "def fetch_stock_data(stocks=[]):\n",
    "    \n",
    "    for ticker in stocks:\n",
    "        url = \"https://api.iextrading.com/1.0/stock/{}/quote\".format(ticker)\n",
    "        response = urllib.request.urlopen(url)\n",
    "        str_response = response.read().decode('utf-8')\n",
    "        obj = json.loads(str_response)\n",
    "        filtered = filter_stock_attributes(obj)\n",
    "        #Add counter to count stocks. \n",
    "        REDIS.incr('IEX_Stock_Count')\n",
    "        #<----- Insert to Kinesis Stream ------->\n",
    "        #response = kinesis.put_record(StreamName=\"IEX_Stream\", Data=json.dumps(filtered), PartitionKey=\"partitionkey\")\n",
    "        print('---------------------------------')\n",
    "        #print(response)\n",
    "        print(filtered)\n",
    "\n",
    "#Setup Log\n",
    "\n",
    "global past_stock_count\n",
    "past_stock_count = 0\n",
    "\n",
    "#Setup Database\n",
    "engine = create_engine('mysql+mysqlconnector://{}:{}@db:3306/{}'.format(User, password, dbname), echo=False)\n",
    "conn = engine.connect()\n",
    "\n",
    "#Create table object\n",
    "meta = MetaData(engine,reflect=True)\n",
    "table = meta.tables['log']\n",
    "\n",
    "def log():\n",
    "    #Need to log: Time, Source, Current Count, Count Diff\n",
    "    now = datetime.datetime.now()\n",
    "    current_stock_count = int(REDIS.get('IEX_Stock_Count'))\n",
    "    \n",
    "     \n",
    "    global past_stock_count\n",
    "    stock_count_diff = current_stock_count - past_stock_count\n",
    "    past_stock_count = current_stock_count\n",
    "    \n",
    "    #Need to log these items to a database.\n",
    "    ins = table.insert().values(\n",
    "            log_time = now,\n",
    "            Source = 'IEX',\n",
    "            Current_Count=current_stock_count,\n",
    "            Count_Diff=stock_count_diff\n",
    "               )\n",
    "    conn.execute(ins)\n",
    "    print('Logged Data')"
   ]
  },
  {
   "cell_type": "code",
   "execution_count": 5,
   "metadata": {},
   "outputs": [
    {
     "name": "stdout",
     "output_type": "stream",
     "text": [
      "---------------------------------\n",
      "{'latestUpdate': '2018-02-01 21:00:00', 'companyName': 'Apple Inc.', 'latestPrice': 167.78, 'latestVolume': 43199058, 'marketCap': 853506255680, 'open': 167.24, 'previousClose': 167.43, 'sector': 'Technology', 'high': 168.62, 'low': 166.76, 'ytdChange': -0.028039010797631398, 'peRatio': 18.24, 'week52High': 180.1, 'week52Low': 127.01}\n",
      "---------------------------------\n",
      "{'latestUpdate': '2018-02-01 21:00:00', 'companyName': 'Facebook Inc.', 'latestPrice': 193.09, 'latestVolume': 53791860, 'marketCap': 561082611151, 'open': 187.96, 'previousClose': 186.89, 'sector': 'Technology', 'high': 195.32, 'low': 187.89, 'ytdChange': 0.030151030757358612, 'peRatio': 37.2, 'week52High': 193.09, 'week52Low': 130.3}\n",
      "---------------------------------\n",
      "{'latestUpdate': '2018-02-01 21:00:00', 'companyName': 'Alphabet Inc.', 'latestPrice': 1167.7, 'latestVolume': 2364962, 'marketCap': 811320425015, 'open': 1162.61, 'previousClose': 1169.94, 'sector': 'Technology', 'high': 1174, 'low': 1157.52, 'ytdChange': 0.09853521126760569, 'peRatio': None, 'week52High': 1186.89, 'week52Low': 791.19}\n"
     ]
    },
    {
     "ename": "KeyboardInterrupt",
     "evalue": "",
     "output_type": "error",
     "traceback": [
      "\u001b[0;31m---------------------------------------------------------------------------\u001b[0m",
      "\u001b[0;31mKeyboardInterrupt\u001b[0m                         Traceback (most recent call last)",
      "\u001b[0;32m<ipython-input-5-71f4c5942801>\u001b[0m in \u001b[0;36m<module>\u001b[0;34m()\u001b[0m\n\u001b[1;32m     12\u001b[0m \u001b[0;32mwhile\u001b[0m \u001b[0;32mTrue\u001b[0m\u001b[0;34m:\u001b[0m\u001b[0;34m\u001b[0m\u001b[0m\n\u001b[1;32m     13\u001b[0m     \u001b[0mschedule\u001b[0m\u001b[0;34m.\u001b[0m\u001b[0mrun_pending\u001b[0m\u001b[0;34m(\u001b[0m\u001b[0;34m)\u001b[0m\u001b[0;34m\u001b[0m\u001b[0m\n\u001b[0;32m---> 14\u001b[0;31m     \u001b[0mtime\u001b[0m\u001b[0;34m.\u001b[0m\u001b[0msleep\u001b[0m\u001b[0;34m(\u001b[0m\u001b[0;36m1\u001b[0m\u001b[0;34m)\u001b[0m\u001b[0;34m\u001b[0m\u001b[0m\n\u001b[0m",
      "\u001b[0;31mKeyboardInterrupt\u001b[0m: "
     ]
    }
   ],
   "source": [
    "#Read Data-Store\n",
    "companies = json.loads(REDIS.get('companies').decode())\n",
    "stock_tickers = list(companies.keys())\n",
    "REDIS.set('IEX_Stock_Count', 0)\n",
    "\n",
    "#Setup Schedule\n",
    "schedule.clear()\n",
    "schedule.every(10).seconds.do(fetch_stock_data, stocks=stock_tickers)\n",
    "schedule.every(60).seconds.do(log)\n",
    "\n",
    "#Execute\n",
    "while True:\n",
    "    schedule.run_pending()\n",
    "    time.sleep(1)"
   ]
  },
  {
   "cell_type": "code",
   "execution_count": null,
   "metadata": {
    "collapsed": true
   },
   "outputs": [],
   "source": []
  }
 ],
 "metadata": {
  "kernelspec": {
   "display_name": "Python 3",
   "language": "python",
   "name": "python3"
  },
  "language_info": {
   "codemirror_mode": {
    "name": "ipython",
    "version": 3
   },
   "file_extension": ".py",
   "mimetype": "text/x-python",
   "name": "python",
   "nbconvert_exporter": "python",
   "pygments_lexer": "ipython3",
   "version": "3.6.3"
  }
 },
 "nbformat": 4,
 "nbformat_minor": 2
}
