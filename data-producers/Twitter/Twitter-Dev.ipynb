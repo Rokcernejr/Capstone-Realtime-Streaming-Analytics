{
 "cells": [
  {
   "cell_type": "code",
   "execution_count": 15,
   "metadata": {},
   "outputs": [],
   "source": [
    "#Imports\n",
    "import redis\n",
    "import urllib.request\n",
    "import json\n",
    "import numpy as np\n",
    "import pandas as pd\n",
    "import schedule\n",
    "import time\n",
    "import boto3\n",
    "\n",
    "#Twitter requirements\n",
    "from tweepy.streaming import StreamListener\n",
    "from tweepy import OAuthHandler\n",
    "from tweepy import Stream\n",
    "from tweepy import API\n",
    "\n",
    "kinesis = boto3.client('kinesis', region_name='us-east-1')\n",
    "\n",
    "\n",
    "#Connect to Redis-DataStore\n",
    "REDIS = redis.Redis(host='data_store')"
   ]
  },
  {
   "cell_type": "code",
   "execution_count": 13,
   "metadata": {},
   "outputs": [],
   "source": [
    "#Get Environment Variables\n",
    "ACCESS_TOKEN = %env ACCESS_TOKEN\n",
    "ACCESS_TOKEN_SECRET = %env ACCESS_TOKEN_SECRET\n",
    "CONSUMER_KEY = %env CONSUMER_KEY\n",
    "CONSUMER_SECRET = %env CONSUMER_SECRET"
   ]
  },
  {
   "cell_type": "markdown",
   "metadata": {},
   "source": [
    "#### Build Company DataFrame"
   ]
  },
  {
   "cell_type": "code",
   "execution_count": 7,
   "metadata": {},
   "outputs": [
    {
     "data": {
      "text/html": [
       "<div>\n",
       "<style scoped>\n",
       "    .dataframe tbody tr th:only-of-type {\n",
       "        vertical-align: middle;\n",
       "    }\n",
       "\n",
       "    .dataframe tbody tr th {\n",
       "        vertical-align: top;\n",
       "    }\n",
       "\n",
       "    .dataframe thead th {\n",
       "        text-align: right;\n",
       "    }\n",
       "</style>\n",
       "<table border=\"1\" class=\"dataframe\">\n",
       "  <thead>\n",
       "    <tr style=\"text-align: right;\">\n",
       "      <th></th>\n",
       "      <th>Company</th>\n",
       "      <th>tweet_ticker</th>\n",
       "    </tr>\n",
       "    <tr>\n",
       "      <th>Ticker</th>\n",
       "      <th></th>\n",
       "      <th></th>\n",
       "    </tr>\n",
       "  </thead>\n",
       "  <tbody>\n",
       "    <tr>\n",
       "      <th>AAPL</th>\n",
       "      <td>Apple</td>\n",
       "      <td>$AAPL</td>\n",
       "    </tr>\n",
       "    <tr>\n",
       "      <th>FB</th>\n",
       "      <td>Facebook</td>\n",
       "      <td>$FB</td>\n",
       "    </tr>\n",
       "    <tr>\n",
       "      <th>GOOG</th>\n",
       "      <td>Google</td>\n",
       "      <td>$GOOG</td>\n",
       "    </tr>\n",
       "  </tbody>\n",
       "</table>\n",
       "</div>"
      ],
      "text/plain": [
       "         Company tweet_ticker\n",
       "Ticker                       \n",
       "AAPL       Apple        $AAPL\n",
       "FB      Facebook          $FB\n",
       "GOOG      Google        $GOOG"
      ]
     },
     "execution_count": 7,
     "metadata": {},
     "output_type": "execute_result"
    }
   ],
   "source": [
    "companies = json.loads(REDIS.get('companies').decode())\n",
    "company_df = pd.DataFrame.from_dict(companies, orient='index')\n",
    "company_df.index.name = 'Ticker'\n",
    "company_df.columns=['Company']\n",
    "#Add code to add ticker symbol\n",
    "company_df['tweet_ticker']=company_df.index.map(lambda x: '$'+x)\n",
    "\n",
    "company_df.head()"
   ]
  },
  {
   "cell_type": "code",
   "execution_count": 9,
   "metadata": {},
   "outputs": [],
   "source": [
    "tickers = company_df['tweet_ticker'].tolist()"
   ]
  },
  {
   "cell_type": "code",
   "execution_count": 20,
   "metadata": {},
   "outputs": [],
   "source": [
    "#Want to create a simple list, but how do I handle the users sub?\n",
    "attributes = ['created_at',\n",
    "             'id_str',\n",
    "             'text',\n",
    "              'quote_count',\n",
    "              'reply_count',\n",
    "              'retweet_count',\n",
    "              'favorite_count',\n",
    "              'retweeted',\n",
    "              'lang',\n",
    "              ['user','name'],\n",
    "              ['user','followers_count'],\n",
    "              ['user','statuses_count'],\n",
    "              ['user','screen_name'],\n",
    "              ['entities','hashtags'],\n",
    "              ['entities','symbols']\n",
    "               ]\n",
    "def filter_attr(data):\n",
    "    output = {}\n",
    "    #Choose filter attributes\n",
    "    for element in attributes:\n",
    "        if isinstance(element, str):\n",
    "            output[element]=data[element]\n",
    "        #Handle Nested Attributes\n",
    "        else:\n",
    "            string = str(element[0])+'_'+str(element[1])\n",
    "            output[string]=data[element[0]][element[1]]\n",
    "  \n",
    "    #Need to also add the company name to output dictionary.\n",
    "    #Add all companies tweet applies to in list\n",
    "    attached_company = []\n",
    "    \n",
    "    for company in tickers:\n",
    "        if data['text'].find(company) > -1:\n",
    "            attached_company.append(company[1:])\n",
    "            \n",
    "    \n",
    "    output['Company']=attached_company             \n",
    "    \n",
    "    return output\n",
    "\n",
    "#This is a basic listener that just prints received tweets to stdout.\n",
    "class TweetListener(StreamListener):\n",
    "    \n",
    "    def on_data(self, data):\n",
    "        try:\n",
    "            datajson = json.loads(data)\n",
    "            filtered = filter_attr(datajson)\n",
    "            #Check to see if a valid tweet\n",
    "            if filtered['Company'] and filtered['lang']=='en':\n",
    "                \n",
    "                print(filtered)\n",
    "                #Add counter to count stocks. \n",
    "                REDIS.incr('Twitter_Stock_Count')\n",
    "                #---------- Insert to Kinesis Stream --------------\n",
    "                response = kinesis.put_record(StreamName=\"Twitter_Stream\", Data=json.dumps(filtered), PartitionKey=\"partitionkey\")\n",
    "                return True\n",
    "            \n",
    "        except Exception as e:\n",
    "            print(e)\n",
    "\n",
    "    def on_error(self, status):\n",
    "        print('The error code is: ' + repr(status))\n",
    "        #Continue even if there is an error\n",
    "        return True\n",
    "\n"
   ]
  },
  {
   "cell_type": "code",
   "execution_count": null,
   "metadata": {},
   "outputs": [],
   "source": [
    "REDIS.set('Twitter_Stock_Count', 0)\n",
    "\n",
    "#This handles Twitter authetication and the connection to Twitter Streaming API\n",
    "tweetlist = TweetListener(api=API(wait_on_rate_limit=True,wait_on_rate_limit_notify=True))\n",
    "auth = OAuthHandler(CONSUMER_KEY,CONSUMER_SECRET)\n",
    "auth.set_access_token(ACCESS_TOKEN,ACCESS_TOKEN_SECRET)\n",
    "stream = Stream(auth, tweetlist)\n",
    "\n",
    "#Filters by the ticker names\n",
    "print('Filtering: ' + str(tickers))\n",
    "stream.filter(track=tickers)"
   ]
  }
 ],
 "metadata": {
  "kernelspec": {
   "display_name": "Python 3",
   "language": "python",
   "name": "python3"
  },
  "language_info": {
   "codemirror_mode": {
    "name": "ipython",
    "version": 3
   },
   "file_extension": ".py",
   "mimetype": "text/x-python",
   "name": "python",
   "nbconvert_exporter": "python",
   "pygments_lexer": "ipython3",
   "version": "3.6.3"
  }
 },
 "nbformat": 4,
 "nbformat_minor": 2
}
